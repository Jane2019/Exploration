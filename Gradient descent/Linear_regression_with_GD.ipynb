{
  "nbformat": 4,
  "nbformat_minor": 0,
  "metadata": {
    "colab": {
      "name": "Linear regression with GD.ipynb",
      "provenance": [],
      "collapsed_sections": []
    },
    "kernelspec": {
      "display_name": "Python 3",
      "language": "python",
      "name": "python3"
    },
    "language_info": {
      "codemirror_mode": {
        "name": "ipython",
        "version": 3
      },
      "file_extension": ".py",
      "mimetype": "text/x-python",
      "name": "python",
      "nbconvert_exporter": "python",
      "pygments_lexer": "ipython3",
      "version": "3.7.4"
    }
  },
  "cells": [
    {
      "cell_type": "markdown",
      "metadata": {
        "colab_type": "text",
        "id": "Jn-UWaxnwA4K"
      },
      "source": [
        "## Linear Regression - Introduction"
      ]
    },
    {
      "cell_type": "markdown",
      "metadata": {
        "colab_type": "text",
        "id": "kS-L6yG_wA4L"
      },
      "source": [
        "### Linear Regression"
      ]
    },
    {
      "cell_type": "markdown",
      "metadata": {
        "id": "2mFMzlbcbcs0",
        "colab_type": "text"
      },
      "source": [
        "In statistics, linear regression is a linear approach to modelling the relationship between a dependent variable and one or more independent variables. Let X be the independent variable and Y be the dependent variable. We will define a linear relationship between these two variables as follows:"
      ]
    },
    {
      "cell_type": "markdown",
      "metadata": {
        "id": "R3JNdY_Cbcs0",
        "colab_type": "text"
      },
      "source": [
        "$y = wX + b$"
      ]
    },
    {
      "cell_type": "markdown",
      "metadata": {
        "id": "6YAZTV1Mbcs1",
        "colab_type": "text"
      },
      "source": [
        "w is the slope of the line and b is the y intercept. Today we will use this equation to train our model with a given dataset and predict the value of Y for any given value of X. Our task today is to determine the value of w and b, such that the line corresponding to those values is the best fitting line or gives the minimum error."
      ]
    },
    {
      "cell_type": "markdown",
      "metadata": {
        "id": "_lhIIg3Pbcs2",
        "colab_type": "text"
      },
      "source": [
        "The vectorized form of above equation is written as $y = Xw$, where y and w are vectors while X is a matrix. \n",
        "\n",
        "The b term is included within the X matrix.\n"
      ]
    },
    {
      "cell_type": "markdown",
      "metadata": {
        "id": "qyYxxkfAbcs2",
        "colab_type": "text"
      },
      "source": [
        "**Hypothesis of Linear Regression**"
      ]
    },
    {
      "cell_type": "markdown",
      "metadata": {
        "id": "KUz5wFvUbcs3",
        "colab_type": "text"
      },
      "source": [
        "The linear regression model can be represented by the following equation:"
      ]
    },
    {
      "cell_type": "markdown",
      "metadata": {
        "id": "VyqwDStzWaAB",
        "colab_type": "text"
      },
      "source": [
        "\n",
        "\n",
        "#$y= w_1x_1 + w_2x_2 + ......+w_nx_n + b(1)$\n",
        "\n"
      ]
    },
    {
      "cell_type": "markdown",
      "metadata": {
        "id": "qPdf8fFhaU50",
        "colab_type": "text"
      },
      "source": [
        "The bias term can further be incorporated into the equation as an additional weight with cofficient 1"
      ]
    },
    {
      "cell_type": "markdown",
      "metadata": {
        "id": "ADMnqhJDaeiF",
        "colab_type": "text"
      },
      "source": [
        "#$y= w_1x_1 + w_2x_2 + ......+w_nx_n + w_0(1)$"
      ]
    },
    {
      "cell_type": "markdown",
      "metadata": {
        "colab_type": "text",
        "id": "bD4i39QVwA4O"
      },
      "source": [
        "### LR - Procedure"
      ]
    },
    {
      "cell_type": "markdown",
      "metadata": {
        "id": "y6AiJnqnbcs5",
        "colab_type": "text"
      },
      "source": [
        "Our Loss function for Linear regression would be sum of squares, which makes the cost function to be:"
      ]
    },
    {
      "cell_type": "markdown",
      "metadata": {
        "id": "RUIa2Og3bcs5",
        "colab_type": "text"
      },
      "source": [
        "\n",
        "#$L(y,t)=\\frac{1}{2}\\ (y-t)^2$"
      ]
    },
    {
      "cell_type": "markdown",
      "metadata": {
        "id": "53bIKpy5bcs6",
        "colab_type": "text"
      },
      "source": [
        "Here t is the actual value and y is the predicted value. \n",
        "For the simplest case lets assume a straight line with folowing equation Lets substitute the value of y from $y = wx + b$:"
      ]
    },
    {
      "cell_type": "markdown",
      "metadata": {
        "id": "FZERyj_zcpku",
        "colab_type": "text"
      },
      "source": [
        "#$J=\\frac{1}{2N}[\\sum_{i=1}^N((wx^{(i)}+b)-t^{(i)})^2]$"
      ]
    },
    {
      "cell_type": "markdown",
      "metadata": {
        "id": "w5GC9wklbcs7",
        "colab_type": "text"
      },
      "source": [
        "Partial Derivative of the above equation with respect to w is shown here:\n"
      ]
    },
    {
      "cell_type": "markdown",
      "metadata": {
        "id": "wKB_CwH_dwfU",
        "colab_type": "text"
      },
      "source": [
        "#$\\frac{{\\partial J}}{\\partial w}=\\frac{1}{2N}[\\sum_{i=0}^N2((wx^{(i)}+b\n",
        ")-t^{(i)})(x^{(i)})]$\n",
        "\n",
        "#$\\frac{{\\partial J}}{\\partial w}=\\frac{1}{N}[\\sum_{i=0}^Nx^{(i)}(y^{(i)}-t^{(i)})]$"
      ]
    },
    {
      "cell_type": "markdown",
      "metadata": {
        "id": "T4bzLgyXbcs7",
        "colab_type": "text"
      },
      "source": [
        "While the Partial Derivative with respect to b is shown here"
      ]
    },
    {
      "cell_type": "markdown",
      "metadata": {
        "id": "0wLmX5mAgslo",
        "colab_type": "text"
      },
      "source": [
        "#$\\frac{\\partial J}{\\partial b}=\\frac{1}{N}[\\sum_{i=0}^N(y^{(i)}-t^{(i)})]$"
      ]
    },
    {
      "cell_type": "markdown",
      "metadata": {
        "id": "o_qnAm8tbcs_",
        "colab_type": "text"
      },
      "source": [
        "The solution for the general case comes out to be:"
      ]
    },
    {
      "cell_type": "markdown",
      "metadata": {
        "id": "91CsuqsUbcs_",
        "colab_type": "text"
      },
      "source": [
        "#$w = (X^TX)^{-1}X^Tt$"
      ]
    },
    {
      "cell_type": "markdown",
      "metadata": {
        "id": "nuHJAOmvbctA",
        "colab_type": "text"
      },
      "source": [
        "With $L_2$ Regularization. Cost:"
      ]
    },
    {
      "cell_type": "markdown",
      "metadata": {
        "id": "eCDCGqdbbctB",
        "colab_type": "text"
      },
      "source": [
        "#$J(w) = \\frac{1}{2N}[\\sum_{i=1}^N(h_w (x^{(i)}) - t^{(i)})^2 + \\lambda\\sum_{j=1}^nw^2_j]$ "
      ]
    },
    {
      "cell_type": "markdown",
      "metadata": {
        "id": "w484FOiDbctC",
        "colab_type": "text"
      },
      "source": [
        "#$w = (X^TX + \\lambda I)^{-1}X^Tt$"
      ]
    },
    {
      "cell_type": "markdown",
      "metadata": {
        "colab_type": "text",
        "heading_collapsed": true,
        "id": "iQyQ3hA6bctC"
      },
      "source": [
        "#### Gradient Descent Solution"
      ]
    },
    {
      "cell_type": "markdown",
      "metadata": {
        "hidden": true,
        "id": "4nPHi1eSbctC",
        "colab_type": "text"
      },
      "source": [
        "Gradient descent uses the equations for gradient derived above to find the direction. "
      ]
    },
    {
      "cell_type": "markdown",
      "metadata": {
        "id": "YcGpaxKYh8tk",
        "colab_type": "text"
      },
      "source": [
        "# $w_j=w_j-\\alpha*\\frac{{\\partial J}}{\\partial w}$\n",
        "\n",
        "# $b_j=b_j-\\alpha*\\frac{{\\partial J}}{\\partial b}$"
      ]
    },
    {
      "cell_type": "markdown",
      "metadata": {
        "hidden": true,
        "id": "TmX3-0DYbctD",
        "colab_type": "text"
      },
      "source": [
        "$\\alpha$ is defined as the learning rate."
      ]
    },
    {
      "cell_type": "markdown",
      "metadata": {
        "id": "VPNKfSh1bctG",
        "colab_type": "text"
      },
      "source": [
        "### Import library"
      ]
    },
    {
      "cell_type": "code",
      "metadata": {
        "id": "_pUP_nOYbctG",
        "colab_type": "code",
        "colab": {}
      },
      "source": [
        "import numpy as np\n",
        "import pandas as pd\n",
        "import matplotlib.pyplot as plt\n",
        "import seaborn as sns\n",
        "from sklearn.linear_model import LinearRegression\n",
        "from sklearn.linear_model import Ridge\n",
        "from sklearn.preprocessing import PolynomialFeatures\n",
        "from sklearn.metrics import mean_squared_error"
      ],
      "execution_count": 0,
      "outputs": []
    },
    {
      "cell_type": "code",
      "metadata": {
        "colab_type": "code",
        "id": "JovOQ0vygHUA",
        "colab": {}
      },
      "source": [
        "def rmse(yPred, y):\n",
        "    return np.sqrt(mean_squared_error(yPred, y))"
      ],
      "execution_count": 0,
      "outputs": []
    },
    {
      "cell_type": "markdown",
      "metadata": {
        "id": "oVKTzp4Hbct2",
        "colab_type": "text"
      },
      "source": [
        "### Data overview"
      ]
    },
    {
      "cell_type": "markdown",
      "metadata": {
        "id": "Y62qieYVbct2",
        "colab_type": "text"
      },
      "source": [
        "The Housing dataset which contains information about different houses in Boston. This data was originally a part of UCI Machine Learning Repository and has been removed now. We can also access this data from the scikit-learn library. Three additional feature were added to this dataset using feature engineering.The objective is to predict the value of prices of the house using the given features.\n"
      ]
    },
    {
      "cell_type": "code",
      "metadata": {
        "id": "wVI7N2nWbct3",
        "colab_type": "code",
        "colab": {}
      },
      "source": [
        "df = pd.read_csv(\"https://raw.githubusercontent.com/Saket-Uoft/Data/master/data.csv\")"
      ],
      "execution_count": 0,
      "outputs": []
    },
    {
      "cell_type": "code",
      "metadata": {
        "id": "M7RdRezwKLF_",
        "colab_type": "code",
        "colab": {}
      },
      "source": [
        "df = df.drop('Unnamed: 0', axis=1)"
      ],
      "execution_count": 0,
      "outputs": []
    },
    {
      "cell_type": "code",
      "metadata": {
        "id": "Q5hdwpwyKw5M",
        "colab_type": "code",
        "outputId": "91770da5-0033-4e4f-9201-755d75535ef7",
        "colab": {
          "base_uri": "https://localhost:8080/",
          "height": 138
        }
      },
      "source": [
        "df.head(3)"
      ],
      "execution_count": 0,
      "outputs": [
        {
          "output_type": "execute_result",
          "data": {
            "text/html": [
              "<div>\n",
              "<style scoped>\n",
              "    .dataframe tbody tr th:only-of-type {\n",
              "        vertical-align: middle;\n",
              "    }\n",
              "\n",
              "    .dataframe tbody tr th {\n",
              "        vertical-align: top;\n",
              "    }\n",
              "\n",
              "    .dataframe thead th {\n",
              "        text-align: right;\n",
              "    }\n",
              "</style>\n",
              "<table border=\"1\" class=\"dataframe\">\n",
              "  <thead>\n",
              "    <tr style=\"text-align: right;\">\n",
              "      <th></th>\n",
              "      <th>CRIM</th>\n",
              "      <th>ZN</th>\n",
              "      <th>INDUS</th>\n",
              "      <th>CHAS</th>\n",
              "      <th>NOX</th>\n",
              "      <th>RM</th>\n",
              "      <th>AGE</th>\n",
              "      <th>DIS</th>\n",
              "      <th>RAD</th>\n",
              "      <th>TAX</th>\n",
              "      <th>PTRATIO</th>\n",
              "      <th>B</th>\n",
              "      <th>LSTAT</th>\n",
              "      <th>New</th>\n",
              "      <th>New1</th>\n",
              "      <th>New2</th>\n",
              "      <th>MEDV</th>\n",
              "    </tr>\n",
              "  </thead>\n",
              "  <tbody>\n",
              "    <tr>\n",
              "      <th>0</th>\n",
              "      <td>0.00632</td>\n",
              "      <td>18.0</td>\n",
              "      <td>2.31</td>\n",
              "      <td>0.0</td>\n",
              "      <td>0.538</td>\n",
              "      <td>6.575</td>\n",
              "      <td>65.2</td>\n",
              "      <td>4.0900</td>\n",
              "      <td>1.0</td>\n",
              "      <td>296.0</td>\n",
              "      <td>15.3</td>\n",
              "      <td>396.90</td>\n",
              "      <td>4.98</td>\n",
              "      <td>20.31</td>\n",
              "      <td>0.0</td>\n",
              "      <td>13231.610</td>\n",
              "      <td>24.0</td>\n",
              "    </tr>\n",
              "    <tr>\n",
              "      <th>1</th>\n",
              "      <td>0.02731</td>\n",
              "      <td>0.0</td>\n",
              "      <td>7.07</td>\n",
              "      <td>0.0</td>\n",
              "      <td>0.469</td>\n",
              "      <td>6.421</td>\n",
              "      <td>78.9</td>\n",
              "      <td>4.9671</td>\n",
              "      <td>2.0</td>\n",
              "      <td>242.0</td>\n",
              "      <td>17.8</td>\n",
              "      <td>396.90</td>\n",
              "      <td>9.14</td>\n",
              "      <td>7.07</td>\n",
              "      <td>0.0</td>\n",
              "      <td>12038.120</td>\n",
              "      <td>21.6</td>\n",
              "    </tr>\n",
              "    <tr>\n",
              "      <th>2</th>\n",
              "      <td>0.02729</td>\n",
              "      <td>0.0</td>\n",
              "      <td>7.07</td>\n",
              "      <td>0.0</td>\n",
              "      <td>0.469</td>\n",
              "      <td>7.185</td>\n",
              "      <td>61.1</td>\n",
              "      <td>4.9671</td>\n",
              "      <td>2.0</td>\n",
              "      <td>242.0</td>\n",
              "      <td>17.8</td>\n",
              "      <td>392.83</td>\n",
              "      <td>4.03</td>\n",
              "      <td>7.07</td>\n",
              "      <td>0.0</td>\n",
              "      <td>7797.856</td>\n",
              "      <td>34.7</td>\n",
              "    </tr>\n",
              "  </tbody>\n",
              "</table>\n",
              "</div>"
            ],
            "text/plain": [
              "      CRIM    ZN  INDUS  CHAS    NOX  ...  LSTAT    New  New1       New2  MEDV\n",
              "0  0.00632  18.0   2.31   0.0  0.538  ...   4.98  20.31   0.0  13231.610  24.0\n",
              "1  0.02731   0.0   7.07   0.0  0.469  ...   9.14   7.07   0.0  12038.120  21.6\n",
              "2  0.02729   0.0   7.07   0.0  0.469  ...   4.03   7.07   0.0   7797.856  34.7\n",
              "\n",
              "[3 rows x 17 columns]"
            ]
          },
          "metadata": {
            "tags": []
          },
          "execution_count": 6
        }
      ]
    },
    {
      "cell_type": "code",
      "metadata": {
        "id": "jjPZg0O3Kzys",
        "colab_type": "code",
        "outputId": "cff62f2e-ea8f-4155-8294-63267a37c782",
        "colab": {
          "base_uri": "https://localhost:8080/",
          "height": 34
        }
      },
      "source": [
        "df.shape"
      ],
      "execution_count": 0,
      "outputs": [
        {
          "output_type": "execute_result",
          "data": {
            "text/plain": [
              "(506, 17)"
            ]
          },
          "metadata": {
            "tags": []
          },
          "execution_count": 7
        }
      ]
    },
    {
      "cell_type": "markdown",
      "metadata": {
        "id": "94KuAUYObct8",
        "colab_type": "text"
      },
      "source": [
        "We can see that the target value is given by name by the name MEDV "
      ]
    },
    {
      "cell_type": "code",
      "metadata": {
        "id": "pogI_Oxwbct_",
        "colab_type": "code",
        "outputId": "bdb7d8a3-d226-4711-f57c-49a5f4eeac7d",
        "colab": {
          "base_uri": "https://localhost:8080/",
          "height": 328
        }
      },
      "source": [
        "# detect any null data point\n",
        "df.isnull().sum()"
      ],
      "execution_count": 0,
      "outputs": [
        {
          "output_type": "execute_result",
          "data": {
            "text/plain": [
              "CRIM       0\n",
              "ZN         0\n",
              "INDUS      0\n",
              "CHAS       0\n",
              "NOX        0\n",
              "RM         0\n",
              "AGE        0\n",
              "DIS        0\n",
              "RAD        0\n",
              "TAX        0\n",
              "PTRATIO    0\n",
              "B          0\n",
              "LSTAT      0\n",
              "New        0\n",
              "New1       0\n",
              "New2       0\n",
              "MEDV       0\n",
              "dtype: int64"
            ]
          },
          "metadata": {
            "tags": []
          },
          "execution_count": 8
        }
      ]
    },
    {
      "cell_type": "markdown",
      "metadata": {
        "id": "KJeJAOaXbcuA",
        "colab_type": "text"
      },
      "source": [
        "#### Exploratory Data Analysis"
      ]
    },
    {
      "cell_type": "code",
      "metadata": {
        "id": "nDib1k9C22Tc",
        "colab_type": "code",
        "outputId": "7ab399d7-31cd-4696-ab8a-f24e5b336146",
        "colab": {
          "base_uri": "https://localhost:8080/",
          "height": 285
        }
      },
      "source": [
        "sns.set(rc={'figure.figsize':(6, 4)})\n",
        "sns.distplot(df['MEDV'], bins=30)\n",
        "plt.show()"
      ],
      "execution_count": 0,
      "outputs": [
        {
          "output_type": "display_data",
          "data": {
            "image/png": "[encoded data removed]",
            "text/plain": [
              "<Figure size 432x288 with 1 Axes>"
            ]
          },
          "metadata": {
            "tags": []
          }
        }
      ]
    },
    {
      "cell_type": "markdown",
      "metadata": {
        "id": "wyrv1OqrbcuC",
        "colab_type": "text"
      },
      "source": [
        "We can see that it mostly normally distributed with a few outliers."
      ]
    },
    {
      "cell_type": "markdown",
      "metadata": {
        "colab_type": "text",
        "id": "6tehit023NGh"
      },
      "source": [
        "## Linear Regression"
      ]
    },
    {
      "cell_type": "markdown",
      "metadata": {
        "colab_type": "text",
        "id": "o4UwjkNZ3NGk"
      },
      "source": [
        "## Data Prepration"
      ]
    },
    {
      "cell_type": "markdown",
      "metadata": {
        "colab_type": "text",
        "id": "MKRMb9Ju3NGl"
      },
      "source": [
        "- Split the multivariate data into training/validation data = 2:8\n",
        "\n",
        "- Normalize the data using StandardScaler from sklearn."
      ]
    },
    {
      "cell_type": "code",
      "metadata": {
        "id": "NtzhQz8DO15L",
        "colab_type": "code",
        "colab": {}
      },
      "source": [
        "y = df['MEDV']\n",
        "X = df.drop(['MEDV'], axis=1)"
      ],
      "execution_count": 0,
      "outputs": []
    },
    {
      "cell_type": "code",
      "metadata": {
        "id": "HcEwZ_HoJeLR",
        "colab_type": "code",
        "colab": {}
      },
      "source": [
        "from sklearn.model_selection import train_test_split\n",
        "X_train, X_test, y_train, y_test = train_test_split(X, y, test_size=0.2, random_state=6)"
      ],
      "execution_count": 0,
      "outputs": []
    },
    {
      "cell_type": "code",
      "metadata": {
        "id": "rJRp3BWISgJ4",
        "colab_type": "code",
        "outputId": "a43fc73d-e54b-4286-f21e-beb68c24685a",
        "colab": {
          "base_uri": "https://localhost:8080/",
          "height": 34
        }
      },
      "source": [
        "X_train.shape"
      ],
      "execution_count": 0,
      "outputs": [
        {
          "output_type": "execute_result",
          "data": {
            "text/plain": [
              "(404, 16)"
            ]
          },
          "metadata": {
            "tags": []
          },
          "execution_count": 12
        }
      ]
    },
    {
      "cell_type": "code",
      "metadata": {
        "id": "J-sYhf-TSiYC",
        "colab_type": "code",
        "outputId": "61fc10c9-7c7f-46f8-b011-681ecfdc95f5",
        "colab": {
          "base_uri": "https://localhost:8080/",
          "height": 34
        }
      },
      "source": [
        "X_test.shape"
      ],
      "execution_count": 0,
      "outputs": [
        {
          "output_type": "execute_result",
          "data": {
            "text/plain": [
              "(102, 16)"
            ]
          },
          "metadata": {
            "tags": []
          },
          "execution_count": 13
        }
      ]
    },
    {
      "cell_type": "code",
      "metadata": {
        "id": "barDBI-f5Q9s",
        "colab_type": "code",
        "colab": {}
      },
      "source": [
        "from sklearn.preprocessing import StandardScaler\n",
        "scaler = StandardScaler()\n",
        "scaler.fit(X_train)\n",
        "X_train_std = scaler.transform(X_train)\n",
        "X_test_std = scaler.transform(X_test)"
      ],
      "execution_count": 0,
      "outputs": []
    },
    {
      "cell_type": "code",
      "metadata": {
        "id": "wNlx5qbwX9Nx",
        "colab_type": "code",
        "colab": {}
      },
      "source": [
        "X_train_std_new = np.vstack((np.ones(X_train_std.shape[0]), X_train_std.T)).T"
      ],
      "execution_count": 0,
      "outputs": []
    },
    {
      "cell_type": "code",
      "metadata": {
        "id": "EMl8G9beYobf",
        "colab_type": "code",
        "outputId": "a77707b0-7a37-4746-eefe-08d36d055081",
        "colab": {
          "base_uri": "https://localhost:8080/",
          "height": 86
        }
      },
      "source": [
        "X_train_std_new[0]"
      ],
      "execution_count": 0,
      "outputs": [
        {
          "output_type": "execute_result",
          "data": {
            "text/plain": [
              "array([ 1.        , -0.39262879, -0.48699244, -0.58398492, -0.26226526,\n",
              "       -0.90095561, -1.28065634,  0.97094624,  0.9700838 , -0.73532048,\n",
              "       -1.03120804, -0.23241985,  0.43823462,  2.60935849, -0.74468441,\n",
              "       -0.26011017, -0.38675531])"
            ]
          },
          "metadata": {
            "tags": []
          },
          "execution_count": 16
        }
      ]
    },
    {
      "cell_type": "code",
      "metadata": {
        "id": "EqY_CRLdOP-o",
        "colab_type": "code",
        "colab": {}
      },
      "source": [
        "X_test_std_new = np.vstack((np.ones(X_test_std.shape[0]), X_test_std.T)).T"
      ],
      "execution_count": 0,
      "outputs": []
    },
    {
      "cell_type": "code",
      "metadata": {
        "id": "0dPFKoAeY0-0",
        "colab_type": "code",
        "outputId": "d89af94f-c087-4a94-b686-a3e86f0919a0",
        "colab": {
          "base_uri": "https://localhost:8080/",
          "height": 86
        }
      },
      "source": [
        "X_test_std_new[0]"
      ],
      "execution_count": 0,
      "outputs": [
        {
          "output_type": "execute_result",
          "data": {
            "text/plain": [
              "array([ 1.        ,  1.97220887, -0.48699244,  1.0378004 , -0.26226526,\n",
              "        1.03192701,  1.45664211,  1.06287884, -1.19551272,  1.69777584,\n",
              "        1.55883453,  0.82415806,  0.43823462,  0.14608061, -0.21291871,\n",
              "       -0.26011017,  1.58745408])"
            ]
          },
          "metadata": {
            "tags": []
          },
          "execution_count": 18
        }
      ]
    },
    {
      "cell_type": "code",
      "metadata": {
        "id": "qDN-8iE1Rpx2",
        "colab_type": "code",
        "outputId": "4495b131-0b24-4698-a7f3-58d11afde62c",
        "colab": {
          "base_uri": "https://localhost:8080/",
          "height": 34
        }
      },
      "source": [
        "X_train_std_new.shape"
      ],
      "execution_count": 0,
      "outputs": [
        {
          "output_type": "execute_result",
          "data": {
            "text/plain": [
              "(404, 17)"
            ]
          },
          "metadata": {
            "tags": []
          },
          "execution_count": 19
        }
      ]
    },
    {
      "cell_type": "code",
      "metadata": {
        "id": "ecX4jVCmJeVw",
        "colab_type": "code",
        "colab": {}
      },
      "source": [
        "y_train_new = np.array(y_train).reshape(-1, 1)\n",
        "y_test_new = np.array(y_test).reshape(-1,1)"
      ],
      "execution_count": 0,
      "outputs": []
    },
    {
      "cell_type": "markdown",
      "metadata": {
        "id": "EQ6KBnbpbcuE",
        "colab_type": "text"
      },
      "source": [
        "## Direct Solution"
      ]
    },
    {
      "cell_type": "markdown",
      "metadata": {
        "colab_type": "text",
        "id": "qh9g1ead3NG-"
      },
      "source": [
        "Impelement the direct solution for linear regression on the dataset above and find best lambda.\n",
        "\n",
        "- Plot Train error and Validation error as a function of the lambda regularizer.\n",
        "\n",
        "- Find the best lambda where the best fit occurs. This best lambda can be used from here on out."
      ]
    },
    {
      "cell_type": "code",
      "metadata": {
        "id": "l224sdnMFzLA",
        "colab_type": "code",
        "colab": {}
      },
      "source": [
        "# define a function to find the direct solution in vector form\n",
        "# inputs are training data, testing data and lambda options\n",
        "# outputs are weights, training error and testing error for each model with different lambda\n",
        "def DirectSolution(lambda_options, xtraining, xtesting, ytraining, ytesting):\n",
        "  # create empty lists and number of features in training data\n",
        "  TrainError = []\n",
        "  ValidationError = []\n",
        "  Weights = []\n",
        "  N, num = xtraining.shape\n",
        "  for lambd in lambda_options:\n",
        "    # direct weights\n",
        "    w = np.dot(np.linalg.inv(np.dot(xtraining.T, xtraining) + (lambd)*np.identity(num)), np.dot(xtraining.T, ytraining))\n",
        "    Weights.append(w)\n",
        "    # calculate training error and testing error\n",
        "    TrainError.append(rmse(np.dot(xtraining, w), ytraining))\n",
        "    ValidationError.append(rmse(np.dot(xtesting, w), ytesting))\n",
        "  return Weights, TrainError, ValidationError"
      ],
      "execution_count": 0,
      "outputs": []
    },
    {
      "cell_type": "code",
      "metadata": {
        "id": "CdUyFWk2KWCj",
        "colab_type": "code",
        "colab": {}
      },
      "source": [
        "regulizer = np.arange(0,50,0.5)\n",
        "W, train_error, val_error = DirectSolution(regulizer, X_train_std_new, X_test_std_new, y_train_new, y_test_new)"
      ],
      "execution_count": 0,
      "outputs": []
    },
    {
      "cell_type": "code",
      "metadata": {
        "colab_type": "code",
        "outputId": "2df28f73-a388-4f89-8f1a-adccfe1897e5",
        "id": "ik65Mp3Hdg3N",
        "colab": {
          "base_uri": "https://localhost:8080/",
          "height": 285
        }
      },
      "source": [
        "plt.figure(figsize=(6,4))\n",
        "plt.plot(regulizer, train_error, label='Train Error')\n",
        "plt.plot(regulizer, val_error, label='Validation Error')\n",
        "plt.xlabel('Lambda')\n",
        "plt.ylabel('Error')\n",
        "plt.legend()\n",
        "plt.show()"
      ],
      "execution_count": 0,
      "outputs": [
        {
          "output_type": "display_data",
          "data": {
            "image/png": "[encoded data removed]",
            "text/plain": [
              "<Figure size 432x288 with 1 Axes>"
            ]
          },
          "metadata": {
            "tags": []
          }
        }
      ]
    },
    {
      "cell_type": "code",
      "metadata": {
        "id": "1ZxrxDCIjYXU",
        "colab_type": "code",
        "outputId": "ff1126e3-beec-4519-88cc-2e4d806a62f9",
        "colab": {
          "base_uri": "https://localhost:8080/",
          "height": 34
        }
      },
      "source": [
        "# because validation error here is a convex plot\n",
        "# can find out the smallest validation error and the corresponding lambda\n",
        "best_lambda = regulizer[np.argmin(val_error)]\n",
        "best_lambda"
      ],
      "execution_count": 0,
      "outputs": [
        {
          "output_type": "execute_result",
          "data": {
            "text/plain": [
              "8.5"
            ]
          },
          "metadata": {
            "tags": []
          },
          "execution_count": 24
        }
      ]
    },
    {
      "cell_type": "code",
      "metadata": {
        "id": "hoDxLfDHL-l-",
        "colab_type": "code",
        "outputId": "5b94caac-f900-4f27-c3ce-640a3ae46a77",
        "colab": {
          "base_uri": "https://localhost:8080/",
          "height": 311
        }
      },
      "source": [
        "# find the weights based on the model with the best lambda\n",
        "best_weights = W[np.argmin(val_error)]\n",
        "best_weights"
      ],
      "execution_count": 0,
      "outputs": [
        {
          "output_type": "execute_result",
          "data": {
            "text/plain": [
              "array([[22.28581818],\n",
              "       [-0.62398402],\n",
              "       [ 0.55653824],\n",
              "       [-0.52125658],\n",
              "       [ 0.42940281],\n",
              "       [-1.54886058],\n",
              "       [ 2.44616681],\n",
              "       [-0.10058535],\n",
              "       [-3.00185844],\n",
              "       [ 2.29529114],\n",
              "       [-2.1283074 ],\n",
              "       [-2.06684727],\n",
              "       [ 0.89402184],\n",
              "       [-3.87822809],\n",
              "       [ 0.46128878],\n",
              "       [ 0.30496876],\n",
              "       [ 0.49776661]])"
            ]
          },
          "metadata": {
            "tags": []
          },
          "execution_count": 25
        }
      ]
    },
    {
      "cell_type": "code",
      "metadata": {
        "id": "_8l08baLMVqd",
        "colab_type": "code",
        "outputId": "06a8586a-d344-42f2-9362-bd6967c41b32",
        "colab": {
          "base_uri": "https://localhost:8080/",
          "height": 302
        }
      },
      "source": [
        "# show the weights in the plot\n",
        "plt.figure(figsize=(6, 4))\n",
        "plt.plot(np.arange(1, len(best_weights)+1), best_weights, label='Direct Solution')\n",
        "plt.xlabel('#th of weights')\n",
        "plt.ylabel('Values')"
      ],
      "execution_count": 0,
      "outputs": [
        {
          "output_type": "execute_result",
          "data": {
            "text/plain": [
              "Text(0, 0.5, 'Values')"
            ]
          },
          "metadata": {
            "tags": []
          },
          "execution_count": 26
        },
        {
          "output_type": "display_data",
          "data": {
            "image/png": "[encoded data removed]",
            "text/plain": [
              "<Figure size 432x288 with 1 Axes>"
            ]
          },
          "metadata": {
            "tags": []
          }
        }
      ]
    },
    {
      "cell_type": "markdown",
      "metadata": {
        "id": "UZ6gc0sDha5X",
        "colab_type": "text"
      },
      "source": [
        "I will use 8.5 because it gets the smallest test error and an acceptable train error."
      ]
    },
    {
      "cell_type": "markdown",
      "metadata": {
        "colab_type": "text",
        "id": "tceGCk1V3NG_"
      },
      "source": [
        "## Gradient Descent"
      ]
    },
    {
      "cell_type": "markdown",
      "metadata": {
        "colab_type": "text",
        "id": "v9DMAs3I3NHB"
      },
      "source": [
        "- Implement batch gradient descent for linear regression using a fixed learning rate $\\alpha$ of 1e-2.\n",
        "\n",
        "- Run the gradient descent for a fixed number of epochs based on convergence."
      ]
    },
    {
      "cell_type": "code",
      "metadata": {
        "id": "hs0kCYXOOYSk",
        "colab_type": "code",
        "colab": {}
      },
      "source": [
        "# define a function to do gradient descent with regulizer\n",
        "# inputs are lambda, alpha, training data, testing data, iterations\n",
        "# outputs are training error, testing error\n",
        "# number of epochs depends on the converge\n",
        "# in short, which iteration errors are nearly not change\n",
        "def GradientDescent(iterations, lambd, alpha, xtraining, xtesting, ytraining, ytesting):\n",
        "  TrainError = []\n",
        "  ValidationError = []\n",
        "  cost = []\n",
        "  N, num = xtraining.shape\n",
        "  # all the weights are zero (float) at the start\n",
        "  w_init = np.array([0.0]*num).reshape(-1,1)\n",
        "  for iteration in range(iterations):\n",
        "    yTrainPred = np.dot(xtraining, w_init)\n",
        "    yTestPred = np.dot(xtesting, w_init)\n",
        "    c = (np.sum((yTrainPred-ytraining)**2) + lambd*np.sum(w_init**2))/(2*N)\n",
        "    TrainError.append(rmse(yTrainPred, ytraining))\n",
        "    ValidationError.append(rmse(yTestPred, ytesting))\n",
        "    cost.append(c)\n",
        "    # update the weights\n",
        "    gradient = np.dot(xtraining.T, (yTrainPred-ytraining)) + lambd*w_init\n",
        "    w_init -= (alpha/N)*gradient\n",
        "  return w_init, TrainError, ValidationError, cost"
      ],
      "execution_count": 0,
      "outputs": []
    },
    {
      "cell_type": "code",
      "metadata": {
        "id": "AgvCNDdlTS45",
        "colab_type": "code",
        "colab": {}
      },
      "source": [
        "iterations = 3000\n",
        "alp = 0.01\n",
        "W_GD, TrainError_GD, ValError_GD, cost = GradientDescent(iterations, best_lambda, alp, X_train_std_new, X_test_std_new, y_train_new, y_test_new)"
      ],
      "execution_count": 0,
      "outputs": []
    },
    {
      "cell_type": "code",
      "metadata": {
        "id": "7UWKlF18T70L",
        "colab_type": "code",
        "outputId": "61ab3730-824c-4aac-847c-3a1fb29d3da2",
        "colab": {
          "base_uri": "https://localhost:8080/",
          "height": 285
        }
      },
      "source": [
        "plt.figure(figsize=(6,4))\n",
        "plt.plot(TrainError_GD, label='Train Error')\n",
        "plt.plot(ValError_GD, label='Validation Error')\n",
        "plt.xlabel('Iteration times')\n",
        "plt.ylabel('Error')\n",
        "plt.legend()\n",
        "plt.show()"
      ],
      "execution_count": 0,
      "outputs": [
        {
          "output_type": "display_data",
          "data": {
            "image/png": "[encoded data removed]",
            "text/plain": [
              "<Figure size 432x288 with 1 Axes>"
            ]
          },
          "metadata": {
            "tags": []
          }
        }
      ]
    },
    {
      "cell_type": "code",
      "metadata": {
        "id": "caASoBEXmPPn",
        "colab_type": "code",
        "outputId": "21c68239-65e8-4b9d-9d7f-511ae10fd467",
        "colab": {
          "base_uri": "https://localhost:8080/",
          "height": 302
        }
      },
      "source": [
        "# plot the cost\n",
        "plt.figure(figsize=(6,4))\n",
        "plt.plot(cost, label='Cost function')\n",
        "plt.xlabel('Iteration times')\n",
        "plt.ylabel('Cost value')"
      ],
      "execution_count": 0,
      "outputs": [
        {
          "output_type": "execute_result",
          "data": {
            "text/plain": [
              "Text(0, 0.5, 'Cost value')"
            ]
          },
          "metadata": {
            "tags": []
          },
          "execution_count": 40
        },
        {
          "output_type": "display_data",
          "data": {
            "image/png": "[encoded data removed]",
            "text/plain": [
              "<Figure size 432x288 with 1 Axes>"
            ]
          },
          "metadata": {
            "tags": []
          }
        }
      ]
    },
    {
      "cell_type": "code",
      "metadata": {
        "id": "FwaKEdhKWofQ",
        "colab_type": "code",
        "outputId": "ac382f50-cf1e-4dd7-b8ba-2117e0b53006",
        "colab": {
          "base_uri": "https://localhost:8080/",
          "height": 302
        }
      },
      "source": [
        "plt.figure(figsize=(6,4))\n",
        "plt.plot(np.arange(1, len(best_weights)+1), best_weights, label='Direct Solution')\n",
        "plt.plot(np.arange(1, len(W_GD)+1), W_GD, label='GD Solution')\n",
        "plt.legend()\n",
        "plt.xlabel('#th of weights')\n",
        "plt.ylabel('Values')"
      ],
      "execution_count": 0,
      "outputs": [
        {
          "output_type": "execute_result",
          "data": {
            "text/plain": [
              "Text(0, 0.5, 'Values')"
            ]
          },
          "metadata": {
            "tags": []
          },
          "execution_count": 41
        },
        {
          "output_type": "display_data",
          "data": {
            "image/png": "[encoded data removed]",
            "text/plain": [
              "<Figure size 432x288 with 1 Axes>"
            ]
          },
          "metadata": {
            "tags": []
          }
        }
      ]
    },
    {
      "cell_type": "code",
      "metadata": {
        "id": "kXLrUiP2dpgp",
        "colab_type": "code",
        "outputId": "85af49e7-53bd-4b26-ff6b-d704949ac650",
        "colab": {
          "base_uri": "https://localhost:8080/",
          "height": 34
        }
      },
      "source": [
        "err = (best_weights - W_GD)/best_weights\n",
        "err = np.mean(err)\n",
        "print(round(err,2))"
      ],
      "execution_count": 0,
      "outputs": [
        {
          "output_type": "stream",
          "text": [
            "0.16\n"
          ],
          "name": "stdout"
        }
      ]
    },
    {
      "cell_type": "markdown",
      "metadata": {
        "id": "BH7tHl6wU60y",
        "colab_type": "text"
      },
      "source": [
        "We can see the gradient descent process converge at nearly 500 iterations and then slowly deceases the cost. Within 3000 iterations, the weights error can be controlled in 16%. With more iterations, the weights error will be much more less."
      ]
    },
    {
      "cell_type": "markdown",
      "metadata": {
        "colab_type": "text",
        "id": "K3xwmhsr3NHS"
      },
      "source": [
        "## Mini-batch size and learning rate"
      ]
    },
    {
      "cell_type": "markdown",
      "metadata": {
        "id": "X6eT9MIB-DSa",
        "colab_type": "text"
      },
      "source": [
        "- Impelement Mini-batch Gradient Descent.\n",
        "\n",
        "- Sweep different values for the batch size with a fixed learning rate.\n",
        "\n",
        "- Select the best batch size base on fastest convergence (number of times you update the weights) and then find the proper learning rate.\n"
      ]
    },
    {
      "cell_type": "code",
      "metadata": {
        "id": "ipNDPDErgq5Z",
        "colab_type": "code",
        "colab": {}
      },
      "source": [
        "import time"
      ],
      "execution_count": 0,
      "outputs": []
    },
    {
      "cell_type": "code",
      "metadata": {
        "id": "-BD2T_z2Q9ES",
        "colab_type": "code",
        "colab": {}
      },
      "source": [
        "# define a function to do mini-batch GD\n",
        "# inputs are training data, testing data, learning rate, batch size, epoch\n",
        "# outputs are training error, validation error, weights, updates\n",
        "def MiniGD(batch_size, alpha, xtraining, xtesting, ytraining, ytesting, epoch):\n",
        "  TrainErrorUpdates = []\n",
        "  TrainErrorIterations = []\n",
        "  TestErrorUpdates = []\n",
        "  Timestamps = []\n",
        "  N, num = xtraining.shape\n",
        "  M = xtesting.shape[0]\n",
        "  # all the weights are zero (float) at the start\n",
        "  w = np.array([0.0]*num).reshape(-1,1)\n",
        "  for _ in range(epoch):\n",
        "    start = time.time()\n",
        "    # shuffle training data each epoch to reduce bias\n",
        "    # very important here, otherwise will slow converge time\n",
        "    shuffle_idx = np.random.permutation(N)\n",
        "    xtraining = xtraining[shuffle_idx, :]\n",
        "    ytraining = ytraining[shuffle_idx]\n",
        "    for s in range(0, N, batch_size):\n",
        "      # mini batch\n",
        "      miniX = xtraining[s:s+batch_size]\n",
        "      miniY = ytraining[s:s+batch_size]\n",
        "      yTrainPred = np.dot(miniX, w)\n",
        "      # update the weights\n",
        "      gradient = np.dot(miniX.T, yTrainPred - miniY)\n",
        "      w -= (alpha/batch_size)*gradient\n",
        "      # rmse for the whole dataset now after updates\n",
        "      TrainErrorUpdates.append((np.sum((np.dot(xtraining, w) - ytraining)**2)/N)**0.5)\n",
        "      TestErrorUpdates.append((np.sum((np.dot(xtesting, w) - ytesting)**2)/M)**0.5)\n",
        "    # times used each update\n",
        "    Timestamps.append(time.time()-start)\n",
        "    # rmse for the whole dataset now after each iteration\n",
        "    TrainErrorIterations.append((np.sum((np.dot(xtraining, w) - ytraining)**2)/N)**0.5)\n",
        "  return TrainErrorUpdates, TrainErrorIterations, TestErrorUpdates, w, Timestamps"
      ],
      "execution_count": 0,
      "outputs": []
    },
    {
      "cell_type": "code",
      "metadata": {
        "id": "ABlVgNHI5Sic",
        "colab_type": "code",
        "outputId": "7a57591f-3c6c-4af3-93be-ed3e06c2395e",
        "colab": {
          "base_uri": "https://localhost:8080/",
          "height": 86
        }
      },
      "source": [
        "# set some numbers as batch sizes\n",
        "batch_sizes = [1, 16, 64, 128]\n",
        "# fixed learning rate first\n",
        "alpha = 0.01\n",
        "TrainErrorU_total = []\n",
        "TrainErrorI_total = []\n",
        "TestErrorU_total = []\n",
        "W_MGD_total = []\n",
        "Times_total = []\n",
        "for size in batch_sizes:\n",
        "  print('Now processing batch size =', size)\n",
        "  TrainErrorU_MGD, TrainErrorI_MGD, TestErrorU_MGD, W_MGD, Times = MiniGD(size, alpha, X_train_std_new, X_test_std_new, \\\n",
        "                                                                          y_train_new, y_test_new, 50)\n",
        "  TrainErrorU_total.append(TrainErrorU_MGD)\n",
        "  TrainErrorI_total.append(TrainErrorI_MGD)\n",
        "  TestErrorU_total.append(TestErrorU_MGD)\n",
        "  W_MGD_total.append(W_MGD)\n",
        "  Times_total.append(Times)"
      ],
      "execution_count": 0,
      "outputs": [
        {
          "output_type": "stream",
          "text": [
            "Now processing batch size = 1\n",
            "Now processing batch size = 16\n",
            "Now processing batch size = 64\n",
            "Now processing batch size = 128\n"
          ],
          "name": "stdout"
        }
      ]
    },
    {
      "cell_type": "code",
      "metadata": {
        "id": "8VxrMnC3DQkA",
        "colab_type": "code",
        "outputId": "7e649287-a39b-400f-c569-04e8dbe9f905",
        "colab": {
          "base_uri": "https://localhost:8080/",
          "height": 411
        }
      },
      "source": [
        "# plot the training error\n",
        "plt.figure(figsize=(8, 6))\n",
        "for idx in range(len(batch_sizes)):\n",
        "  plt.plot(TrainErrorU_total[idx], label = 'Training error at Batch size = {}'.format(batch_sizes[idx]))\n",
        "  plt.legend()\n",
        "plt.xlabel('Update times')\n",
        "plt.ylabel('Error')"
      ],
      "execution_count": 0,
      "outputs": [
        {
          "output_type": "execute_result",
          "data": {
            "text/plain": [
              "Text(0, 0.5, 'Error')"
            ]
          },
          "metadata": {
            "tags": []
          },
          "execution_count": 47
        },
        {
          "output_type": "display_data",
          "data": {
            "image/png": "[encoded data removed]",
            "text/plain": [
              "<Figure size 576x432 with 1 Axes>"
            ]
          },
          "metadata": {
            "tags": []
          }
        }
      ]
    },
    {
      "cell_type": "code",
      "metadata": {
        "id": "G_VU_xCJg-Tw",
        "colab_type": "code",
        "outputId": "f8784e6a-0610-4436-e192-d317b5a36acd",
        "colab": {
          "base_uri": "https://localhost:8080/",
          "height": 411
        }
      },
      "source": [
        "# plot training error vs. time taken\n",
        "plt.figure(figsize=(8, 6))\n",
        "for idx in range(len(batch_sizes)):\n",
        "  # accumulate all the time intervals to be the timestamps\n",
        "  timestamps = np.array(Times_total[idx]).cumsum()\n",
        "  plt.plot(timestamps, TrainErrorI_total[idx], label = 'Training error at Batch size = {}'.format(batch_sizes[idx]))\n",
        "  plt.legend()\n",
        "plt.xlabel('Time used (s)')\n",
        "plt.ylabel('Error')"
      ],
      "execution_count": 0,
      "outputs": [
        {
          "output_type": "execute_result",
          "data": {
            "text/plain": [
              "Text(0, 0.5, 'Error')"
            ]
          },
          "metadata": {
            "tags": []
          },
          "execution_count": 49
        },
        {
          "output_type": "display_data",
          "data": {
            "image/png": "[encoded data removed]",
            "text/plain": [
              "<Figure size 576x432 with 1 Axes>"
            ]
          },
          "metadata": {
            "tags": []
          }
        }
      ]
    },
    {
      "cell_type": "markdown",
      "metadata": {
        "id": "qVQhUnWaFAaa",
        "colab_type": "text"
      },
      "source": [
        "Here we can see within fixed 50 epoches, batch size = 1 and 16 both converge in the given times, but batch size = 1 take longer and is not very stable. Based on fastest convergence, I will use batch size = 16. (I also tried regulizer, but not very good performance, it gets larger error and noisy oscillation.)"
      ]
    },
    {
      "cell_type": "code",
      "metadata": {
        "id": "b8WU3cOso9P_",
        "colab_type": "code",
        "outputId": "0bb0d985-f39d-4de3-8166-c5f45707f085",
        "colab": {
          "base_uri": "https://localhost:8080/",
          "height": 104
        }
      },
      "source": [
        "# set some numbers as learning rate\n",
        "lr = [0.005, 0.01, 0.025, 0.05, 0.1]\n",
        "# fixed batch size\n",
        "batch_size = 16\n",
        "TrainErrorU_total = []\n",
        "TrainErrorI_total = []\n",
        "TestErrorU_total = []\n",
        "W_MGD_total = []\n",
        "Times_total = []\n",
        "for alpha in lr:\n",
        "  print('Now processing learnig rate =', alpha)\n",
        "  TrainErrorU_MGD, TrainErrorI_MGD, TestErrorU_MGD, W_MGD, Times = MiniGD(batch_size, alpha, X_train_std_new, X_test_std_new, y_train_new, y_test_new, 50)\n",
        "  TrainErrorU_total.append(TrainErrorU_MGD)\n",
        "  TrainErrorI_total.append(TrainErrorI_MGD)\n",
        "  TestErrorU_total.append(TestErrorU_MGD)\n",
        "  W_MGD_total.append(W_MGD)\n",
        "  Times_total.append(Times)"
      ],
      "execution_count": 0,
      "outputs": [
        {
          "output_type": "stream",
          "text": [
            "Now processing learnig rate = 0.005\n",
            "Now processing learnig rate = 0.01\n",
            "Now processing learnig rate = 0.025\n",
            "Now processing learnig rate = 0.05\n",
            "Now processing learnig rate = 0.1\n"
          ],
          "name": "stdout"
        }
      ]
    },
    {
      "cell_type": "code",
      "metadata": {
        "id": "W3gVkTPwp7xX",
        "colab_type": "code",
        "outputId": "5eee746e-92df-40dc-9b5d-cf3109cb0ec9",
        "colab": {
          "base_uri": "https://localhost:8080/",
          "height": 411
        }
      },
      "source": [
        "# plot training error vs. time taken\n",
        "plt.figure(figsize=(8, 6))\n",
        "for idx in range(len(lr)):\n",
        "  # accumulate all the time intervals to be the timestamps\n",
        "  timestamps = np.array(Times_total[idx]).cumsum()\n",
        "  plt.plot(timestamps, TrainErrorI_total[idx], label = 'Training error at Learning rate = {}'.format(lr[idx]))\n",
        "  plt.legend()\n",
        "plt.xlabel('Time used (s)')\n",
        "plt.ylabel('Error')"
      ],
      "execution_count": 0,
      "outputs": [
        {
          "output_type": "execute_result",
          "data": {
            "text/plain": [
              "Text(0, 0.5, 'Error')"
            ]
          },
          "metadata": {
            "tags": []
          },
          "execution_count": 52
        },
        {
          "output_type": "display_data",
          "data": {
            "image/png": "[encoded data removed]",
            "text/plain": [
              "<Figure size 576x432 with 1 Axes>"
            ]
          },
          "metadata": {
            "tags": []
          }
        }
      ]
    },
    {
      "cell_type": "code",
      "metadata": {
        "id": "PJ87vwLRIndT",
        "colab_type": "code",
        "outputId": "dc950a5d-c16f-4c0e-a2e6-9f7940e00d02",
        "colab": {
          "base_uri": "https://localhost:8080/",
          "height": 302
        }
      },
      "source": [
        "plt.figure(figsize=(6,4))\n",
        "plt.plot(np.arange(1, len(best_weights)+1), best_weights, label='Direct Solution')\n",
        "plt.plot(np.arange(1, len(W_MGD_total[2])+1), W_MGD_total[2], label='Mini-batch Solution')\n",
        "plt.legend()\n",
        "plt.xlabel('#th of weights')\n",
        "plt.ylabel('Values')"
      ],
      "execution_count": 0,
      "outputs": [
        {
          "output_type": "execute_result",
          "data": {
            "text/plain": [
              "Text(0, 0.5, 'Values')"
            ]
          },
          "metadata": {
            "tags": []
          },
          "execution_count": 53
        },
        {
          "output_type": "display_data",
          "data": {
            "image/png": "[encoded data removed]",
            "text/plain": [
              "<Figure size 432x288 with 1 Axes>"
            ]
          },
          "metadata": {
            "tags": []
          }
        }
      ]
    },
    {
      "cell_type": "code",
      "metadata": {
        "id": "r0P5Q49VFUx2",
        "colab_type": "code",
        "outputId": "c5172b70-4c9e-4e17-c86d-7c56fdc53dfd",
        "colab": {
          "base_uri": "https://localhost:8080/",
          "height": 34
        }
      },
      "source": [
        "err = (W_MGD_total[2] - W_GD)/best_weights\n",
        "err = np.mean(err)\n",
        "print(round(err,2))"
      ],
      "execution_count": 0,
      "outputs": [
        {
          "output_type": "stream",
          "text": [
            "0.1\n"
          ],
          "name": "stdout"
        }
      ]
    },
    {
      "cell_type": "markdown",
      "metadata": {
        "id": "fIZZO8N1JTLa",
        "colab_type": "text"
      },
      "source": [
        "I will choose learning rate to be 0.025 because it converges faster than 0.01 and 0.005. Learning rate = 0.1 and 0.05 seem to decrease the training error faster than 0.025 but they decrease error in a very large step that would cause instability when converge, which is not good. With batch size = 16 and learning rate = 0.025 and epoch = 50, the weights error can be controlled within 10% compared to the direct solution."
      ]
    },
    {
      "cell_type": "markdown",
      "metadata": {
        "colab_type": "text",
        "id": "_APuh43i3NHU"
      },
      "source": [
        "## Adaptive Learning rate"
      ]
    },
    {
      "cell_type": "markdown",
      "metadata": {
        "colab_type": "text",
        "id": "MabNnVcW3NHU"
      },
      "source": [
        "Impelement an adaptive learning rate scheme where starting a mini-batch gradient descent with a large learning rate and decrease the learning rate while getting closer to the local minima. "
      ]
    },
    {
      "cell_type": "markdown",
      "metadata": {
        "id": "bzep8yEteJVV",
        "colab_type": "text"
      },
      "source": [
        "One method is Time-based adaptive learning rate, the learning rate will change according to a decay factor each epoch. The decay factor is a hyperparameter. Always equal to raw learning rate/100.\n",
        "\n",
        "Reference: https://machinelearningmastery.com/using-learning-rate-schedules-deep-learning-models-python-keras/\n",
        "\n",
        "https://cs231n.github.io/neural-networks-3/"
      ]
    },
    {
      "cell_type": "code",
      "metadata": {
        "id": "sttoN1rtFmQn",
        "colab_type": "code",
        "colab": {}
      },
      "source": [
        "# define a function to do mini-batch with changing learning rate\n",
        "def TB_MiniGD(batch_size, alpha, xtraining, xtesting, ytraining, ytesting, epoch, decay):\n",
        "  TrainErrorUpdates = []\n",
        "  TrainErrorIterations = []\n",
        "  Timestamps = []\n",
        "  N, num = xtraining.shape\n",
        "  # all the weights are zero (float) at the start\n",
        "  # w = np.array([0.0]*num).reshape(-1,1)\n",
        "  w = np.random.randn(num, 1)\n",
        "  for _ in range(epoch):\n",
        "    start = time.time()\n",
        "    # shuffle training data each epoch to reduce bias\n",
        "    # very important here, otherwise will slow converge time\n",
        "    shuffle_idx = np.random.permutation(N)\n",
        "    xtraining = xtraining[shuffle_idx, :]\n",
        "    ytraining = ytraining[shuffle_idx]\n",
        "    itera = 0\n",
        "    for s in range(0, N, batch_size):\n",
        "      itera += 1\n",
        "      # mini batch\n",
        "      miniX = xtraining[s:s+batch_size]\n",
        "      miniY = ytraining[s:s+batch_size]\n",
        "      yTrainPred = np.dot(miniX, w)\n",
        "      # update the weights\n",
        "      gradient = np.dot(miniX.T, yTrainPred - miniY)\n",
        "      w -= (alpha/batch_size)*gradient\n",
        "      alpha *= 1/(1 + decay*itera)\n",
        "      # rmse for the whole dataset now after updates\n",
        "      TrainErrorUpdates.append((np.sum((np.dot(xtraining, w) - ytraining)**2)/N)**0.5)\n",
        "    # update the learning rate\n",
        "    # times used each update\n",
        "    Timestamps.append(time.time()-start)\n",
        "    # rmse for the whole dataset now after each iteration\n",
        "    TrainErrorIterations.append((np.sum((np.dot(xtraining, w) - ytraining)**2)/N)**0.5)\n",
        "  return TrainErrorUpdates, TrainErrorIterations, w, Timestamps"
      ],
      "execution_count": 0,
      "outputs": []
    },
    {
      "cell_type": "code",
      "metadata": {
        "id": "P8wY6wSPH2il",
        "colab_type": "code",
        "colab": {}
      },
      "source": [
        "alpha = 0.2\n",
        "TrainErrorU_TB, TrainErrorI_TB, W_TB, Times_TB = TB_MiniGD(16, alpha, X_train_std_new, X_test_std_new, y_train_new, y_test_new, 50, 0.002)"
      ],
      "execution_count": 0,
      "outputs": []
    },
    {
      "cell_type": "code",
      "metadata": {
        "id": "5s2bb622Ivt_",
        "colab_type": "code",
        "outputId": "fa77a72b-b645-46f4-ea22-3c289fedbd5a",
        "colab": {
          "base_uri": "https://localhost:8080/",
          "height": 247
        }
      },
      "source": [
        "# plot the training error\n",
        "plt.figure(figsize=(5, 3))\n",
        "plt.plot(TrainErrorU_TB)\n",
        "plt.xlabel('Update times')\n",
        "plt.ylabel('Training Error')"
      ],
      "execution_count": 0,
      "outputs": [
        {
          "output_type": "execute_result",
          "data": {
            "text/plain": [
              "Text(0, 0.5, 'Training Error')"
            ]
          },
          "metadata": {
            "tags": []
          },
          "execution_count": 53
        },
        {
          "output_type": "display_data",
          "data": {
            "image/png": "[encoded data removed]",
            "text/plain": [
              "<Figure size 360x216 with 1 Axes>"
            ]
          },
          "metadata": {
            "tags": []
          }
        }
      ]
    },
    {
      "cell_type": "code",
      "metadata": {
        "id": "HZSkS-5HSHz7",
        "colab_type": "code",
        "outputId": "4386ccf9-4c12-4004-e5d9-992cdc99a8a4",
        "colab": {
          "base_uri": "https://localhost:8080/",
          "height": 247
        }
      },
      "source": [
        "# plot training error vs. time taken\n",
        "plt.figure(figsize=(5, 3))\n",
        "timestamps = np.array(Times_TB).cumsum()\n",
        "plt.plot(timestamps, TrainErrorI_TB)\n",
        "plt.xlabel('Time used (s)')\n",
        "plt.ylabel('Training Error')"
      ],
      "execution_count": 0,
      "outputs": [
        {
          "output_type": "execute_result",
          "data": {
            "text/plain": [
              "Text(0, 0.5, 'Training Error')"
            ]
          },
          "metadata": {
            "tags": []
          },
          "execution_count": 54
        },
        {
          "output_type": "display_data",
          "data": {
            "image/png": "[encoded data removed]",
            "text/plain": [
              "<Figure size 360x216 with 1 Axes>"
            ]
          },
          "metadata": {
            "tags": []
          }
        }
      ]
    },
    {
      "cell_type": "markdown",
      "metadata": {
        "colab_type": "text",
        "id": "0cS99Cxw3NHV"
      },
      "source": [
        "## Combined methods - Fastest Solution!"
      ]
    },
    {
      "cell_type": "markdown",
      "metadata": {
        "id": "zIUuhPqA1WUe",
        "colab_type": "text"
      },
      "source": [
        "In this part, find a mini-batch size and a learning rate adjustment scheme to train the model quickly. The converge rule is when training the model until the loss of the model on the test set is close to direct solution with $\\pm 1\\%$ error."
      ]
    },
    {
      "cell_type": "code",
      "metadata": {
        "id": "75DfAJmRhYUQ",
        "colab_type": "code",
        "colab": {}
      },
      "source": [
        "# as we know the direct solution with the best lambda before\n",
        "# we calculate the test loss\n",
        "loss_direct = 0.5*np.sum((np.dot(X_test_std_new, best_weights)-y_test_new)**2)"
      ],
      "execution_count": 0,
      "outputs": []
    },
    {
      "cell_type": "code",
      "metadata": {
        "id": "GbX5sKrY5Toe",
        "colab_type": "code",
        "colab": {}
      },
      "source": [
        "# modify the function to start with random coefficients, not zero from the start\n",
        "# also stop updating the weights until it reaches the loss error = +-1% \n",
        "def TBD_MiniGD(batch_size, alpha, xtraining, xtesting, ytraining, ytesting, epoch, decay):\n",
        "  TestLossUpdates = []\n",
        "  Timestamps = []\n",
        "  N, num = xtraining.shape\n",
        "  w = np.random.randn(num, 1)\n",
        "  for _ in range(epoch):\n",
        "    start = time.time()\n",
        "    shuffle_idx = np.random.permutation(N)\n",
        "    xtraining = xtraining[shuffle_idx, :]\n",
        "    ytraining = ytraining[shuffle_idx]\n",
        "    itera = 0\n",
        "    for s in range(0, N, batch_size):\n",
        "      itera += 1\n",
        "      miniX = xtraining[s:s+batch_size]\n",
        "      miniY = ytraining[s:s+batch_size]\n",
        "      yTrainPred = np.dot(miniX, w)\n",
        "      gradient = np.dot(miniX.T, yTrainPred - miniY)\n",
        "      w -= (alpha/batch_size)*gradient\n",
        "      alpha *= 1/(1 + decay*itera)\n",
        "      TestLossUpdates.append(0.5*np.sum((np.dot(xtesting, w) - ytesting)**2))\n",
        "      TestLossError = (TestLossUpdates[-1]-loss_direct)/loss_direct\n",
        "      if TestLossError < 0.01 and TestLossError > -0.01:\n",
        "        break\n",
        "    Timestamps.append(time.time()-start)\n",
        "  return w, TestLossError, Timestamps"
      ],
      "execution_count": 0,
      "outputs": []
    },
    {
      "cell_type": "code",
      "metadata": {
        "id": "U3Tbmv2HAum0",
        "colab_type": "code",
        "colab": {}
      },
      "source": [
        "# there are 4 options\n",
        "batches = [16, 16, 32, 32]\n",
        "alphas = [0.2, 0.1, 0.2, 0.1]\n",
        "decays = [0.002, 0.001, 0.002, 0.001]\n",
        "AvgTestLossError = []\n",
        "AvgTimeTaken = []\n",
        "Weights = []\n",
        "for opt in range(4):\n",
        "  TestLossError_ten = []\n",
        "  TimeTaken_ten = []\n",
        "  Weights_ten = []\n",
        "  for _ in range(10):\n",
        "    w, TLE, Time = TBD_MiniGD(batches[opt], alphas[opt], X_train_std_new, X_test_std_new, y_train_new, y_test_new, 50, decays[opt])\n",
        "    TestLossError_ten.append(TLE)\n",
        "    TimeTaken_ten.append(np.sum(Time))\n",
        "    Weights_ten.append(w)\n",
        "  AvgTestLossError.append(np.mean(TestLossError_ten))\n",
        "  AvgTimeTaken.append(np.mean(TimeTaken_ten))\n",
        "  Weights.append(np.mean(Weights_ten, axis=0))"
      ],
      "execution_count": 0,
      "outputs": []
    },
    {
      "cell_type": "code",
      "metadata": {
        "id": "p2whvPe0E86A",
        "colab_type": "code",
        "colab": {}
      },
      "source": [
        "stats = {'Batch size': batches, 'Learning rate': alphas, 'Decay': decays, \\\n",
        "         'Avg test loss error (%)': pd.Series(AvgTestLossError)*100, 'Avg time taken': AvgTimeTaken}"
      ],
      "execution_count": 0,
      "outputs": []
    },
    {
      "cell_type": "code",
      "metadata": {
        "id": "GkfAJInHGHir",
        "colab_type": "code",
        "outputId": "d31452f2-6af2-4aec-d9e6-25a6e408c133",
        "colab": {
          "base_uri": "https://localhost:8080/",
          "height": 168
        }
      },
      "source": [
        "pd.DataFrame(stats)"
      ],
      "execution_count": 0,
      "outputs": [
        {
          "output_type": "execute_result",
          "data": {
            "text/html": [
              "<div>\n",
              "<style scoped>\n",
              "    .dataframe tbody tr th:only-of-type {\n",
              "        vertical-align: middle;\n",
              "    }\n",
              "\n",
              "    .dataframe tbody tr th {\n",
              "        vertical-align: top;\n",
              "    }\n",
              "\n",
              "    .dataframe thead th {\n",
              "        text-align: right;\n",
              "    }\n",
              "</style>\n",
              "<table border=\"1\" class=\"dataframe\">\n",
              "  <thead>\n",
              "    <tr style=\"text-align: right;\">\n",
              "      <th></th>\n",
              "      <th>Batch size</th>\n",
              "      <th>Learning rate</th>\n",
              "      <th>Decay</th>\n",
              "      <th>Avg test loss error (%)</th>\n",
              "      <th>Avg time taken</th>\n",
              "    </tr>\n",
              "  </thead>\n",
              "  <tbody>\n",
              "    <tr>\n",
              "      <th>0</th>\n",
              "      <td>16</td>\n",
              "      <td>0.2</td>\n",
              "      <td>0.002</td>\n",
              "      <td>0.416371</td>\n",
              "      <td>0.008385</td>\n",
              "    </tr>\n",
              "    <tr>\n",
              "      <th>1</th>\n",
              "      <td>16</td>\n",
              "      <td>0.1</td>\n",
              "      <td>0.001</td>\n",
              "      <td>0.246758</td>\n",
              "      <td>0.008140</td>\n",
              "    </tr>\n",
              "    <tr>\n",
              "      <th>2</th>\n",
              "      <td>32</td>\n",
              "      <td>0.2</td>\n",
              "      <td>0.002</td>\n",
              "      <td>0.249841</td>\n",
              "      <td>0.006148</td>\n",
              "    </tr>\n",
              "    <tr>\n",
              "      <th>3</th>\n",
              "      <td>32</td>\n",
              "      <td>0.1</td>\n",
              "      <td>0.001</td>\n",
              "      <td>0.277861</td>\n",
              "      <td>0.005273</td>\n",
              "    </tr>\n",
              "  </tbody>\n",
              "</table>\n",
              "</div>"
            ],
            "text/plain": [
              "   Batch size  Learning rate  Decay  Avg test loss error (%)  Avg time taken\n",
              "0          16            0.2  0.002                 0.416371        0.008385\n",
              "1          16            0.1  0.001                 0.246758        0.008140\n",
              "2          32            0.2  0.002                 0.249841        0.006148\n",
              "3          32            0.1  0.001                 0.277861        0.005273"
            ]
          },
          "metadata": {
            "tags": []
          },
          "execution_count": 61
        }
      ]
    },
    {
      "cell_type": "markdown",
      "metadata": {
        "id": "L7kcGWWZJ22H",
        "colab_type": "text"
      },
      "source": [
        "We can see the best loss accuracy is 99.8% and best time is 0.005s with batch size = 32 and raw learning rate = 0.01."
      ]
    }
  ]
}
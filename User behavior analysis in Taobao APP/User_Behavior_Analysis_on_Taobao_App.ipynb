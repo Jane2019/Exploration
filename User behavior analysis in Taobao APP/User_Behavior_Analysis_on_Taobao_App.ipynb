{
  "nbformat": 4,
  "nbformat_minor": 0,
  "metadata": {
    "colab": {
      "name": "User Behavior Analysis on Taobao App.ipynb",
      "provenance": [],
      "collapsed_sections": []
    },
    "kernelspec": {
      "name": "python3",
      "display_name": "Python 3"
    }
  },
  "cells": [
    {
      "cell_type": "markdown",
      "metadata": {
        "id": "5gW7XkOduzCv",
        "colab_type": "text"
      },
      "source": [
        "## User behavior analysis on TaoBao App"
      ]
    },
    {
      "cell_type": "markdown",
      "metadata": {
        "id": "tOvX8TkIBeWN",
        "colab_type": "text"
      },
      "source": [
        "Dataset link: https://tianchi.aliyun.com/dataset/dataDetail?dataId=46"
      ]
    },
    {
      "cell_type": "markdown",
      "metadata": {
        "id": "Z9eEWkiNs4-l",
        "colab_type": "text"
      },
      "source": [
        "What is in the train_user.csv:\n",
        "\n",
        "- user_id\n",
        "- item_id\n",
        "- behavior_type\n",
        "- user_geohash\n",
        "- item_category\n",
        "- time"
      ]
    },
    {
      "cell_type": "markdown",
      "metadata": {
        "id": "0i8JxB5As1U9",
        "colab_type": "text"
      },
      "source": [
        "## Import library"
      ]
    },
    {
      "cell_type": "code",
      "metadata": {
        "id": "vSCW2iRIrXWE",
        "colab_type": "code",
        "outputId": "6ffdb397-f33c-449e-bb2a-23a045581566",
        "colab": {
          "base_uri": "https://localhost:8080/",
          "height": 72
        }
      },
      "source": [
        "import pandas as pd\n",
        "import numpy as np\n",
        "import seaborn as sns\n",
        "import matplotlib.pyplot as plt"
      ],
      "execution_count": 1,
      "outputs": [
        {
          "output_type": "stream",
          "text": [
            "/usr/local/lib/python3.6/dist-packages/statsmodels/tools/_testing.py:19: FutureWarning: pandas.util.testing is deprecated. Use the functions in the public API at pandas.testing instead.\n",
            "  import pandas.util.testing as tm\n"
          ],
          "name": "stderr"
        }
      ]
    },
    {
      "cell_type": "markdown",
      "metadata": {
        "id": "NABkAtD3tFy4",
        "colab_type": "text"
      },
      "source": [
        "## Data overview"
      ]
    },
    {
      "cell_type": "code",
      "metadata": {
        "id": "ePzn2Hx2szl3",
        "colab_type": "code",
        "colab": {}
      },
      "source": [
        "data_user = pd.read_csv('train_user.csv')"
      ],
      "execution_count": 0,
      "outputs": []
    },
    {
      "cell_type": "code",
      "metadata": {
        "id": "IaxDrsZ2uLHZ",
        "colab_type": "code",
        "outputId": "5326fc06-e414-445c-ddb2-4d172d655676",
        "colab": {
          "base_uri": "https://localhost:8080/",
          "height": 34
        }
      },
      "source": [
        "data_user.shape"
      ],
      "execution_count": 3,
      "outputs": [
        {
          "output_type": "execute_result",
          "data": {
            "text/plain": [
              "(802757, 6)"
            ]
          },
          "metadata": {
            "tags": []
          },
          "execution_count": 3
        }
      ]
    },
    {
      "cell_type": "code",
      "metadata": {
        "id": "72DtkpPDsz3K",
        "colab_type": "code",
        "outputId": "1753de7c-f364-4eae-8855-a7f659b8b2a7",
        "colab": {
          "base_uri": "https://localhost:8080/",
          "height": 198
        }
      },
      "source": [
        "data_user.head()"
      ],
      "execution_count": 4,
      "outputs": [
        {
          "output_type": "execute_result",
          "data": {
            "text/html": [
              "<div>\n",
              "<style scoped>\n",
              "    .dataframe tbody tr th:only-of-type {\n",
              "        vertical-align: middle;\n",
              "    }\n",
              "\n",
              "    .dataframe tbody tr th {\n",
              "        vertical-align: top;\n",
              "    }\n",
              "\n",
              "    .dataframe thead th {\n",
              "        text-align: right;\n",
              "    }\n",
              "</style>\n",
              "<table border=\"1\" class=\"dataframe\">\n",
              "  <thead>\n",
              "    <tr style=\"text-align: right;\">\n",
              "      <th></th>\n",
              "      <th>user_id</th>\n",
              "      <th>item_id</th>\n",
              "      <th>behavior_type</th>\n",
              "      <th>user_geohash</th>\n",
              "      <th>item_category</th>\n",
              "      <th>time</th>\n",
              "    </tr>\n",
              "  </thead>\n",
              "  <tbody>\n",
              "    <tr>\n",
              "      <th>0</th>\n",
              "      <td>98047837</td>\n",
              "      <td>232431562</td>\n",
              "      <td>1</td>\n",
              "      <td>NaN</td>\n",
              "      <td>4245</td>\n",
              "      <td>2014-12-06 02</td>\n",
              "    </tr>\n",
              "    <tr>\n",
              "      <th>1</th>\n",
              "      <td>97726136</td>\n",
              "      <td>383583590</td>\n",
              "      <td>1</td>\n",
              "      <td>NaN</td>\n",
              "      <td>5894</td>\n",
              "      <td>2014-12-09 20</td>\n",
              "    </tr>\n",
              "    <tr>\n",
              "      <th>2</th>\n",
              "      <td>98607707</td>\n",
              "      <td>64749712</td>\n",
              "      <td>1</td>\n",
              "      <td>NaN</td>\n",
              "      <td>2883</td>\n",
              "      <td>2014-12-18 11</td>\n",
              "    </tr>\n",
              "    <tr>\n",
              "      <th>3</th>\n",
              "      <td>98662432</td>\n",
              "      <td>320593836</td>\n",
              "      <td>1</td>\n",
              "      <td>96nn52n</td>\n",
              "      <td>6562</td>\n",
              "      <td>2014-12-06 10</td>\n",
              "    </tr>\n",
              "    <tr>\n",
              "      <th>4</th>\n",
              "      <td>98145908</td>\n",
              "      <td>290208520</td>\n",
              "      <td>1</td>\n",
              "      <td>NaN</td>\n",
              "      <td>13926</td>\n",
              "      <td>2014-12-16 21</td>\n",
              "    </tr>\n",
              "  </tbody>\n",
              "</table>\n",
              "</div>"
            ],
            "text/plain": [
              "    user_id    item_id  ...  item_category           time\n",
              "0  98047837  232431562  ...           4245  2014-12-06 02\n",
              "1  97726136  383583590  ...           5894  2014-12-09 20\n",
              "2  98607707   64749712  ...           2883  2014-12-18 11\n",
              "3  98662432  320593836  ...           6562  2014-12-06 10\n",
              "4  98145908  290208520  ...          13926  2014-12-16 21\n",
              "\n",
              "[5 rows x 6 columns]"
            ]
          },
          "metadata": {
            "tags": []
          },
          "execution_count": 4
        }
      ]
    },
    {
      "cell_type": "code",
      "metadata": {
        "id": "c9N1eYQ7sz79",
        "colab_type": "code",
        "outputId": "37736537-cea4-4991-a9bc-a8722b3bedbe",
        "colab": {
          "base_uri": "https://localhost:8080/",
          "height": 138
        }
      },
      "source": [
        "data_user.dtypes"
      ],
      "execution_count": 5,
      "outputs": [
        {
          "output_type": "execute_result",
          "data": {
            "text/plain": [
              "user_id           int64\n",
              "item_id           int64\n",
              "behavior_type     int64\n",
              "user_geohash     object\n",
              "item_category     int64\n",
              "time             object\n",
              "dtype: object"
            ]
          },
          "metadata": {
            "tags": []
          },
          "execution_count": 5
        }
      ]
    },
    {
      "cell_type": "code",
      "metadata": {
        "id": "9eiyVHxFsz_i",
        "colab_type": "code",
        "colab": {}
      },
      "source": [
        "# missing value\n",
        "missingTotal = data_user.isnull().sum()"
      ],
      "execution_count": 0,
      "outputs": []
    },
    {
      "cell_type": "code",
      "metadata": {
        "id": "5BneacJit-yt",
        "colab_type": "code",
        "outputId": "3c9e6f8d-81aa-4835-f455-16dd8bd9d4d4",
        "colab": {
          "base_uri": "https://localhost:8080/",
          "height": 138
        }
      },
      "source": [
        "missingTotal"
      ],
      "execution_count": 10,
      "outputs": [
        {
          "output_type": "execute_result",
          "data": {
            "text/plain": [
              "user_id               0\n",
              "item_id               0\n",
              "behavior_type         0\n",
              "user_geohash     550130\n",
              "item_category         0\n",
              "time                  1\n",
              "dtype: int64"
            ]
          },
          "metadata": {
            "tags": []
          },
          "execution_count": 10
        }
      ]
    },
    {
      "cell_type": "markdown",
      "metadata": {
        "id": "JYrE9hUYuDaW",
        "colab_type": "text"
      },
      "source": [
        "We can see the column, user_geohash has the most null values. But we won't use it in this project."
      ]
    },
    {
      "cell_type": "code",
      "metadata": {
        "id": "_cpSsoDsypKs",
        "colab_type": "code",
        "colab": {
          "base_uri": "https://localhost:8080/",
          "height": 78
        },
        "outputId": "898afc26-c08f-4b76-ee90-7b2584dada76"
      },
      "source": [
        "data_user[data_user.time.isnull()]"
      ],
      "execution_count": 17,
      "outputs": [
        {
          "output_type": "execute_result",
          "data": {
            "text/html": [
              "<div>\n",
              "<style scoped>\n",
              "    .dataframe tbody tr th:only-of-type {\n",
              "        vertical-align: middle;\n",
              "    }\n",
              "\n",
              "    .dataframe tbody tr th {\n",
              "        vertical-align: top;\n",
              "    }\n",
              "\n",
              "    .dataframe thead th {\n",
              "        text-align: right;\n",
              "    }\n",
              "</style>\n",
              "<table border=\"1\" class=\"dataframe\">\n",
              "  <thead>\n",
              "    <tr style=\"text-align: right;\">\n",
              "      <th></th>\n",
              "      <th>user_id</th>\n",
              "      <th>item_id</th>\n",
              "      <th>behavior_type</th>\n",
              "      <th>user_geohash</th>\n",
              "      <th>item_category</th>\n",
              "      <th>time</th>\n",
              "    </tr>\n",
              "  </thead>\n",
              "  <tbody>\n",
              "    <tr>\n",
              "      <th>802756</th>\n",
              "      <td>106090167</td>\n",
              "      <td>332265276</td>\n",
              "      <td>1</td>\n",
              "      <td>NaN</td>\n",
              "      <td>37</td>\n",
              "      <td>NaN</td>\n",
              "    </tr>\n",
              "  </tbody>\n",
              "</table>\n",
              "</div>"
            ],
            "text/plain": [
              "          user_id    item_id  behavior_type user_geohash  item_category time\n",
              "802756  106090167  332265276              1          NaN             37  NaN"
            ]
          },
          "metadata": {
            "tags": []
          },
          "execution_count": 17
        }
      ]
    },
    {
      "cell_type": "markdown",
      "metadata": {
        "id": "EGdSvjkbzKcR",
        "colab_type": "text"
      },
      "source": [
        "There is a null time here, which I will use forward fill to fill the NA."
      ]
    },
    {
      "cell_type": "code",
      "metadata": {
        "id": "DNYLvYmly490",
        "colab_type": "code",
        "colab": {}
      },
      "source": [
        "data_user.time = data_user.time.fillna(method = 'ffill')"
      ],
      "execution_count": 0,
      "outputs": []
    },
    {
      "cell_type": "markdown",
      "metadata": {
        "id": "iynm8tg00NCs",
        "colab_type": "text"
      },
      "source": [
        "Also we can see the 'time' column needs to be cleaned, bucause it contains date and the time both in one element. We need to refine the date and time to be more detailed level in order to analyze the trends."
      ]
    },
    {
      "cell_type": "code",
      "metadata": {
        "id": "DDnT_Nb3vpeb",
        "colab_type": "code",
        "outputId": "deba3616-98df-48f7-bfd9-ca5aee282efd",
        "colab": {
          "base_uri": "https://localhost:8080/",
          "height": 34
        }
      },
      "source": [
        "data_user.loc[0, 'time']"
      ],
      "execution_count": 13,
      "outputs": [
        {
          "output_type": "execute_result",
          "data": {
            "text/plain": [
              "'2014-12-06 02'"
            ]
          },
          "metadata": {
            "tags": []
          },
          "execution_count": 13
        }
      ]
    },
    {
      "cell_type": "code",
      "metadata": {
        "id": "Jxzaa2KdvCTf",
        "colab_type": "code",
        "colab": {}
      },
      "source": [
        "# separate date and time (hrs)\n",
        "data_user['date'] = data_user['time'].map(lambda s: s.split(' ')[0])\n",
        "data_user['hour'] = data_user['time'].map(lambda s: s.split(' ')[1])"
      ],
      "execution_count": 0,
      "outputs": []
    },
    {
      "cell_type": "code",
      "metadata": {
        "id": "E9At0UEGwSkd",
        "colab_type": "code",
        "outputId": "f6a872be-8b7a-4cf5-9355-27f0d669d092",
        "colab": {
          "base_uri": "https://localhost:8080/",
          "height": 198
        }
      },
      "source": [
        "data_user.head()"
      ],
      "execution_count": 24,
      "outputs": [
        {
          "output_type": "execute_result",
          "data": {
            "text/html": [
              "<div>\n",
              "<style scoped>\n",
              "    .dataframe tbody tr th:only-of-type {\n",
              "        vertical-align: middle;\n",
              "    }\n",
              "\n",
              "    .dataframe tbody tr th {\n",
              "        vertical-align: top;\n",
              "    }\n",
              "\n",
              "    .dataframe thead th {\n",
              "        text-align: right;\n",
              "    }\n",
              "</style>\n",
              "<table border=\"1\" class=\"dataframe\">\n",
              "  <thead>\n",
              "    <tr style=\"text-align: right;\">\n",
              "      <th></th>\n",
              "      <th>user_id</th>\n",
              "      <th>item_id</th>\n",
              "      <th>behavior_type</th>\n",
              "      <th>user_geohash</th>\n",
              "      <th>item_category</th>\n",
              "      <th>time</th>\n",
              "      <th>date</th>\n",
              "      <th>hour</th>\n",
              "    </tr>\n",
              "  </thead>\n",
              "  <tbody>\n",
              "    <tr>\n",
              "      <th>0</th>\n",
              "      <td>98047837</td>\n",
              "      <td>232431562</td>\n",
              "      <td>1</td>\n",
              "      <td>NaN</td>\n",
              "      <td>4245</td>\n",
              "      <td>2014-12-06 02</td>\n",
              "      <td>2014-12-06</td>\n",
              "      <td>02</td>\n",
              "    </tr>\n",
              "    <tr>\n",
              "      <th>1</th>\n",
              "      <td>97726136</td>\n",
              "      <td>383583590</td>\n",
              "      <td>1</td>\n",
              "      <td>NaN</td>\n",
              "      <td>5894</td>\n",
              "      <td>2014-12-09 20</td>\n",
              "      <td>2014-12-09</td>\n",
              "      <td>20</td>\n",
              "    </tr>\n",
              "    <tr>\n",
              "      <th>2</th>\n",
              "      <td>98607707</td>\n",
              "      <td>64749712</td>\n",
              "      <td>1</td>\n",
              "      <td>NaN</td>\n",
              "      <td>2883</td>\n",
              "      <td>2014-12-18 11</td>\n",
              "      <td>2014-12-18</td>\n",
              "      <td>11</td>\n",
              "    </tr>\n",
              "    <tr>\n",
              "      <th>3</th>\n",
              "      <td>98662432</td>\n",
              "      <td>320593836</td>\n",
              "      <td>1</td>\n",
              "      <td>96nn52n</td>\n",
              "      <td>6562</td>\n",
              "      <td>2014-12-06 10</td>\n",
              "      <td>2014-12-06</td>\n",
              "      <td>10</td>\n",
              "    </tr>\n",
              "    <tr>\n",
              "      <th>4</th>\n",
              "      <td>98145908</td>\n",
              "      <td>290208520</td>\n",
              "      <td>1</td>\n",
              "      <td>NaN</td>\n",
              "      <td>13926</td>\n",
              "      <td>2014-12-16 21</td>\n",
              "      <td>2014-12-16</td>\n",
              "      <td>21</td>\n",
              "    </tr>\n",
              "  </tbody>\n",
              "</table>\n",
              "</div>"
            ],
            "text/plain": [
              "    user_id    item_id  behavior_type  ...           time        date hour\n",
              "0  98047837  232431562              1  ...  2014-12-06 02  2014-12-06   02\n",
              "1  97726136  383583590              1  ...  2014-12-09 20  2014-12-09   20\n",
              "2  98607707   64749712              1  ...  2014-12-18 11  2014-12-18   11\n",
              "3  98662432  320593836              1  ...  2014-12-06 10  2014-12-06   10\n",
              "4  98145908  290208520              1  ...  2014-12-16 21  2014-12-16   21\n",
              "\n",
              "[5 rows x 8 columns]"
            ]
          },
          "metadata": {
            "tags": []
          },
          "execution_count": 24
        }
      ]
    },
    {
      "cell_type": "code",
      "metadata": {
        "id": "77uEHVyYwWXf",
        "colab_type": "code",
        "colab": {}
      },
      "source": [
        "# method II: using re when complex split pattern\n",
        "# data_user['time'].map(lambda s: re.compile(' ').split(s)[0])"
      ],
      "execution_count": 0,
      "outputs": []
    },
    {
      "cell_type": "markdown",
      "metadata": {
        "id": "sha-15jHwx_p",
        "colab_type": "text"
      },
      "source": [
        "Then, we should convert the date and time into date type, currently they are both string."
      ]
    },
    {
      "cell_type": "code",
      "metadata": {
        "id": "W9sgdIxKwtX3",
        "colab_type": "code",
        "outputId": "0810922b-cc59-40da-aca2-167556e1398c",
        "colab": {
          "base_uri": "https://localhost:8080/",
          "height": 173
        }
      },
      "source": [
        "data_user['date'] = pd.to_datetime(data_user['date'])\n",
        "data_user['time'] = pd.to_datetime(data_user['time'])\n",
        "data_user['hour'] = data_user['hour'].astype('int64')\n",
        "data_user.dtypes"
      ],
      "execution_count": 25,
      "outputs": [
        {
          "output_type": "execute_result",
          "data": {
            "text/plain": [
              "user_id                   int64\n",
              "item_id                   int64\n",
              "behavior_type             int64\n",
              "user_geohash             object\n",
              "item_category             int64\n",
              "time             datetime64[ns]\n",
              "date             datetime64[ns]\n",
              "hour                      int64\n",
              "dtype: object"
            ]
          },
          "metadata": {
            "tags": []
          },
          "execution_count": 25
        }
      ]
    },
    {
      "cell_type": "code",
      "metadata": {
        "id": "EwD_rl1-xwST",
        "colab_type": "code",
        "outputId": "cf5e8e56-0c74-4d7e-c6f3-385e01bb888c",
        "colab": {
          "base_uri": "https://localhost:8080/",
          "height": 34
        }
      },
      "source": [
        "data_user.loc[0, 'time']"
      ],
      "execution_count": 26,
      "outputs": [
        {
          "output_type": "execute_result",
          "data": {
            "text/plain": [
              "Timestamp('2014-12-06 02:00:00')"
            ]
          },
          "metadata": {
            "tags": []
          },
          "execution_count": 26
        }
      ]
    },
    {
      "cell_type": "code",
      "metadata": {
        "id": "Nrip9MUXxeCf",
        "colab_type": "code",
        "outputId": "6dfe7529-26d0-467f-fe8e-d982b72a6e19",
        "colab": {
          "base_uri": "https://localhost:8080/",
          "height": 288
        }
      },
      "source": [
        "# see if there are some outliers or improper time/date\n",
        "# sort the dataset by time and also index by that\n",
        "data_user = data_user.sort_values(by='time', ascending=True)\n",
        "data_user = data_user.reset_index(drop=True)\n",
        "data_user.describe()"
      ],
      "execution_count": 27,
      "outputs": [
        {
          "output_type": "execute_result",
          "data": {
            "text/html": [
              "<div>\n",
              "<style scoped>\n",
              "    .dataframe tbody tr th:only-of-type {\n",
              "        vertical-align: middle;\n",
              "    }\n",
              "\n",
              "    .dataframe tbody tr th {\n",
              "        vertical-align: top;\n",
              "    }\n",
              "\n",
              "    .dataframe thead th {\n",
              "        text-align: right;\n",
              "    }\n",
              "</style>\n",
              "<table border=\"1\" class=\"dataframe\">\n",
              "  <thead>\n",
              "    <tr style=\"text-align: right;\">\n",
              "      <th></th>\n",
              "      <th>user_id</th>\n",
              "      <th>item_id</th>\n",
              "      <th>behavior_type</th>\n",
              "      <th>item_category</th>\n",
              "      <th>hour</th>\n",
              "    </tr>\n",
              "  </thead>\n",
              "  <tbody>\n",
              "    <tr>\n",
              "      <th>count</th>\n",
              "      <td>8.027570e+05</td>\n",
              "      <td>8.027570e+05</td>\n",
              "      <td>802757.000000</td>\n",
              "      <td>802757.000000</td>\n",
              "      <td>802757.000000</td>\n",
              "    </tr>\n",
              "    <tr>\n",
              "      <th>mean</th>\n",
              "      <td>7.172247e+07</td>\n",
              "      <td>2.023267e+08</td>\n",
              "      <td>1.105354</td>\n",
              "      <td>6839.368040</td>\n",
              "      <td>14.783169</td>\n",
              "    </tr>\n",
              "    <tr>\n",
              "      <th>std</th>\n",
              "      <td>4.156197e+07</td>\n",
              "      <td>1.167838e+08</td>\n",
              "      <td>0.457151</td>\n",
              "      <td>3810.354984</td>\n",
              "      <td>6.516357</td>\n",
              "    </tr>\n",
              "    <tr>\n",
              "      <th>min</th>\n",
              "      <td>6.118000e+03</td>\n",
              "      <td>6.680000e+02</td>\n",
              "      <td>1.000000</td>\n",
              "      <td>8.000000</td>\n",
              "      <td>0.000000</td>\n",
              "    </tr>\n",
              "    <tr>\n",
              "      <th>25%</th>\n",
              "      <td>3.466242e+07</td>\n",
              "      <td>1.014538e+08</td>\n",
              "      <td>1.000000</td>\n",
              "      <td>3687.000000</td>\n",
              "      <td>10.000000</td>\n",
              "    </tr>\n",
              "    <tr>\n",
              "      <th>50%</th>\n",
              "      <td>7.319659e+07</td>\n",
              "      <td>2.020050e+08</td>\n",
              "      <td>1.000000</td>\n",
              "      <td>6194.000000</td>\n",
              "      <td>16.000000</td>\n",
              "    </tr>\n",
              "    <tr>\n",
              "      <th>75%</th>\n",
              "      <td>1.078682e+08</td>\n",
              "      <td>3.036172e+08</td>\n",
              "      <td>1.000000</td>\n",
              "      <td>10290.000000</td>\n",
              "      <td>20.000000</td>\n",
              "    </tr>\n",
              "    <tr>\n",
              "      <th>max</th>\n",
              "      <td>1.424302e+08</td>\n",
              "      <td>4.045617e+08</td>\n",
              "      <td>4.000000</td>\n",
              "      <td>14080.000000</td>\n",
              "      <td>23.000000</td>\n",
              "    </tr>\n",
              "  </tbody>\n",
              "</table>\n",
              "</div>"
            ],
            "text/plain": [
              "            user_id       item_id  behavior_type  item_category           hour\n",
              "count  8.027570e+05  8.027570e+05  802757.000000  802757.000000  802757.000000\n",
              "mean   7.172247e+07  2.023267e+08       1.105354    6839.368040      14.783169\n",
              "std    4.156197e+07  1.167838e+08       0.457151    3810.354984       6.516357\n",
              "min    6.118000e+03  6.680000e+02       1.000000       8.000000       0.000000\n",
              "25%    3.466242e+07  1.014538e+08       1.000000    3687.000000      10.000000\n",
              "50%    7.319659e+07  2.020050e+08       1.000000    6194.000000      16.000000\n",
              "75%    1.078682e+08  3.036172e+08       1.000000   10290.000000      20.000000\n",
              "max    1.424302e+08  4.045617e+08       4.000000   14080.000000      23.000000"
            ]
          },
          "metadata": {
            "tags": []
          },
          "execution_count": 27
        }
      ]
    },
    {
      "cell_type": "markdown",
      "metadata": {
        "id": "8GDlB6HwyI7F",
        "colab_type": "text"
      },
      "source": [
        "We can see all column contain common data, no weird record."
      ]
    },
    {
      "cell_type": "code",
      "metadata": {
        "id": "swlED_ql1SA7",
        "colab_type": "code",
        "colab": {
          "base_uri": "https://localhost:8080/",
          "height": 34
        },
        "outputId": "c0cbfc5a-4612-4df3-b919-7ce4e137a35b"
      },
      "source": [
        "min(data_user.date)"
      ],
      "execution_count": 28,
      "outputs": [
        {
          "output_type": "execute_result",
          "data": {
            "text/plain": [
              "Timestamp('2014-11-18 00:00:00')"
            ]
          },
          "metadata": {
            "tags": []
          },
          "execution_count": 28
        }
      ]
    },
    {
      "cell_type": "code",
      "metadata": {
        "id": "bAU1LYkN1WY9",
        "colab_type": "code",
        "colab": {
          "base_uri": "https://localhost:8080/",
          "height": 34
        },
        "outputId": "05706b4c-bd6d-4b23-ec8e-a547298f3d2e"
      },
      "source": [
        "max(data_user.date)"
      ],
      "execution_count": 29,
      "outputs": [
        {
          "output_type": "execute_result",
          "data": {
            "text/plain": [
              "Timestamp('2014-12-18 00:00:00')"
            ]
          },
          "metadata": {
            "tags": []
          },
          "execution_count": 29
        }
      ]
    },
    {
      "cell_type": "markdown",
      "metadata": {
        "id": "MXUrcEmc1axR",
        "colab_type": "text"
      },
      "source": [
        "We can ensure the dateset is only for all the user behaviors on TaoBao App for one month, from 2014-11-18 to 2014-12-18."
      ]
    },
    {
      "cell_type": "markdown",
      "metadata": {
        "id": "aA6_8ifTyi54",
        "colab_type": "text"
      },
      "source": [
        "## Data exploration"
      ]
    },
    {
      "cell_type": "markdown",
      "metadata": {
        "id": "yXKxUiPl1Doc",
        "colab_type": "text"
      },
      "source": [
        "### Daily page view (PV) and unique user (UU)"
      ]
    },
    {
      "cell_type": "markdown",
      "metadata": {
        "id": "FV0zLKVO1-yT",
        "colab_type": "text"
      },
      "source": [
        "Page view: Also can be called page impression, which is a commonly used measure to show the user activity on a website.\n",
        "\n",
        "Unique user: Unique users is a measure of the distribution of content to a number of distinct consumers. It can be considered as a common way of measuring the popularity of the website. However, sometimes it may overstate because now people have more than devides for one account (or more)."
      ]
    },
    {
      "cell_type": "code",
      "metadata": {
        "id": "Ghk_O-U0yiMu",
        "colab_type": "code",
        "colab": {}
      },
      "source": [
        "pv_daily = data_user.groupby('date')['user_id'] \\\n",
        "            .count().reset_index() \\\n",
        "            .rename(columns={'user_id': 'pv'})\n",
        "            \n",
        "uu_daily = data_user.groupby('date')['user_id'] \\\n",
        "            .apply(lambda x:x.drop_duplicates().count()) \\\n",
        "            .reset_index() \\\n",
        "            .rename(columns={'user_id': 'uu'})"
      ],
      "execution_count": 0,
      "outputs": []
    },
    {
      "cell_type": "code",
      "metadata": {
        "id": "Z4-rJdvlyAVD",
        "colab_type": "code",
        "outputId": "e358aa27-62bd-49f5-afc8-f282c74472a6",
        "colab": {
          "base_uri": "https://localhost:8080/",
          "height": 347
        }
      },
      "source": [
        "fig, axes = plt.subplots(2, 1, sharex=True)\n",
        "pv_daily.plot(x='date', y='pv', ax=axes[0])\n",
        "uu_daily.plot(x='date', y='uu', ax=axes[1])\n",
        "axes[0].set_title('Daily page view')\n",
        "axes[1].set_title('Daily unique user')"
      ],
      "execution_count": 32,
      "outputs": [
        {
          "output_type": "execute_result",
          "data": {
            "text/plain": [
              "Text(0.5, 1.0, 'Daily unique user')"
            ]
          },
          "metadata": {
            "tags": []
          },
          "execution_count": 32
        },
        {
          "output_type": "display_data",
          "data": {
            "image/png": "[encoded data removed]",
            "text/plain": [
              "<Figure size 432x288 with 2 Axes>"
            ]
          },
          "metadata": {
            "tags": [],
            "needs_background": "light"
          }
        }
      ]
    },
    {
      "cell_type": "code",
      "metadata": {
        "id": "QOQ13J5O55rk",
        "colab_type": "code",
        "colab": {}
      },
      "source": [
        "# how many users in the dataset\n",
        "user_num = data_user['user_id'].nunique()"
      ],
      "execution_count": 0,
      "outputs": []
    },
    {
      "cell_type": "code",
      "metadata": {
        "id": "ZPEO37bd5ZzR",
        "colab_type": "code",
        "colab": {}
      },
      "source": [
        "pv_12 = pv_daily.loc[pv_daily.date == '2014-12-12', 'pv'].item()"
      ],
      "execution_count": 0,
      "outputs": []
    },
    {
      "cell_type": "code",
      "metadata": {
        "id": "K2UPtRhu5Z7q",
        "colab_type": "code",
        "colab": {}
      },
      "source": [
        "uu_12 = uu_daily.loc[uu_daily.date == '2014-12-12', 'uu'].item()"
      ],
      "execution_count": 0,
      "outputs": []
    },
    {
      "cell_type": "code",
      "metadata": {
        "id": "VdXMwIBW6bLR",
        "colab_type": "code",
        "colab": {
          "base_uri": "https://localhost:8080/",
          "height": 52
        },
        "outputId": "13ff627c-e522-46b6-bfe9-075935c83e1b"
      },
      "source": [
        "print('User activity on 12 Dec is: {}%'.format(round(uu_12/user_num, 2)*100.0))\n",
        "print('Avg user page view on 12 Dec is: {}'.format(round(pv_12/uu_12, 2)))"
      ],
      "execution_count": 74,
      "outputs": [
        {
          "output_type": "stream",
          "text": [
            "User activity on 12 Dec is: 67.0%\n",
            "Avg user page view on 12 Dec is: 10.35\n"
          ],
          "name": "stdout"
        }
      ]
    },
    {
      "cell_type": "markdown",
      "metadata": {
        "id": "-5lC7LzI5Sr9",
        "colab_type": "text"
      },
      "source": [
        "The page view goes to peak on 12 Dec, which is a famous shopping holiday in China, similar to Boxing day and Black Friday.\n",
        "\n",
        "Also, we can see there is a similar trend between total page view and number of unique user but very different in the scale and the user active percentage is nearly 67% on 12 Dec. Each active user on that day on average viewed 10 pages."
      ]
    },
    {
      "cell_type": "markdown",
      "metadata": {
        "id": "9PLBXOuS6dkd",
        "colab_type": "text"
      },
      "source": [
        "### Hourly page view (PV) and unique user (UU)"
      ]
    },
    {
      "cell_type": "code",
      "metadata": {
        "id": "1Qd3vGcX3nJX",
        "colab_type": "code",
        "colab": {}
      },
      "source": [
        "pv_hour = data_user.groupby('hour')['user_id'] \\\n",
        "            .count().reset_index() \\\n",
        "            .rename(columns={'user_id': 'pv_hour'})\n",
        "            \n",
        "uu_hour = data_user.groupby('hour')['user_id'] \\\n",
        "            .apply(lambda x:x.drop_duplicates().count()) \\\n",
        "            .reset_index() \\\n",
        "            .rename(columns={'user_id': 'uu_hour'})"
      ],
      "execution_count": 0,
      "outputs": []
    },
    {
      "cell_type": "code",
      "metadata": {
        "id": "oqsb0PqH6nav",
        "colab_type": "code",
        "outputId": "022aeaa0-700b-4196-ac63-53f77ab7af6d",
        "colab": {
          "base_uri": "https://localhost:8080/",
          "height": 312
        }
      },
      "source": [
        "fig, axes = plt.subplots(2, 1, sharex=True)\n",
        "pv_hour.plot(x='hour', y='pv_hour', ax=axes[0])\n",
        "uu_hour.plot(x='hour', y='uu_hour', ax=axes[1])\n",
        "axes[0].set_title('Hourly page view')\n",
        "axes[1].set_title('Hourly unique user')"
      ],
      "execution_count": 76,
      "outputs": [
        {
          "output_type": "execute_result",
          "data": {
            "text/plain": [
              "Text(0.5, 1.0, 'Hourly unique user')"
            ]
          },
          "metadata": {
            "tags": []
          },
          "execution_count": 76
        },
        {
          "output_type": "display_data",
          "data": {
            "image/png": "[encoded data removed]",
            "text/plain": [
              "<Figure size 432x288 with 2 Axes>"
            ]
          },
          "metadata": {
            "tags": [],
            "needs_background": "light"
          }
        }
      ]
    },
    {
      "cell_type": "markdown",
      "metadata": {
        "id": "q7icgX957JDC",
        "colab_type": "text"
      },
      "source": [
        "Activity decreases sharply from 0 am to 5 am, and then bounces back to a very high activity at 10 am and becomes smooth, consistently raises from 18 pm and then goes to highest at 21 pm. In short, users are most active starting from 18 pm."
      ]
    },
    {
      "cell_type": "markdown",
      "metadata": {
        "id": "OgKzCmTQ-L9d",
        "colab_type": "text"
      },
      "source": [
        "### Hourly PV analysis for different behavior types"
      ]
    },
    {
      "cell_type": "code",
      "metadata": {
        "id": "VDXMMv6V6neL",
        "colab_type": "code",
        "outputId": "c2be45c9-1761-49ca-a11c-a17ce1c6bd90",
        "colab": {
          "base_uri": "https://localhost:8080/",
          "height": 329
        }
      },
      "source": [
        "plt.figure(figsize=(10, 6))\n",
        "pv_detail = data_user.groupby(['hour', 'behavior_type'])['user_id'] \\\n",
        "              .count().reset_index().rename(columns={'user_id':'total_pv'})\n",
        "              \n",
        "fig, axes = plt.subplots(2, 1, sharex=True)\n",
        "plt.subplots_adjust(hspace=0.5)\n",
        "sns.pointplot(x='hour', y='total_pv', hue='behavior_type', data=pv_detail, ax=axes[0])\n",
        "sns.pointplot(x='hour', y='total_pv', hue='behavior_type', data=pv_detail[pv_detail.behavior_type!=1], ax=axes[1])\n",
        "axes[0].set_title('PV different behavior types')\n",
        "axes[1].set_title('PV other different behavior types')"
      ],
      "execution_count": 78,
      "outputs": [
        {
          "output_type": "execute_result",
          "data": {
            "text/plain": [
              "Text(0.5, 1.0, 'PV other different behavior types')"
            ]
          },
          "metadata": {
            "tags": []
          },
          "execution_count": 78
        },
        {
          "output_type": "display_data",
          "data": {
            "text/plain": [
              "<Figure size 720x432 with 0 Axes>"
            ]
          },
          "metadata": {
            "tags": []
          }
        },
        {
          "output_type": "display_data",
          "data": {
            "image/png": "[encoded data removed]",
            "text/plain": [
              "<Figure size 432x288 with 2 Axes>"
            ]
          },
          "metadata": {
            "tags": [],
            "needs_background": "light"
          }
        }
      ]
    },
    {
      "cell_type": "code",
      "metadata": {
        "id": "hatmKVBUFhjg",
        "colab_type": "code",
        "colab": {}
      },
      "source": [
        "data_user_behavior = data_user.groupby('behavior_type')['user_id'].count() \\\n",
        "                .reset_index().rename(columns={'user_id':'Behavior_count'})\n",
        "\n",
        "data_user_behavior['Percentage'] = data_user_behavior.Behavior_count/data_user_behavior.Behavior_count.sum()"
      ],
      "execution_count": 0,
      "outputs": []
    },
    {
      "cell_type": "code",
      "metadata": {
        "id": "FGSLs1ikHfqZ",
        "colab_type": "code",
        "colab": {
          "base_uri": "https://localhost:8080/",
          "height": 168
        },
        "outputId": "388baee1-f29a-4e70-e1de-b6336aea56e5"
      },
      "source": [
        "data_user_behavior"
      ],
      "execution_count": 113,
      "outputs": [
        {
          "output_type": "execute_result",
          "data": {
            "text/html": [
              "<div>\n",
              "<style scoped>\n",
              "    .dataframe tbody tr th:only-of-type {\n",
              "        vertical-align: middle;\n",
              "    }\n",
              "\n",
              "    .dataframe tbody tr th {\n",
              "        vertical-align: top;\n",
              "    }\n",
              "\n",
              "    .dataframe thead th {\n",
              "        text-align: right;\n",
              "    }\n",
              "</style>\n",
              "<table border=\"1\" class=\"dataframe\">\n",
              "  <thead>\n",
              "    <tr style=\"text-align: right;\">\n",
              "      <th></th>\n",
              "      <th>behavior_type</th>\n",
              "      <th>Behavior_count</th>\n",
              "      <th>Percentage</th>\n",
              "    </tr>\n",
              "  </thead>\n",
              "  <tbody>\n",
              "    <tr>\n",
              "      <th>0</th>\n",
              "      <td>1</td>\n",
              "      <td>756387</td>\n",
              "      <td>0.942237</td>\n",
              "    </tr>\n",
              "    <tr>\n",
              "      <th>1</th>\n",
              "      <td>2</td>\n",
              "      <td>16013</td>\n",
              "      <td>0.019948</td>\n",
              "    </tr>\n",
              "    <tr>\n",
              "      <th>2</th>\n",
              "      <td>3</td>\n",
              "      <td>22510</td>\n",
              "      <td>0.028041</td>\n",
              "    </tr>\n",
              "    <tr>\n",
              "      <th>3</th>\n",
              "      <td>4</td>\n",
              "      <td>7847</td>\n",
              "      <td>0.009775</td>\n",
              "    </tr>\n",
              "  </tbody>\n",
              "</table>\n",
              "</div>"
            ],
            "text/plain": [
              "   behavior_type  Behavior_count  Percentage\n",
              "0              1          756387    0.942237\n",
              "1              2           16013    0.019948\n",
              "2              3           22510    0.028041\n",
              "3              4            7847    0.009775"
            ]
          },
          "metadata": {
            "tags": []
          },
          "execution_count": 113
        }
      ]
    },
    {
      "cell_type": "markdown",
      "metadata": {
        "id": "k0SzbPDGBBvx",
        "colab_type": "text"
      },
      "source": [
        "Click, collect, add-to-cart and payment, the corresponding values are 1, 2, 3 and 4, respectively. We can see clicking are the most active operation, which is 94%, and adding to cart is more active than collect."
      ]
    },
    {
      "cell_type": "markdown",
      "metadata": {
        "id": "PQEi5LFfCKj8",
        "colab_type": "text"
      },
      "source": [
        "### Number of user payments behavior"
      ]
    },
    {
      "cell_type": "code",
      "metadata": {
        "id": "y4gCeS0xCKy6",
        "colab_type": "code",
        "outputId": "7bc0be6d-ee52-4d95-eea4-7201d95de1bc",
        "colab": {
          "base_uri": "https://localhost:8080/",
          "height": 313
        }
      },
      "source": [
        "data_user_buy = data_user[data_user.behavior_type==4].groupby('user_id')['behavior_type'].count()\n",
        "\n",
        "sns.distplot(data_user_buy, kde=True)\n",
        "plt.title('Monthly user payments distribution')"
      ],
      "execution_count": 95,
      "outputs": [
        {
          "output_type": "execute_result",
          "data": {
            "text/plain": [
              "Text(0.5, 1.0, 'Monthly user payments distribution')"
            ]
          },
          "metadata": {
            "tags": []
          },
          "execution_count": 95
        },
        {
          "output_type": "display_data",
          "data": {
            "image/png": "[encoded data removed]",
            "text/plain": [
              "<Figure size 432x288 with 1 Axes>"
            ]
          },
          "metadata": {
            "tags": [],
            "needs_background": "light"
          }
        }
      ]
    },
    {
      "cell_type": "markdown",
      "metadata": {
        "id": "ckEswAPsI0FU",
        "colab_type": "text"
      },
      "source": [
        "We can see almost users pay no more than 10 times monthly. Therefore, users who buy more than 10 times are more valuable or at least need more attention."
      ]
    },
    {
      "cell_type": "markdown",
      "metadata": {
        "id": "LBjBsBg8ICpl",
        "colab_type": "text"
      },
      "source": [
        "### Average revenue per paying user (ARPPU)"
      ]
    },
    {
      "cell_type": "markdown",
      "metadata": {
        "id": "5W_dbRGVI-GW",
        "colab_type": "text"
      },
      "source": [
        "ARPPU: defined as the total revenue divided by the number of paying users. Because we do not have revenue, replace the revenue with daily total payments count. That provides the company a granular view at a per user or unit basis and allows it to track revenue sources and growth."
      ]
    },
    {
      "cell_type": "code",
      "metadata": {
        "id": "9STHGVz6CK2j",
        "colab_type": "code",
        "outputId": "2c9d9b7d-d353-47c4-cc63-fe8ebee39191",
        "colab": {
          "base_uri": "https://localhost:8080/",
          "height": 347
        }
      },
      "source": [
        "# how many payments in total for each user daily\n",
        "user_buy_daily = data_user[data_user.behavior_type==4].groupby(['date','user_id'])['behavior_type'] \\\n",
        "                  .count().reset_index().rename(columns={'behavior_type':'total'})\n",
        "\n",
        "# compute the average payments per user daily\n",
        "user_buy_daily.groupby('date').apply(lambda x:x.total.sum()/x.total.count()).plot()\n",
        "plt.title('Daily ARPPU')"
      ],
      "execution_count": 115,
      "outputs": [
        {
          "output_type": "execute_result",
          "data": {
            "text/plain": [
              "Text(0.5, 1.0, 'Daily ARPPU')"
            ]
          },
          "metadata": {
            "tags": []
          },
          "execution_count": 115
        },
        {
          "output_type": "display_data",
          "data": {
            "image/png": "[encoded data removed]",
            "text/plain": [
              "<Figure size 432x288 with 1 Axes>"
            ]
          },
          "metadata": {
            "tags": [],
            "needs_background": "light"
          }
        }
      ]
    },
    {
      "cell_type": "markdown",
      "metadata": {
        "id": "5Io04KDzNXZW",
        "colab_type": "text"
      },
      "source": [
        "### Average revenue per user (ARPU)"
      ]
    },
    {
      "cell_type": "markdown",
      "metadata": {
        "id": "3IRrRxQQMpxY",
        "colab_type": "text"
      },
      "source": [
        "ARPU: defined as avg revenue per user, not limited to paying users, here again replace revenue with payments count."
      ]
    },
    {
      "cell_type": "code",
      "metadata": {
        "id": "uQIM6I7bMmyd",
        "colab_type": "code",
        "outputId": "45945aff-9bf8-4927-bc5c-fc209a30d33b",
        "colab": {
          "base_uri": "https://localhost:8080/",
          "height": 347
        }
      },
      "source": [
        "# because we will use three cols for grouping, add one more col to hold the results\n",
        "data_user['operation'] = 1\n",
        "data_user_buy2 = data_user.groupby(['date','user_id','behavior_type'])['operation'] \\\n",
        "                  .count().reset_index().rename(columns={'operation':'total'})\n",
        "                  \n",
        "# for each selected date, there is a dataframe(x) to do apply below\n",
        "data_user_buy2.groupby('date').apply(lambda x: x[x.behavior_type==4].total.sum()/x.user_id.nunique()).plot()\n",
        "plt.title('Daily ARPU')"
      ],
      "execution_count": 116,
      "outputs": [
        {
          "output_type": "execute_result",
          "data": {
            "text/plain": [
              "Text(0.5, 1.0, 'Daily ARPU')"
            ]
          },
          "metadata": {
            "tags": []
          },
          "execution_count": 116
        },
        {
          "output_type": "display_data",
          "data": {
            "image/png": "[encoded data removed]",
            "text/plain": [
              "<Figure size 432x288 with 1 Axes>"
            ]
          },
          "metadata": {
            "tags": [],
            "needs_background": "light"
          }
        }
      ]
    },
    {
      "cell_type": "markdown",
      "metadata": {
        "id": "VmHCsQOLPwzb",
        "colab_type": "text"
      },
      "source": [
        "The difference between ARPPU and ARPU is that people are not the same group, the prior one is paying users, the later one is all active users who do any operations (whether paying or not)."
      ]
    },
    {
      "cell_type": "markdown",
      "metadata": {
        "id": "C7t-EpMbQxPv",
        "colab_type": "text"
      },
      "source": [
        "### Daily afford rate\n",
        "\n",
        "Defined as how many users paid/active users.\n",
        "\n",
        "Note: count() and sum() are different in this case because one user can operate/pay multiple times daily. So sum() is far much more than count()."
      ]
    },
    {
      "cell_type": "code",
      "metadata": {
        "id": "kNj1PgzXMm2u",
        "colab_type": "code",
        "outputId": "f4eb6951-083d-40e7-d92e-21bfce96fa17",
        "colab": {
          "base_uri": "https://localhost:8080/",
          "height": 347
        }
      },
      "source": [
        "# here we care about number of paying users (count), not paying times (sum)\n",
        "data_user_buy2.groupby('date').apply(lambda x: x[x.behavior_type==4].total.count()/x.user_id.nunique()).plot()\n",
        "plt.title('Daily afford rate')"
      ],
      "execution_count": 117,
      "outputs": [
        {
          "output_type": "execute_result",
          "data": {
            "text/plain": [
              "Text(0.5, 1.0, 'Daily afford rate')"
            ]
          },
          "metadata": {
            "tags": []
          },
          "execution_count": 117
        },
        {
          "output_type": "display_data",
          "data": {
            "image/png": "[encoded data removed]",
            "text/plain": [
              "<Figure size 432x288 with 1 Axes>"
            ]
          },
          "metadata": {
            "tags": [],
            "needs_background": "light"
          }
        }
      ]
    },
    {
      "cell_type": "markdown",
      "metadata": {
        "id": "m8XT7i8GCTkY",
        "colab_type": "text"
      },
      "source": [
        "### Rebuying behavior analysis"
      ]
    },
    {
      "cell_type": "markdown",
      "metadata": {
        "id": "jRhWRiu-V8vE",
        "colab_type": "text"
      },
      "source": [
        "#### Rebuying rate"
      ]
    },
    {
      "cell_type": "markdown",
      "metadata": {
        "id": "la5hODGHC_lz",
        "colab_type": "text"
      },
      "source": [
        "Rebuying user refers to users who buy more than two days in a month."
      ]
    },
    {
      "cell_type": "code",
      "metadata": {
        "id": "svDnXgIv_EkT",
        "colab_type": "code",
        "outputId": "f10adeb2-a873-4a93-f8c7-397d36829354",
        "colab": {
          "base_uri": "https://localhost:8080/",
          "height": 34
        }
      },
      "source": [
        "# the date must be count by distinct because multiple payments in one day is considered once\n",
        "# rename here change the series name, not column name\n",
        "date_rebuy = data_user[data_user.behavior_type==4].groupby('user_id')['date'] \\\n",
        "              .apply(lambda x: x.nunique()).reset_index().rename(columns={'date':'rebuy_count'})\n",
        "\n",
        "rate = len(date_rebuy[date_rebuy.rebuy_count>=2])/len(date_rebuy)\n",
        "print('Rebuying rate is {}'.format(round(rate, 2)))"
      ],
      "execution_count": 123,
      "outputs": [
        {
          "output_type": "stream",
          "text": [
            "Rebuying rate is 0.47\n"
          ],
          "name": "stdout"
        }
      ]
    },
    {
      "cell_type": "markdown",
      "metadata": {
        "id": "SeT-zHhwGqPw",
        "colab_type": "text"
      },
      "source": [
        "#### When people rebuy with regard to time lag"
      ]
    },
    {
      "cell_type": "code",
      "metadata": {
        "id": "6gjWXuNf-Rfx",
        "colab_type": "code",
        "outputId": "05accb38-6102-42a6-9358-e37621ef4422",
        "colab": {
          "base_uri": "https://localhost:8080/",
          "height": 315
        }
      },
      "source": [
        "data_day_buy = data_user[data_user.behavior_type==4].groupby(['user_id','date'])['operation'].count().reset_index()\n",
        "# diff(1) will compute the two elements difference, but the first element will be nan, dropna() to delete that row\n",
        "data_user_buy4 = data_day_buy.groupby('user_id')['date'].apply(lambda x: x.sort_values().diff(1).dropna())\n",
        "# extract day number from '12 days'\n",
        "data_user_buy4 = data_user_buy4.map(lambda x: x.days)\n",
        "data_user_buy4.value_counts().plot(kind='bar')\n",
        "plt.title('Time lag')\n",
        "plt.xlabel('Lap days')\n",
        "plt.ylabel('How many people rebuy in this time lag')"
      ],
      "execution_count": 125,
      "outputs": [
        {
          "output_type": "execute_result",
          "data": {
            "text/plain": [
              "Text(0, 0.5, 'How many people rebuy in this time lag')"
            ]
          },
          "metadata": {
            "tags": []
          },
          "execution_count": 125
        },
        {
          "output_type": "display_data",
          "data": {
            "image/png": "[encoded data removed]",
            "text/plain": [
              "<Figure size 432x288 with 1 Axes>"
            ]
          },
          "metadata": {
            "tags": [],
            "needs_background": "light"
          }
        }
      ]
    },
    {
      "cell_type": "markdown",
      "metadata": {
        "id": "rNDeT1o0KRp2",
        "colab_type": "text"
      },
      "source": [
        "We can see the paying behavior is decreasing with the time gap between the first buying date. Need to pay attention to encourage users to rebuy within 10 days."
      ]
    },
    {
      "cell_type": "markdown",
      "metadata": {
        "id": "CixoYGgXLD9K",
        "colab_type": "text"
      },
      "source": [
        "### User missing analysis"
      ]
    },
    {
      "cell_type": "code",
      "metadata": {
        "id": "YIQWM9DQ-RsD",
        "colab_type": "code",
        "colab": {}
      },
      "source": [
        "# len(df) is faster than df.shape[0] is faster than df.count()\n",
        "pv_all = len(data_user['user_id'])\n",
        "\n",
        "# What portion of users operate 4 behaviors in duration\n",
        "data_user_count = data_user.groupby('behavior_type')['operation'].count() \\\n",
        "                    .apply(lambda x: x/pv_all).reset_index().rename(columns={'operation':'operation portion'})"
      ],
      "execution_count": 0,
      "outputs": []
    },
    {
      "cell_type": "code",
      "metadata": {
        "id": "IcczK1KyM6Fs",
        "colab_type": "code",
        "outputId": "f368245f-88b1-4376-fd54-253b2a04b2de",
        "colab": {
          "base_uri": "https://localhost:8080/",
          "height": 168
        }
      },
      "source": [
        "data_user_count"
      ],
      "execution_count": 128,
      "outputs": [
        {
          "output_type": "execute_result",
          "data": {
            "text/html": [
              "<div>\n",
              "<style scoped>\n",
              "    .dataframe tbody tr th:only-of-type {\n",
              "        vertical-align: middle;\n",
              "    }\n",
              "\n",
              "    .dataframe tbody tr th {\n",
              "        vertical-align: top;\n",
              "    }\n",
              "\n",
              "    .dataframe thead th {\n",
              "        text-align: right;\n",
              "    }\n",
              "</style>\n",
              "<table border=\"1\" class=\"dataframe\">\n",
              "  <thead>\n",
              "    <tr style=\"text-align: right;\">\n",
              "      <th></th>\n",
              "      <th>behavior_type</th>\n",
              "      <th>operation portion</th>\n",
              "    </tr>\n",
              "  </thead>\n",
              "  <tbody>\n",
              "    <tr>\n",
              "      <th>0</th>\n",
              "      <td>1</td>\n",
              "      <td>0.942237</td>\n",
              "    </tr>\n",
              "    <tr>\n",
              "      <th>1</th>\n",
              "      <td>2</td>\n",
              "      <td>0.019948</td>\n",
              "    </tr>\n",
              "    <tr>\n",
              "      <th>2</th>\n",
              "      <td>3</td>\n",
              "      <td>0.028041</td>\n",
              "    </tr>\n",
              "    <tr>\n",
              "      <th>3</th>\n",
              "      <td>4</td>\n",
              "      <td>0.009775</td>\n",
              "    </tr>\n",
              "  </tbody>\n",
              "</table>\n",
              "</div>"
            ],
            "text/plain": [
              "   behavior_type  operation portion\n",
              "0              1           0.942237\n",
              "1              2           0.019948\n",
              "2              3           0.028041\n",
              "3              4           0.009775"
            ]
          },
          "metadata": {
            "tags": []
          },
          "execution_count": 128
        }
      ]
    },
    {
      "cell_type": "markdown",
      "metadata": {
        "id": "m7dyPm5nODme",
        "colab_type": "text"
      },
      "source": [
        "### Different item category analysis\n",
        "\n",
        "We can see four behaviors for each category below."
      ]
    },
    {
      "cell_type": "code",
      "metadata": {
        "id": "7aTkalSXNGaZ",
        "colab_type": "code",
        "outputId": "8031ed0b-ca6e-40f5-ccf4-5d24412c2e68",
        "colab": {
          "base_uri": "https://localhost:8080/",
          "height": 228
        }
      },
      "source": [
        "data_category = data_user.groupby(['item_category', 'behavior_type'])['operation'].count() \\\n",
        "                  .unstack(level=1).rename(columns={1:'click',2:'collect',3:'add-to-cart',4:'buy'}).fillna(0)\n",
        "# unstack - pivot table using the index in the specified level\n",
        "data_category.head()"
      ],
      "execution_count": 129,
      "outputs": [
        {
          "output_type": "execute_result",
          "data": {
            "text/html": [
              "<div>\n",
              "<style scoped>\n",
              "    .dataframe tbody tr th:only-of-type {\n",
              "        vertical-align: middle;\n",
              "    }\n",
              "\n",
              "    .dataframe tbody tr th {\n",
              "        vertical-align: top;\n",
              "    }\n",
              "\n",
              "    .dataframe thead th {\n",
              "        text-align: right;\n",
              "    }\n",
              "</style>\n",
              "<table border=\"1\" class=\"dataframe\">\n",
              "  <thead>\n",
              "    <tr style=\"text-align: right;\">\n",
              "      <th>behavior_type</th>\n",
              "      <th>click</th>\n",
              "      <th>collect</th>\n",
              "      <th>add-to-cart</th>\n",
              "      <th>buy</th>\n",
              "    </tr>\n",
              "    <tr>\n",
              "      <th>item_category</th>\n",
              "      <th></th>\n",
              "      <th></th>\n",
              "      <th></th>\n",
              "      <th></th>\n",
              "    </tr>\n",
              "  </thead>\n",
              "  <tbody>\n",
              "    <tr>\n",
              "      <th>8</th>\n",
              "      <td>58.0</td>\n",
              "      <td>0.0</td>\n",
              "      <td>1.0</td>\n",
              "      <td>0.0</td>\n",
              "    </tr>\n",
              "    <tr>\n",
              "      <th>10</th>\n",
              "      <td>11.0</td>\n",
              "      <td>0.0</td>\n",
              "      <td>0.0</td>\n",
              "      <td>0.0</td>\n",
              "    </tr>\n",
              "    <tr>\n",
              "      <th>11</th>\n",
              "      <td>572.0</td>\n",
              "      <td>6.0</td>\n",
              "      <td>4.0</td>\n",
              "      <td>0.0</td>\n",
              "    </tr>\n",
              "    <tr>\n",
              "      <th>12</th>\n",
              "      <td>9.0</td>\n",
              "      <td>0.0</td>\n",
              "      <td>0.0</td>\n",
              "      <td>0.0</td>\n",
              "    </tr>\n",
              "    <tr>\n",
              "      <th>13</th>\n",
              "      <td>6.0</td>\n",
              "      <td>0.0</td>\n",
              "      <td>0.0</td>\n",
              "      <td>0.0</td>\n",
              "    </tr>\n",
              "  </tbody>\n",
              "</table>\n",
              "</div>"
            ],
            "text/plain": [
              "behavior_type  click  collect  add-to-cart  buy\n",
              "item_category                                  \n",
              "8               58.0      0.0          1.0  0.0\n",
              "10              11.0      0.0          0.0  0.0\n",
              "11             572.0      6.0          4.0  0.0\n",
              "12               9.0      0.0          0.0  0.0\n",
              "13               6.0      0.0          0.0  0.0"
            ]
          },
          "metadata": {
            "tags": []
          },
          "execution_count": 129
        }
      ]
    },
    {
      "cell_type": "markdown",
      "metadata": {
        "id": "JObF2fVTY3Ih",
        "colab_type": "text"
      },
      "source": [
        "Therefore, we can draw suggestions based on the user missing stage for each category of products."
      ]
    }
  ]
}
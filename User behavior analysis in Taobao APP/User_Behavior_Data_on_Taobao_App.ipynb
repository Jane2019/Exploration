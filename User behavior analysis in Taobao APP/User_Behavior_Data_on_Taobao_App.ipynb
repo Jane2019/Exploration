{
  "nbformat": 4,
  "nbformat_minor": 0,
  "metadata": {
    "colab": {
      "name": "User Behavior Data on Taobao App.ipynb",
      "provenance": [],
      "collapsed_sections": []
    },
    "kernelspec": {
      "name": "python3",
      "display_name": "Python 3"
    }
  },
  "cells": [
    {
      "cell_type": "markdown",
      "metadata": {
        "id": "tOvX8TkIBeWN",
        "colab_type": "text"
      },
      "source": [
        "Dataset link: https://tianchi.aliyun.com/dataset/dataDetail?dataId=46"
      ]
    },
    {
      "cell_type": "markdown",
      "metadata": {
        "id": "Z9eEWkiNs4-l",
        "colab_type": "text"
      },
      "source": [
        "- user_id\n",
        "- item_id\n",
        "- behavior_type\n",
        "- user_geohash\n",
        "- item_category\n",
        "- time"
      ]
    },
    {
      "cell_type": "markdown",
      "metadata": {
        "id": "0i8JxB5As1U9",
        "colab_type": "text"
      },
      "source": [
        "## Import library"
      ]
    },
    {
      "cell_type": "code",
      "metadata": {
        "id": "vSCW2iRIrXWE",
        "colab_type": "code",
        "outputId": "3b0ca4c3-037e-4f2a-bcba-9e020ec5d6fa",
        "colab": {
          "base_uri": "https://localhost:8080/",
          "height": 72
        }
      },
      "source": [
        "import pandas as pd\n",
        "import numpy as np\n",
        "import seaborn as sns\n",
        "import matplotlib.pyplot as plt"
      ],
      "execution_count": 1,
      "outputs": [
        {
          "output_type": "stream",
          "text": [
            "/usr/local/lib/python3.6/dist-packages/statsmodels/tools/_testing.py:19: FutureWarning: pandas.util.testing is deprecated. Use the functions in the public API at pandas.testing instead.\n",
            "  import pandas.util.testing as tm\n"
          ],
          "name": "stderr"
        }
      ]
    },
    {
      "cell_type": "markdown",
      "metadata": {
        "id": "NABkAtD3tFy4",
        "colab_type": "text"
      },
      "source": [
        "## Data overview"
      ]
    },
    {
      "cell_type": "code",
      "metadata": {
        "id": "ePzn2Hx2szl3",
        "colab_type": "code",
        "colab": {}
      },
      "source": [
        "data_user = pd.read_csv('train_user.csv')"
      ],
      "execution_count": 0,
      "outputs": []
    },
    {
      "cell_type": "code",
      "metadata": {
        "id": "IaxDrsZ2uLHZ",
        "colab_type": "code",
        "outputId": "485c3dd6-747d-40d3-a0ee-2cb61cf8dc72",
        "colab": {
          "base_uri": "https://localhost:8080/",
          "height": 34
        }
      },
      "source": [
        "data_user.shape"
      ],
      "execution_count": 3,
      "outputs": [
        {
          "output_type": "execute_result",
          "data": {
            "text/plain": [
              "(362534, 6)"
            ]
          },
          "metadata": {
            "tags": []
          },
          "execution_count": 3
        }
      ]
    },
    {
      "cell_type": "code",
      "metadata": {
        "id": "72DtkpPDsz3K",
        "colab_type": "code",
        "outputId": "fbf5a40a-fb09-4482-cb70-31b259ffce08",
        "colab": {
          "base_uri": "https://localhost:8080/",
          "height": 198
        }
      },
      "source": [
        "data_user.head()"
      ],
      "execution_count": 4,
      "outputs": [
        {
          "output_type": "execute_result",
          "data": {
            "text/html": [
              "<div>\n",
              "<style scoped>\n",
              "    .dataframe tbody tr th:only-of-type {\n",
              "        vertical-align: middle;\n",
              "    }\n",
              "\n",
              "    .dataframe tbody tr th {\n",
              "        vertical-align: top;\n",
              "    }\n",
              "\n",
              "    .dataframe thead th {\n",
              "        text-align: right;\n",
              "    }\n",
              "</style>\n",
              "<table border=\"1\" class=\"dataframe\">\n",
              "  <thead>\n",
              "    <tr style=\"text-align: right;\">\n",
              "      <th></th>\n",
              "      <th>user_id</th>\n",
              "      <th>item_id</th>\n",
              "      <th>behavior_type</th>\n",
              "      <th>user_geohash</th>\n",
              "      <th>item_category</th>\n",
              "      <th>time</th>\n",
              "    </tr>\n",
              "  </thead>\n",
              "  <tbody>\n",
              "    <tr>\n",
              "      <th>0</th>\n",
              "      <td>98047837</td>\n",
              "      <td>232431562</td>\n",
              "      <td>1</td>\n",
              "      <td>NaN</td>\n",
              "      <td>4245</td>\n",
              "      <td>2014-12-06 02</td>\n",
              "    </tr>\n",
              "    <tr>\n",
              "      <th>1</th>\n",
              "      <td>97726136</td>\n",
              "      <td>383583590</td>\n",
              "      <td>1</td>\n",
              "      <td>NaN</td>\n",
              "      <td>5894</td>\n",
              "      <td>2014-12-09 20</td>\n",
              "    </tr>\n",
              "    <tr>\n",
              "      <th>2</th>\n",
              "      <td>98607707</td>\n",
              "      <td>64749712</td>\n",
              "      <td>1</td>\n",
              "      <td>NaN</td>\n",
              "      <td>2883</td>\n",
              "      <td>2014-12-18 11</td>\n",
              "    </tr>\n",
              "    <tr>\n",
              "      <th>3</th>\n",
              "      <td>98662432</td>\n",
              "      <td>320593836</td>\n",
              "      <td>1</td>\n",
              "      <td>96nn52n</td>\n",
              "      <td>6562</td>\n",
              "      <td>2014-12-06 10</td>\n",
              "    </tr>\n",
              "    <tr>\n",
              "      <th>4</th>\n",
              "      <td>98145908</td>\n",
              "      <td>290208520</td>\n",
              "      <td>1</td>\n",
              "      <td>NaN</td>\n",
              "      <td>13926</td>\n",
              "      <td>2014-12-16 21</td>\n",
              "    </tr>\n",
              "  </tbody>\n",
              "</table>\n",
              "</div>"
            ],
            "text/plain": [
              "    user_id    item_id  ...  item_category           time\n",
              "0  98047837  232431562  ...           4245  2014-12-06 02\n",
              "1  97726136  383583590  ...           5894  2014-12-09 20\n",
              "2  98607707   64749712  ...           2883  2014-12-18 11\n",
              "3  98662432  320593836  ...           6562  2014-12-06 10\n",
              "4  98145908  290208520  ...          13926  2014-12-16 21\n",
              "\n",
              "[5 rows x 6 columns]"
            ]
          },
          "metadata": {
            "tags": []
          },
          "execution_count": 4
        }
      ]
    },
    {
      "cell_type": "code",
      "metadata": {
        "id": "c9N1eYQ7sz79",
        "colab_type": "code",
        "outputId": "6ad8c500-6903-42cd-befa-45ffb17b4f18",
        "colab": {
          "base_uri": "https://localhost:8080/",
          "height": 138
        }
      },
      "source": [
        "data_user.dtypes"
      ],
      "execution_count": 5,
      "outputs": [
        {
          "output_type": "execute_result",
          "data": {
            "text/plain": [
              "user_id           int64\n",
              "item_id           int64\n",
              "behavior_type     int64\n",
              "user_geohash     object\n",
              "item_category     int64\n",
              "time             object\n",
              "dtype: object"
            ]
          },
          "metadata": {
            "tags": []
          },
          "execution_count": 5
        }
      ]
    },
    {
      "cell_type": "code",
      "metadata": {
        "id": "9eiyVHxFsz_i",
        "colab_type": "code",
        "colab": {}
      },
      "source": [
        "# missing value\n",
        "missingTotal = data_user.isnull().sum()\n",
        "missingExist = missingTotal[missingTotal > 0]\n",
        "missingExist = missingExist.sort_values(ascending=False)"
      ],
      "execution_count": 0,
      "outputs": []
    },
    {
      "cell_type": "code",
      "metadata": {
        "id": "5BneacJit-yt",
        "colab_type": "code",
        "outputId": "a4593495-41be-4676-e2d7-5c32d53aa895",
        "colab": {
          "base_uri": "https://localhost:8080/",
          "height": 52
        }
      },
      "source": [
        "missingExist"
      ],
      "execution_count": 7,
      "outputs": [
        {
          "output_type": "execute_result",
          "data": {
            "text/plain": [
              "user_geohash    245888\n",
              "dtype: int64"
            ]
          },
          "metadata": {
            "tags": []
          },
          "execution_count": 7
        }
      ]
    },
    {
      "cell_type": "markdown",
      "metadata": {
        "id": "JYrE9hUYuDaW",
        "colab_type": "text"
      },
      "source": [
        "We can see the column, user_geohash has null values.\n",
        "\n",
        "Also we can see the time column need to be cleaned, bucause it contains date and the time both in one element."
      ]
    },
    {
      "cell_type": "code",
      "metadata": {
        "id": "DDnT_Nb3vpeb",
        "colab_type": "code",
        "outputId": "fd233886-d912-4ab3-ef03-b5aaad63036b",
        "colab": {
          "base_uri": "https://localhost:8080/",
          "height": 34
        }
      },
      "source": [
        "data_user.loc[0, 'time']"
      ],
      "execution_count": 8,
      "outputs": [
        {
          "output_type": "execute_result",
          "data": {
            "text/plain": [
              "'2014-12-06 02'"
            ]
          },
          "metadata": {
            "tags": []
          },
          "execution_count": 8
        }
      ]
    },
    {
      "cell_type": "code",
      "metadata": {
        "id": "Jxzaa2KdvCTf",
        "colab_type": "code",
        "colab": {}
      },
      "source": [
        "# separate date and time (hrs)\n",
        "data_user['date'] = data_user['time'].map(lambda s: s.split(' ')[0])\n",
        "data_user['hour'] = data_user['time'].map(lambda s: s.split(' ')[1])"
      ],
      "execution_count": 0,
      "outputs": []
    },
    {
      "cell_type": "code",
      "metadata": {
        "id": "E9At0UEGwSkd",
        "colab_type": "code",
        "outputId": "2190fdf7-632b-4bd5-fe16-30a88f009355",
        "colab": {
          "base_uri": "https://localhost:8080/",
          "height": 198
        }
      },
      "source": [
        "data_user.head()"
      ],
      "execution_count": 10,
      "outputs": [
        {
          "output_type": "execute_result",
          "data": {
            "text/html": [
              "<div>\n",
              "<style scoped>\n",
              "    .dataframe tbody tr th:only-of-type {\n",
              "        vertical-align: middle;\n",
              "    }\n",
              "\n",
              "    .dataframe tbody tr th {\n",
              "        vertical-align: top;\n",
              "    }\n",
              "\n",
              "    .dataframe thead th {\n",
              "        text-align: right;\n",
              "    }\n",
              "</style>\n",
              "<table border=\"1\" class=\"dataframe\">\n",
              "  <thead>\n",
              "    <tr style=\"text-align: right;\">\n",
              "      <th></th>\n",
              "      <th>user_id</th>\n",
              "      <th>item_id</th>\n",
              "      <th>behavior_type</th>\n",
              "      <th>user_geohash</th>\n",
              "      <th>item_category</th>\n",
              "      <th>time</th>\n",
              "      <th>date</th>\n",
              "      <th>hour</th>\n",
              "    </tr>\n",
              "  </thead>\n",
              "  <tbody>\n",
              "    <tr>\n",
              "      <th>0</th>\n",
              "      <td>98047837</td>\n",
              "      <td>232431562</td>\n",
              "      <td>1</td>\n",
              "      <td>NaN</td>\n",
              "      <td>4245</td>\n",
              "      <td>2014-12-06 02</td>\n",
              "      <td>2014-12-06</td>\n",
              "      <td>02</td>\n",
              "    </tr>\n",
              "    <tr>\n",
              "      <th>1</th>\n",
              "      <td>97726136</td>\n",
              "      <td>383583590</td>\n",
              "      <td>1</td>\n",
              "      <td>NaN</td>\n",
              "      <td>5894</td>\n",
              "      <td>2014-12-09 20</td>\n",
              "      <td>2014-12-09</td>\n",
              "      <td>20</td>\n",
              "    </tr>\n",
              "    <tr>\n",
              "      <th>2</th>\n",
              "      <td>98607707</td>\n",
              "      <td>64749712</td>\n",
              "      <td>1</td>\n",
              "      <td>NaN</td>\n",
              "      <td>2883</td>\n",
              "      <td>2014-12-18 11</td>\n",
              "      <td>2014-12-18</td>\n",
              "      <td>11</td>\n",
              "    </tr>\n",
              "    <tr>\n",
              "      <th>3</th>\n",
              "      <td>98662432</td>\n",
              "      <td>320593836</td>\n",
              "      <td>1</td>\n",
              "      <td>96nn52n</td>\n",
              "      <td>6562</td>\n",
              "      <td>2014-12-06 10</td>\n",
              "      <td>2014-12-06</td>\n",
              "      <td>10</td>\n",
              "    </tr>\n",
              "    <tr>\n",
              "      <th>4</th>\n",
              "      <td>98145908</td>\n",
              "      <td>290208520</td>\n",
              "      <td>1</td>\n",
              "      <td>NaN</td>\n",
              "      <td>13926</td>\n",
              "      <td>2014-12-16 21</td>\n",
              "      <td>2014-12-16</td>\n",
              "      <td>21</td>\n",
              "    </tr>\n",
              "  </tbody>\n",
              "</table>\n",
              "</div>"
            ],
            "text/plain": [
              "    user_id    item_id  behavior_type  ...           time        date hour\n",
              "0  98047837  232431562              1  ...  2014-12-06 02  2014-12-06   02\n",
              "1  97726136  383583590              1  ...  2014-12-09 20  2014-12-09   20\n",
              "2  98607707   64749712              1  ...  2014-12-18 11  2014-12-18   11\n",
              "3  98662432  320593836              1  ...  2014-12-06 10  2014-12-06   10\n",
              "4  98145908  290208520              1  ...  2014-12-16 21  2014-12-16   21\n",
              "\n",
              "[5 rows x 8 columns]"
            ]
          },
          "metadata": {
            "tags": []
          },
          "execution_count": 10
        }
      ]
    },
    {
      "cell_type": "code",
      "metadata": {
        "id": "77uEHVyYwWXf",
        "colab_type": "code",
        "colab": {}
      },
      "source": [
        "# method II: using re when complex split pattern\n",
        "# data_user['time'].map(lambda s: re.compile(' ').split(s)[0])"
      ],
      "execution_count": 0,
      "outputs": []
    },
    {
      "cell_type": "markdown",
      "metadata": {
        "id": "sha-15jHwx_p",
        "colab_type": "text"
      },
      "source": [
        "Then, we should convert the date and time into date type, currently they are both string."
      ]
    },
    {
      "cell_type": "code",
      "metadata": {
        "id": "W9sgdIxKwtX3",
        "colab_type": "code",
        "outputId": "4188f5e1-66a8-407d-8e87-77998b3ff614",
        "colab": {
          "base_uri": "https://localhost:8080/",
          "height": 173
        }
      },
      "source": [
        "data_user['date'] = pd.to_datetime(data_user['date'])\n",
        "data_user['time'] = pd.to_datetime(data_user['time'])\n",
        "data_user['hour'] = data_user['hour'].astype('int64')\n",
        "data_user.dtypes"
      ],
      "execution_count": 12,
      "outputs": [
        {
          "output_type": "execute_result",
          "data": {
            "text/plain": [
              "user_id                   int64\n",
              "item_id                   int64\n",
              "behavior_type             int64\n",
              "user_geohash             object\n",
              "item_category             int64\n",
              "time             datetime64[ns]\n",
              "date             datetime64[ns]\n",
              "hour                      int64\n",
              "dtype: object"
            ]
          },
          "metadata": {
            "tags": []
          },
          "execution_count": 12
        }
      ]
    },
    {
      "cell_type": "code",
      "metadata": {
        "id": "EwD_rl1-xwST",
        "colab_type": "code",
        "outputId": "9b11e3bd-724c-4991-a6f7-a432655b8a1b",
        "colab": {
          "base_uri": "https://localhost:8080/",
          "height": 34
        }
      },
      "source": [
        "data_user.loc[0, 'time']"
      ],
      "execution_count": 13,
      "outputs": [
        {
          "output_type": "execute_result",
          "data": {
            "text/plain": [
              "Timestamp('2014-12-06 02:00:00')"
            ]
          },
          "metadata": {
            "tags": []
          },
          "execution_count": 13
        }
      ]
    },
    {
      "cell_type": "code",
      "metadata": {
        "id": "Nrip9MUXxeCf",
        "colab_type": "code",
        "outputId": "3dad1fcc-6b3b-415d-df22-28b34388dca2",
        "colab": {
          "base_uri": "https://localhost:8080/",
          "height": 288
        }
      },
      "source": [
        "# see if there are some outliers\n",
        "data_user = data_user.sort_values(by='time', ascending=True)\n",
        "data_user = data_user.reset_index(drop=True)\n",
        "data_user.describe()"
      ],
      "execution_count": 14,
      "outputs": [
        {
          "output_type": "execute_result",
          "data": {
            "text/html": [
              "<div>\n",
              "<style scoped>\n",
              "    .dataframe tbody tr th:only-of-type {\n",
              "        vertical-align: middle;\n",
              "    }\n",
              "\n",
              "    .dataframe tbody tr th {\n",
              "        vertical-align: top;\n",
              "    }\n",
              "\n",
              "    .dataframe thead th {\n",
              "        text-align: right;\n",
              "    }\n",
              "</style>\n",
              "<table border=\"1\" class=\"dataframe\">\n",
              "  <thead>\n",
              "    <tr style=\"text-align: right;\">\n",
              "      <th></th>\n",
              "      <th>user_id</th>\n",
              "      <th>item_id</th>\n",
              "      <th>behavior_type</th>\n",
              "      <th>item_category</th>\n",
              "      <th>hour</th>\n",
              "    </tr>\n",
              "  </thead>\n",
              "  <tbody>\n",
              "    <tr>\n",
              "      <th>count</th>\n",
              "      <td>3.625340e+05</td>\n",
              "      <td>3.625340e+05</td>\n",
              "      <td>362534.000000</td>\n",
              "      <td>362534.000000</td>\n",
              "      <td>362534.000000</td>\n",
              "    </tr>\n",
              "    <tr>\n",
              "      <th>mean</th>\n",
              "      <td>7.265333e+07</td>\n",
              "      <td>2.021039e+08</td>\n",
              "      <td>1.107430</td>\n",
              "      <td>6826.836382</td>\n",
              "      <td>14.771740</td>\n",
              "    </tr>\n",
              "    <tr>\n",
              "      <th>std</th>\n",
              "      <td>4.171993e+07</td>\n",
              "      <td>1.169389e+08</td>\n",
              "      <td>0.462168</td>\n",
              "      <td>3802.933299</td>\n",
              "      <td>6.530478</td>\n",
              "    </tr>\n",
              "    <tr>\n",
              "      <th>min</th>\n",
              "      <td>6.118000e+03</td>\n",
              "      <td>6.680000e+02</td>\n",
              "      <td>1.000000</td>\n",
              "      <td>8.000000</td>\n",
              "      <td>0.000000</td>\n",
              "    </tr>\n",
              "    <tr>\n",
              "      <th>25%</th>\n",
              "      <td>3.647133e+07</td>\n",
              "      <td>1.008812e+08</td>\n",
              "      <td>1.000000</td>\n",
              "      <td>3673.000000</td>\n",
              "      <td>10.000000</td>\n",
              "    </tr>\n",
              "    <tr>\n",
              "      <th>50%</th>\n",
              "      <td>7.342430e+07</td>\n",
              "      <td>2.017482e+08</td>\n",
              "      <td>1.000000</td>\n",
              "      <td>6209.000000</td>\n",
              "      <td>16.000000</td>\n",
              "    </tr>\n",
              "    <tr>\n",
              "      <th>75%</th>\n",
              "      <td>1.100435e+08</td>\n",
              "      <td>3.035041e+08</td>\n",
              "      <td>1.000000</td>\n",
              "      <td>10258.000000</td>\n",
              "      <td>20.000000</td>\n",
              "    </tr>\n",
              "    <tr>\n",
              "      <th>max</th>\n",
              "      <td>1.424302e+08</td>\n",
              "      <td>4.045613e+08</td>\n",
              "      <td>4.000000</td>\n",
              "      <td>14080.000000</td>\n",
              "      <td>23.000000</td>\n",
              "    </tr>\n",
              "  </tbody>\n",
              "</table>\n",
              "</div>"
            ],
            "text/plain": [
              "            user_id       item_id  behavior_type  item_category           hour\n",
              "count  3.625340e+05  3.625340e+05  362534.000000  362534.000000  362534.000000\n",
              "mean   7.265333e+07  2.021039e+08       1.107430    6826.836382      14.771740\n",
              "std    4.171993e+07  1.169389e+08       0.462168    3802.933299       6.530478\n",
              "min    6.118000e+03  6.680000e+02       1.000000       8.000000       0.000000\n",
              "25%    3.647133e+07  1.008812e+08       1.000000    3673.000000      10.000000\n",
              "50%    7.342430e+07  2.017482e+08       1.000000    6209.000000      16.000000\n",
              "75%    1.100435e+08  3.035041e+08       1.000000   10258.000000      20.000000\n",
              "max    1.424302e+08  4.045613e+08       4.000000   14080.000000      23.000000"
            ]
          },
          "metadata": {
            "tags": []
          },
          "execution_count": 14
        }
      ]
    },
    {
      "cell_type": "markdown",
      "metadata": {
        "id": "8GDlB6HwyI7F",
        "colab_type": "text"
      },
      "source": [
        "We can see all column contain common data, no weird record."
      ]
    },
    {
      "cell_type": "markdown",
      "metadata": {
        "id": "aA6_8ifTyi54",
        "colab_type": "text"
      },
      "source": [
        "## Data exploration"
      ]
    },
    {
      "cell_type": "markdown",
      "metadata": {
        "id": "yXKxUiPl1Doc",
        "colab_type": "text"
      },
      "source": [
        "### Page view (PV) and unique visitor (UV) - daily"
      ]
    },
    {
      "cell_type": "code",
      "metadata": {
        "id": "Ghk_O-U0yiMu",
        "colab_type": "code",
        "colab": {}
      },
      "source": [
        "pv_daily = data_user.groupby('date')['user_id'] \\\n",
        "            .count().reset_index() \\\n",
        "            .rename(columns={'user_id': 'pv'})\n",
        "            \n",
        "uv_daily = data_user.groupby('date')['user_id'] \\\n",
        "            .apply(lambda x:x.drop_duplicates().count()) \\\n",
        "            .reset_index() \\\n",
        "            .rename(columns={'user_id': 'uv'})"
      ],
      "execution_count": 0,
      "outputs": []
    },
    {
      "cell_type": "code",
      "metadata": {
        "id": "Z4-rJdvlyAVD",
        "colab_type": "code",
        "outputId": "dad02eb7-d293-45b7-f8a9-ac01caea17bc",
        "colab": {
          "base_uri": "https://localhost:8080/",
          "height": 347
        }
      },
      "source": [
        "fig, axes = plt.subplots(2, 1, sharex=True)\n",
        "pv_daily.plot(x='date', y='pv', ax=axes[0])\n",
        "uv_daily.plot(x='date', y='uv', ax=axes[1])\n",
        "axes[0].set_title('Daily page view')\n",
        "axes[1].set_title('Daily unique user')"
      ],
      "execution_count": 17,
      "outputs": [
        {
          "output_type": "execute_result",
          "data": {
            "text/plain": [
              "Text(0.5, 1.0, 'Daily unique user')"
            ]
          },
          "metadata": {
            "tags": []
          },
          "execution_count": 17
        },
        {
          "output_type": "display_data",
          "data": {
            "image/png": "[encoded data removed]",
            "text/plain": [
              "<Figure size 432x288 with 2 Axes>"
            ]
          },
          "metadata": {
            "tags": [],
            "needs_background": "light"
          }
        }
      ]
    },
    {
      "cell_type": "code",
      "metadata": {
        "id": "QOQ13J5O55rk",
        "colab_type": "code",
        "outputId": "0c1b2957-77da-44b4-d79d-946e88b42fe1",
        "colab": {
          "base_uri": "https://localhost:8080/",
          "height": 34
        }
      },
      "source": [
        "data_user['user_id'].nunique()"
      ],
      "execution_count": 18,
      "outputs": [
        {
          "output_type": "execute_result",
          "data": {
            "text/plain": [
              "2975"
            ]
          },
          "metadata": {
            "tags": []
          },
          "execution_count": 18
        }
      ]
    },
    {
      "cell_type": "markdown",
      "metadata": {
        "id": "-5lC7LzI5Sr9",
        "colab_type": "text"
      },
      "source": [
        "The page view goes to peak on 12 Dec, which is a famous shopping holiday in China, similar to Boxing day and Black Friday.\n",
        "\n",
        "Also, we can see there is a big discrepancy between total page view and number of unique users, that means the user active percentage is nearly 2000/2975 = 67% on 12 Dec."
      ]
    },
    {
      "cell_type": "markdown",
      "metadata": {
        "id": "9PLBXOuS6dkd",
        "colab_type": "text"
      },
      "source": [
        "### Page view (PV) and unique visitor (UV) - hourly"
      ]
    },
    {
      "cell_type": "code",
      "metadata": {
        "id": "1Qd3vGcX3nJX",
        "colab_type": "code",
        "colab": {}
      },
      "source": [
        "pv_hour = data_user.groupby('hour')['user_id'] \\\n",
        "            .count().reset_index() \\\n",
        "            .rename(columns={'user_id': 'pv_hour'})\n",
        "            \n",
        "uv_hour = data_user.groupby('hour')['user_id'] \\\n",
        "            .apply(lambda x:x.drop_duplicates().count()) \\\n",
        "            .reset_index() \\\n",
        "            .rename(columns={'user_id': 'uv_hour'})"
      ],
      "execution_count": 0,
      "outputs": []
    },
    {
      "cell_type": "code",
      "metadata": {
        "id": "oqsb0PqH6nav",
        "colab_type": "code",
        "outputId": "b0590788-896d-4467-8914-c43d031caf89",
        "colab": {
          "base_uri": "https://localhost:8080/",
          "height": 312
        }
      },
      "source": [
        "fig, axes = plt.subplots(2, 1, sharex=True)\n",
        "pv_hour.plot(x='hour', y='pv_hour', ax=axes[0])\n",
        "uv_hour.plot(x='hour', y='uv_hour', ax=axes[1])\n",
        "axes[0].set_title('Hourly page view')\n",
        "axes[1].set_title('Hourly unique user')"
      ],
      "execution_count": 20,
      "outputs": [
        {
          "output_type": "execute_result",
          "data": {
            "text/plain": [
              "Text(0.5, 1.0, 'Hourly unique user')"
            ]
          },
          "metadata": {
            "tags": []
          },
          "execution_count": 20
        },
        {
          "output_type": "display_data",
          "data": {
            "image/png": "[encoded data removed]",
            "text/plain": [
              "<Figure size 432x288 with 2 Axes>"
            ]
          },
          "metadata": {
            "tags": [],
            "needs_background": "light"
          }
        }
      ]
    },
    {
      "cell_type": "markdown",
      "metadata": {
        "id": "q7icgX957JDC",
        "colab_type": "text"
      },
      "source": [
        "Activity decrease sharply from 0 am to 5 am, and then bounce back to a very high activity at 10 am, consistently raise from 18 pm and then goes to highest in 21 pm. In short, users are most active starting from 18 pm."
      ]
    },
    {
      "cell_type": "markdown",
      "metadata": {
        "id": "OgKzCmTQ-L9d",
        "colab_type": "text"
      },
      "source": [
        "### PV analysis for different behavior types"
      ]
    },
    {
      "cell_type": "code",
      "metadata": {
        "id": "VDXMMv6V6neL",
        "colab_type": "code",
        "outputId": "2974cd2f-09f1-4eda-8c26-da21cbad6ee1",
        "colab": {
          "base_uri": "https://localhost:8080/",
          "height": 312
        }
      },
      "source": [
        "pv_detail = data_user.groupby(['hour', 'behavior_type'])['user_id'] \\\n",
        "              .count().reset_index().rename(columns={'user_id':'total_pv'})\n",
        "              \n",
        "fig, axes = plt.subplots(2, 1, sharex=True)\n",
        "plt.subplots_adjust(hspace=0.5)\n",
        "sns.pointplot(x='hour', y='total_pv', hue='behavior_type', data=pv_detail, ax=axes[0])\n",
        "sns.pointplot(x='hour', y='total_pv', hue='behavior_type', data=pv_detail[pv_detail.behavior_type!=1], ax=axes[1])\n",
        "axes[0].set_title('PV different behavior types')\n",
        "axes[1].set_title('PV other different behavior types')"
      ],
      "execution_count": 21,
      "outputs": [
        {
          "output_type": "execute_result",
          "data": {
            "text/plain": [
              "Text(0.5, 1.0, 'PV other different behavior types')"
            ]
          },
          "metadata": {
            "tags": []
          },
          "execution_count": 21
        },
        {
          "output_type": "display_data",
          "data": {
            "image/png": "[encoded data removed]",
            "text/plain": [
              "<Figure size 432x288 with 2 Axes>"
            ]
          },
          "metadata": {
            "tags": [],
            "needs_background": "light"
          }
        }
      ]
    },
    {
      "cell_type": "markdown",
      "metadata": {
        "id": "k0SzbPDGBBvx",
        "colab_type": "text"
      },
      "source": [
        "Click, collect, add-to-cart and payment, the corresponding values are 1, 2, 3 and 4,respectively. We can see clicking are the most active operation, and adding to cart is more active than collect."
      ]
    },
    {
      "cell_type": "markdown",
      "metadata": {
        "id": "PQEi5LFfCKj8",
        "colab_type": "text"
      },
      "source": [
        "### User buying times behavior"
      ]
    },
    {
      "cell_type": "code",
      "metadata": {
        "id": "y4gCeS0xCKy6",
        "colab_type": "code",
        "outputId": "4d5043a5-cf15-4151-edb8-28dfe1c9e164",
        "colab": {
          "base_uri": "https://localhost:8080/",
          "height": 313
        }
      },
      "source": [
        "data_user_buy = data_user[data_user.behavior_type==4].groupby('user_id')['behavior_type'].count()\n",
        "sns.distplot(data_user_buy, kde=False)\n",
        "plt.title('Daily user buy')"
      ],
      "execution_count": 22,
      "outputs": [
        {
          "output_type": "execute_result",
          "data": {
            "text/plain": [
              "Text(0.5, 1.0, 'Daily user buy')"
            ]
          },
          "metadata": {
            "tags": []
          },
          "execution_count": 22
        },
        {
          "output_type": "display_data",
          "data": {
            "image/png": "[encoded data removed]",
            "text/plain": [
              "<Figure size 432x288 with 1 Axes>"
            ]
          },
          "metadata": {
            "tags": [],
            "needs_background": "light"
          }
        }
      ]
    },
    {
      "cell_type": "markdown",
      "metadata": {
        "id": "ckEswAPsI0FU",
        "colab_type": "text"
      },
      "source": [
        "We can see almost users pay no more than 10 times. Therefore, users who buy more than 10 times are more valuable or at least need more attention."
      ]
    },
    {
      "cell_type": "markdown",
      "metadata": {
        "id": "5W_dbRGVI-GW",
        "colab_type": "text"
      },
      "source": [
        "ARPPU (Average revenue per paying user), because we do not have revenue, replace the revenue with daily total paying times."
      ]
    },
    {
      "cell_type": "code",
      "metadata": {
        "id": "9STHGVz6CK2j",
        "colab_type": "code",
        "outputId": "33857a11-7d45-4e06-b79b-6a14f5459758",
        "colab": {
          "base_uri": "https://localhost:8080/",
          "height": 347
        }
      },
      "source": [
        "# how many paying times in total for each user daily\n",
        "user_buy_daily = data_user[data_user.behavior_type==4].groupby(['date','user_id'])['behavior_type'] \\\n",
        "                  .count().reset_index().rename(columns={'behavior_type':'total'})\n",
        "\n",
        "# compute the average per user daily\n",
        "user_buy_daily.groupby('date').apply(lambda x:x.total.sum()/x.total.count()).plot()\n",
        "plt.title('Daily ARPPU')"
      ],
      "execution_count": 23,
      "outputs": [
        {
          "output_type": "execute_result",
          "data": {
            "text/plain": [
              "Text(0.5, 1.0, 'Daily ARPPU')"
            ]
          },
          "metadata": {
            "tags": []
          },
          "execution_count": 23
        },
        {
          "output_type": "display_data",
          "data": {
            "image/png": "[encoded data removed]",
            "text/plain": [
              "<Figure size 432x288 with 1 Axes>"
            ]
          },
          "metadata": {
            "tags": [],
            "needs_background": "light"
          }
        }
      ]
    },
    {
      "cell_type": "markdown",
      "metadata": {
        "id": "3IRrRxQQMpxY",
        "colab_type": "text"
      },
      "source": [
        "ARPU (Average revenue per user), here again replace revenue with paying times."
      ]
    },
    {
      "cell_type": "code",
      "metadata": {
        "id": "uQIM6I7bMmyd",
        "colab_type": "code",
        "outputId": "c6c6585e-8690-4495-e9a7-b2a4e8ac36bd",
        "colab": {
          "base_uri": "https://localhost:8080/",
          "height": 347
        }
      },
      "source": [
        "# because we will use three cols for grouping, add one more col to hold the results\n",
        "data_user['operation'] = 1\n",
        "data_user_buy2 = data_user.groupby(['date','user_id','behavior_type'])['operation'] \\\n",
        "                  .count().reset_index().rename(columns={'operation':'total'})\n",
        "                  \n",
        "# for each selected date, there is a dataframe(x) to do apply below\n",
        "data_user_buy2.groupby('date').apply(lambda x: x[x.behavior_type==4].total.sum()/x.user_id.nunique()).plot()\n",
        "plt.title('Daily ARPU')"
      ],
      "execution_count": 25,
      "outputs": [
        {
          "output_type": "execute_result",
          "data": {
            "text/plain": [
              "Text(0.5, 1.0, 'Daily ARPU')"
            ]
          },
          "metadata": {
            "tags": []
          },
          "execution_count": 25
        },
        {
          "output_type": "display_data",
          "data": {
            "image/png": "[encoded data removed]",
            "text/plain": [
              "<Figure size 432x288 with 1 Axes>"
            ]
          },
          "metadata": {
            "tags": [],
            "needs_background": "light"
          }
        }
      ]
    },
    {
      "cell_type": "markdown",
      "metadata": {
        "id": "VmHCsQOLPwzb",
        "colab_type": "text"
      },
      "source": [
        "The difference between ARPPU and ARPU is that people are not the same group, the front one is paying users, the latter one is all active users who do any operations (whether paying or not)."
      ]
    },
    {
      "cell_type": "markdown",
      "metadata": {
        "id": "C7t-EpMbQxPv",
        "colab_type": "text"
      },
      "source": [
        "Daily afford rate = how many users paid/active users.\n",
        "\n",
        "Note: count() and sum() are different in this case because one user can operate/pay multiple times daily. So sum() is far much more than count()."
      ]
    },
    {
      "cell_type": "code",
      "metadata": {
        "id": "kNj1PgzXMm2u",
        "colab_type": "code",
        "outputId": "fdac3794-f140-47ef-e74b-0eb67fc47359",
        "colab": {
          "base_uri": "https://localhost:8080/",
          "height": 347
        }
      },
      "source": [
        "# here we care about number of paying users (count), not paying times (sum)\n",
        "data_user_buy2.groupby('date').apply(lambda x: x[x.behavior_type==4].total.count()/x.user_id.nunique()).plot()\n",
        "plt.title('Daily afford rate')"
      ],
      "execution_count": 28,
      "outputs": [
        {
          "output_type": "execute_result",
          "data": {
            "text/plain": [
              "Text(0.5, 1.0, 'Daily afford rate')"
            ]
          },
          "metadata": {
            "tags": []
          },
          "execution_count": 28
        },
        {
          "output_type": "display_data",
          "data": {
            "image/png": "[encoded data removed]",
            "text/plain": [
              "<Figure size 432x288 with 1 Axes>"
            ]
          },
          "metadata": {
            "tags": [],
            "needs_background": "light"
          }
        }
      ]
    },
    {
      "cell_type": "markdown",
      "metadata": {
        "id": "Y6m_8MBgzvG2",
        "colab_type": "text"
      },
      "source": [
        "How many times people buy in different time interval"
      ]
    },
    {
      "cell_type": "code",
      "metadata": {
        "id": "BzsN19DlSxyl",
        "colab_type": "code",
        "colab": {
          "base_uri": "https://localhost:8080/",
          "height": 297
        },
        "outputId": "52baa2e6-7ba1-4966-bfbc-13ebb3f100c6"
      },
      "source": [
        "data_user_buy3 = data_user[data_user.behavior_type==4].groupby(['user_id','date','hour'])['operation'].sum().rename('buy_count')\n",
        "\n",
        "sns.distplot(data_user_buy3)\n",
        "print('Most users pay {} times'.format(data_user_buy3.mode()[0]))"
      ],
      "execution_count": 32,
      "outputs": [
        {
          "output_type": "stream",
          "text": [
            "Most users pay 1 times\n"
          ],
          "name": "stdout"
        },
        {
          "output_type": "display_data",
          "data": {
            "image/png": "[encoded data removed]",
            "text/plain": [
              "<Figure size 432x288 with 1 Axes>"
            ]
          },
          "metadata": {
            "tags": [],
            "needs_background": "light"
          }
        }
      ]
    },
    {
      "cell_type": "markdown",
      "metadata": {
        "id": "m8XT7i8GCTkY",
        "colab_type": "text"
      },
      "source": [
        "### Rebuying behavior analysis"
      ]
    },
    {
      "cell_type": "markdown",
      "metadata": {
        "id": "la5hODGHC_lz",
        "colab_type": "text"
      },
      "source": [
        "Rebuying user refers to users who buy more than two days."
      ]
    },
    {
      "cell_type": "code",
      "metadata": {
        "id": "svDnXgIv_EkT",
        "colab_type": "code",
        "colab": {
          "base_uri": "https://localhost:8080/",
          "height": 34
        },
        "outputId": "077b7917-3813-48ad-f424-72537650b82a"
      },
      "source": [
        "# the date must be count by distinct because the buying behaviors in one day is considered once\n",
        "# rename here change the series name, not column name\n",
        "date_rebuy = data_user[data_user.behavior_type==4].groupby('user_id')['date'] \\\n",
        "              .apply(lambda x: x.nunique()).reset_index().rename(columns={'date':'rebuy_count'})\n",
        "\n",
        "rate = len(date_rebuy[date_rebuy.rebuy_count>=2])/len(date_rebuy)\n",
        "print('Rebuying rate is {}'.format(round(rate, 4)))"
      ],
      "execution_count": 46,
      "outputs": [
        {
          "output_type": "stream",
          "text": [
            "Rebuying rate is 0.4701\n"
          ],
          "name": "stdout"
        }
      ]
    },
    {
      "cell_type": "markdown",
      "metadata": {
        "id": "SeT-zHhwGqPw",
        "colab_type": "text"
      },
      "source": [
        "When people rebuy wrt time gap"
      ]
    },
    {
      "cell_type": "code",
      "metadata": {
        "id": "6gjWXuNf-Rfx",
        "colab_type": "code",
        "colab": {
          "base_uri": "https://localhost:8080/",
          "height": 315
        },
        "outputId": "de75febd-65f0-45e7-8201-9feb531ba942"
      },
      "source": [
        "data_day_buy = data_user[data_user.behavior_type==4].groupby(['user_id','date'])['operation'].count().reset_index()\n",
        "# diff(1) will compute the two elements difference, but the first element will be nan, dropna() to delete that row\n",
        "data_user_buy4 = data_day_buy.groupby('user_id')['date'].apply(lambda x: x.sort_values().diff(1).dropna())\n",
        "# extract day number from '12 days'\n",
        "data_user_buy4 = data_user_buy4.map(lambda x: x.days)\n",
        "data_user_buy4.value_counts().plot(kind='bar')\n",
        "plt.title('Time gap')\n",
        "plt.xlabel('Gap days')\n",
        "plt.ylabel('How many people rebuy in this gap')"
      ],
      "execution_count": 49,
      "outputs": [
        {
          "output_type": "execute_result",
          "data": {
            "text/plain": [
              "Text(0, 0.5, 'How many people rebuy in this gap')"
            ]
          },
          "metadata": {
            "tags": []
          },
          "execution_count": 49
        },
        {
          "output_type": "display_data",
          "data": {
            "image/png": "[encoded data removed]",
            "text/plain": [
              "<Figure size 432x288 with 1 Axes>"
            ]
          },
          "metadata": {
            "tags": [],
            "needs_background": "light"
          }
        }
      ]
    },
    {
      "cell_type": "markdown",
      "metadata": {
        "id": "rNDeT1o0KRp2",
        "colab_type": "text"
      },
      "source": [
        "We can see the paying behavior is decreasing with the time gap between the first buying date. Need to pay attention to encourage users to rebuy within 10 days."
      ]
    },
    {
      "cell_type": "markdown",
      "metadata": {
        "id": "CixoYGgXLD9K",
        "colab_type": "text"
      },
      "source": [
        "### User missing analysis"
      ]
    },
    {
      "cell_type": "code",
      "metadata": {
        "id": "YIQWM9DQ-RsD",
        "colab_type": "code",
        "colab": {}
      },
      "source": [
        "# len(df) is faster than df.shape[0] is faster than df.count()\n",
        "pv_all = len(data_user['user_id'])\n",
        "\n",
        "# What portion of users operate 4 behaviors in duration\n",
        "data_user_count = data_user.groupby('behavior_type')['operation'].count() \\\n",
        "                    .apply(lambda x: x/pv_all).reset_index().rename(columns={'operation':'operation portion'})"
      ],
      "execution_count": 0,
      "outputs": []
    },
    {
      "cell_type": "code",
      "metadata": {
        "id": "IcczK1KyM6Fs",
        "colab_type": "code",
        "colab": {
          "base_uri": "https://localhost:8080/",
          "height": 168
        },
        "outputId": "9542d4f9-2a6a-42bf-bf39-dda373e34dde"
      },
      "source": [
        "data_user_count.head()"
      ],
      "execution_count": 59,
      "outputs": [
        {
          "output_type": "execute_result",
          "data": {
            "text/html": [
              "<div>\n",
              "<style scoped>\n",
              "    .dataframe tbody tr th:only-of-type {\n",
              "        vertical-align: middle;\n",
              "    }\n",
              "\n",
              "    .dataframe tbody tr th {\n",
              "        vertical-align: top;\n",
              "    }\n",
              "\n",
              "    .dataframe thead th {\n",
              "        text-align: right;\n",
              "    }\n",
              "</style>\n",
              "<table border=\"1\" class=\"dataframe\">\n",
              "  <thead>\n",
              "    <tr style=\"text-align: right;\">\n",
              "      <th></th>\n",
              "      <th>behavior_type</th>\n",
              "      <th>operation portion</th>\n",
              "    </tr>\n",
              "  </thead>\n",
              "  <tbody>\n",
              "    <tr>\n",
              "      <th>0</th>\n",
              "      <td>1</td>\n",
              "      <td>0.941291</td>\n",
              "    </tr>\n",
              "    <tr>\n",
              "      <th>1</th>\n",
              "      <td>2</td>\n",
              "      <td>0.020122</td>\n",
              "    </tr>\n",
              "    <tr>\n",
              "      <th>2</th>\n",
              "      <td>3</td>\n",
              "      <td>0.028453</td>\n",
              "    </tr>\n",
              "    <tr>\n",
              "      <th>3</th>\n",
              "      <td>4</td>\n",
              "      <td>0.010134</td>\n",
              "    </tr>\n",
              "  </tbody>\n",
              "</table>\n",
              "</div>"
            ],
            "text/plain": [
              "   behavior_type  operation portion\n",
              "0              1           0.941291\n",
              "1              2           0.020122\n",
              "2              3           0.028453\n",
              "3              4           0.010134"
            ]
          },
          "metadata": {
            "tags": []
          },
          "execution_count": 59
        }
      ]
    },
    {
      "cell_type": "markdown",
      "metadata": {
        "id": "m7dyPm5nODme",
        "colab_type": "text"
      },
      "source": [
        "Different item category analysis, we can see four behaviors below."
      ]
    },
    {
      "cell_type": "code",
      "metadata": {
        "id": "7aTkalSXNGaZ",
        "colab_type": "code",
        "colab": {
          "base_uri": "https://localhost:8080/",
          "height": 228
        },
        "outputId": "b86c3356-a990-474e-85e8-15e903365f55"
      },
      "source": [
        "data_category = data_user.groupby(['item_category', 'behavior_type'])['operation'].count() \\\n",
        "                  .unstack(level=1).rename(columns={1:'click',2:'collect',3:'add-to-cart',4:'buy'}).fillna(0)\n",
        "# unstack - pivot table using the index in the specified level\n",
        "data_category.head()"
      ],
      "execution_count": 62,
      "outputs": [
        {
          "output_type": "execute_result",
          "data": {
            "text/html": [
              "<div>\n",
              "<style scoped>\n",
              "    .dataframe tbody tr th:only-of-type {\n",
              "        vertical-align: middle;\n",
              "    }\n",
              "\n",
              "    .dataframe tbody tr th {\n",
              "        vertical-align: top;\n",
              "    }\n",
              "\n",
              "    .dataframe thead th {\n",
              "        text-align: right;\n",
              "    }\n",
              "</style>\n",
              "<table border=\"1\" class=\"dataframe\">\n",
              "  <thead>\n",
              "    <tr style=\"text-align: right;\">\n",
              "      <th>behavior_type</th>\n",
              "      <th>click</th>\n",
              "      <th>collect</th>\n",
              "      <th>add-to-cart</th>\n",
              "      <th>buy</th>\n",
              "    </tr>\n",
              "    <tr>\n",
              "      <th>item_category</th>\n",
              "      <th></th>\n",
              "      <th></th>\n",
              "      <th></th>\n",
              "      <th></th>\n",
              "    </tr>\n",
              "  </thead>\n",
              "  <tbody>\n",
              "    <tr>\n",
              "      <th>8</th>\n",
              "      <td>3.0</td>\n",
              "      <td>0.0</td>\n",
              "      <td>0.0</td>\n",
              "      <td>0.0</td>\n",
              "    </tr>\n",
              "    <tr>\n",
              "      <th>10</th>\n",
              "      <td>9.0</td>\n",
              "      <td>0.0</td>\n",
              "      <td>0.0</td>\n",
              "      <td>0.0</td>\n",
              "    </tr>\n",
              "    <tr>\n",
              "      <th>11</th>\n",
              "      <td>294.0</td>\n",
              "      <td>6.0</td>\n",
              "      <td>2.0</td>\n",
              "      <td>0.0</td>\n",
              "    </tr>\n",
              "    <tr>\n",
              "      <th>12</th>\n",
              "      <td>2.0</td>\n",
              "      <td>0.0</td>\n",
              "      <td>0.0</td>\n",
              "      <td>0.0</td>\n",
              "    </tr>\n",
              "    <tr>\n",
              "      <th>13</th>\n",
              "      <td>1.0</td>\n",
              "      <td>0.0</td>\n",
              "      <td>0.0</td>\n",
              "      <td>0.0</td>\n",
              "    </tr>\n",
              "  </tbody>\n",
              "</table>\n",
              "</div>"
            ],
            "text/plain": [
              "behavior_type  click  collect  add-to-cart  buy\n",
              "item_category                                  \n",
              "8                3.0      0.0          0.0  0.0\n",
              "10               9.0      0.0          0.0  0.0\n",
              "11             294.0      6.0          2.0  0.0\n",
              "12               2.0      0.0          0.0  0.0\n",
              "13               1.0      0.0          0.0  0.0"
            ]
          },
          "metadata": {
            "tags": []
          },
          "execution_count": 62
        }
      ]
    }
  ]
}
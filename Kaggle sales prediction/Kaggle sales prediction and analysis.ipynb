{
  "nbformat": 4,
  "nbformat_minor": 0,
  "metadata": {
    "colab": {
      "name": "EY.ipynb",
      "provenance": [],
      "collapsed_sections": []
    },
    "kernelspec": {
      "name": "python3",
      "display_name": "Python 3"
    },
    "accelerator": "GPU"
  },
  "cells": [
    {
      "cell_type": "markdown",
      "metadata": {
        "id": "7lFZqSP07gEj",
        "colab_type": "text"
      },
      "source": [
        "## Objective"
      ]
    },
    {
      "cell_type": "markdown",
      "metadata": {
        "id": "Whg-Vqe47djY",
        "colab_type": "text"
      },
      "source": [
        "Predicting total sales for every product and store in the next month for a time series dataset consisting of daily sales data."
      ]
    },
    {
      "cell_type": "markdown",
      "metadata": {
        "id": "RYX1ly1OHPon",
        "colab_type": "text"
      },
      "source": [
        "My analysis pipeline:\n",
        "\n",
        "- Combine the data and count total sales for every month for every shop every item for 2013/01 - 2015/10.\n",
        "\n",
        "- How to deal with shop id, item id and month - Label Encoding.\n",
        "\n",
        "- Scale the item price and monthly sales.\n",
        "\n",
        "- Split training dataset into a 7/3 for train/test data with CV=5.\n",
        "\n",
        "- Train the baseline model - linear regression and then random forest and XGBT.\n",
        "\n",
        "- Choose best model and tune hyperparameters (maybe future work).\n",
        "\n",
        "- Predict Nov total sales and fill out the test csv.\n",
        "\n",
        "- Conclusion and recommendations."
      ]
    },
    {
      "cell_type": "markdown",
      "metadata": {
        "id": "xQGSpZwh3QZJ",
        "colab_type": "text"
      },
      "source": [
        "## Import libary"
      ]
    },
    {
      "cell_type": "code",
      "metadata": {
        "id": "NrDx6U_MzA78",
        "colab_type": "code",
        "colab": {}
      },
      "source": [
        "import warnings\n",
        "warnings.filterwarnings('ignore')\n",
        "\n",
        "import numpy as np\n",
        "import pandas as pd\n",
        "import math\n",
        "from math import sqrt\n",
        "import pandas_profiling\n",
        "import matplotlib.pyplot as plt\n",
        "%matplotlib inline\n",
        "import seaborn as sns\n",
        "\n",
        "from sklearn.model_selection import train_test_split\n",
        "from sklearn.preprocessing import LabelEncoder, StandardScaler\n",
        "from sklearn import linear_model\n",
        "from sklearn.linear_model import LinearRegression\n",
        "from sklearn.model_selection import cross_val_score, cross_val_predict\n",
        "from sklearn.metrics import mean_squared_error, r2_score\n",
        "from sklearn.ensemble import RandomForestRegressor, GradientBoostingRegressor"
      ],
      "execution_count": 0,
      "outputs": []
    },
    {
      "cell_type": "markdown",
      "metadata": {
        "id": "HCqhhEoO5wzG",
        "colab_type": "text"
      },
      "source": [
        "## Exploratory data analyses (EDA)"
      ]
    },
    {
      "cell_type": "markdown",
      "metadata": {
        "id": "CQTFR5E93gQ4",
        "colab_type": "text"
      },
      "source": [
        "### Load data"
      ]
    },
    {
      "cell_type": "code",
      "metadata": {
        "id": "qeZ5P_EY3Xm3",
        "colab_type": "code",
        "colab": {}
      },
      "source": [
        "from google.colab import drive\n",
        "drive.mount('/content/drive')"
      ],
      "execution_count": 0,
      "outputs": []
    },
    {
      "cell_type": "code",
      "metadata": {
        "id": "YZgQSPHH3VIF",
        "colab_type": "code",
        "colab": {}
      },
      "source": [
        "path_1 = '/content/drive/My Drive/Kaggle/sales_train.csv'\n",
        "path_2 = '/content/drive/My Drive/Kaggle/test.csv'\n",
        "path_3 = '/content/drive/My Drive/Kaggle/shops.csv'\n",
        "path_4 = '/content/drive/My Drive/Kaggle/item_categories.csv'\n",
        "path_5 = '/content/drive/My Drive/Kaggle/items.csv'\n",
        "sales_train = pd.read_csv(path_1)\n",
        "test_data = pd.read_csv(path_2)\n",
        "shops_data = pd.read_csv(path_3)\n",
        "item_categories = pd.read_csv(path_4)\n",
        "items = pd.read_csv(path_5)"
      ],
      "execution_count": 0,
      "outputs": []
    },
    {
      "cell_type": "markdown",
      "metadata": {
        "id": "Pg2t4qlEoHYJ",
        "colab_type": "text"
      },
      "source": [
        "### Data overview"
      ]
    },
    {
      "cell_type": "code",
      "metadata": {
        "id": "_3kJNMAw49YL",
        "colab_type": "code",
        "outputId": "935046fd-1ef3-4edc-b65a-4793a3bf52fc",
        "colab": {
          "base_uri": "https://localhost:8080/",
          "height": 34
        }
      },
      "source": [
        "print(sales_train.shape, test_data.shape, shops_data.shape, item_categories.shape, items.shape)"
      ],
      "execution_count": 0,
      "outputs": [
        {
          "output_type": "stream",
          "text": [
            "(2935849, 6) (214200, 3) (60, 2) (84, 2) (22170, 3)\n"
          ],
          "name": "stdout"
        }
      ]
    },
    {
      "cell_type": "code",
      "metadata": {
        "id": "I53YwLqlKXSW",
        "colab_type": "code",
        "outputId": "5291a2d0-a1b3-42fd-e9dc-adc5d799f046",
        "colab": {
          "base_uri": "https://localhost:8080/",
          "height": 207
        }
      },
      "source": [
        "sales_train.info()"
      ],
      "execution_count": 0,
      "outputs": [
        {
          "output_type": "stream",
          "text": [
            "<class 'pandas.core.frame.DataFrame'>\n",
            "RangeIndex: 2935849 entries, 0 to 2935848\n",
            "Data columns (total 6 columns):\n",
            "date              object\n",
            "date_block_num    int64\n",
            "shop_id           int64\n",
            "item_id           int64\n",
            "item_price        float64\n",
            "item_cnt_day      float64\n",
            "dtypes: float64(2), int64(3), object(1)\n",
            "memory usage: 134.4+ MB\n"
          ],
          "name": "stdout"
        }
      ]
    },
    {
      "cell_type": "code",
      "metadata": {
        "id": "RnGi55MG5aPV",
        "colab_type": "code",
        "outputId": "b3896e96-f6fa-4180-b81e-f7cafdc808d5",
        "colab": {
          "base_uri": "https://localhost:8080/",
          "height": 138
        }
      },
      "source": [
        "sales_train.head(3)"
      ],
      "execution_count": 0,
      "outputs": [
        {
          "output_type": "execute_result",
          "data": {
            "text/html": [
              "<div>\n",
              "<style scoped>\n",
              "    .dataframe tbody tr th:only-of-type {\n",
              "        vertical-align: middle;\n",
              "    }\n",
              "\n",
              "    .dataframe tbody tr th {\n",
              "        vertical-align: top;\n",
              "    }\n",
              "\n",
              "    .dataframe thead th {\n",
              "        text-align: right;\n",
              "    }\n",
              "</style>\n",
              "<table border=\"1\" class=\"dataframe\">\n",
              "  <thead>\n",
              "    <tr style=\"text-align: right;\">\n",
              "      <th></th>\n",
              "      <th>date</th>\n",
              "      <th>date_block_num</th>\n",
              "      <th>shop_id</th>\n",
              "      <th>item_id</th>\n",
              "      <th>item_price</th>\n",
              "      <th>item_cnt_day</th>\n",
              "    </tr>\n",
              "  </thead>\n",
              "  <tbody>\n",
              "    <tr>\n",
              "      <th>0</th>\n",
              "      <td>02.01.2013</td>\n",
              "      <td>0</td>\n",
              "      <td>59</td>\n",
              "      <td>22154</td>\n",
              "      <td>999.0</td>\n",
              "      <td>1.0</td>\n",
              "    </tr>\n",
              "    <tr>\n",
              "      <th>1</th>\n",
              "      <td>03.01.2013</td>\n",
              "      <td>0</td>\n",
              "      <td>25</td>\n",
              "      <td>2552</td>\n",
              "      <td>899.0</td>\n",
              "      <td>1.0</td>\n",
              "    </tr>\n",
              "    <tr>\n",
              "      <th>2</th>\n",
              "      <td>05.01.2013</td>\n",
              "      <td>0</td>\n",
              "      <td>25</td>\n",
              "      <td>2552</td>\n",
              "      <td>899.0</td>\n",
              "      <td>-1.0</td>\n",
              "    </tr>\n",
              "  </tbody>\n",
              "</table>\n",
              "</div>"
            ],
            "text/plain": [
              "         date  date_block_num  shop_id  item_id  item_price  item_cnt_day\n",
              "0  02.01.2013               0       59    22154       999.0           1.0\n",
              "1  03.01.2013               0       25     2552       899.0           1.0\n",
              "2  05.01.2013               0       25     2552       899.0          -1.0"
            ]
          },
          "metadata": {
            "tags": []
          },
          "execution_count": 6
        }
      ]
    },
    {
      "cell_type": "code",
      "metadata": {
        "id": "oS_3RhMjFdGg",
        "colab_type": "code",
        "outputId": "567fd878-1598-44aa-bf7e-6f24ee204ee9",
        "colab": {
          "base_uri": "https://localhost:8080/",
          "height": 138
        }
      },
      "source": [
        "sales_train.tail(3)"
      ],
      "execution_count": 0,
      "outputs": [
        {
          "output_type": "execute_result",
          "data": {
            "text/html": [
              "<div>\n",
              "<style scoped>\n",
              "    .dataframe tbody tr th:only-of-type {\n",
              "        vertical-align: middle;\n",
              "    }\n",
              "\n",
              "    .dataframe tbody tr th {\n",
              "        vertical-align: top;\n",
              "    }\n",
              "\n",
              "    .dataframe thead th {\n",
              "        text-align: right;\n",
              "    }\n",
              "</style>\n",
              "<table border=\"1\" class=\"dataframe\">\n",
              "  <thead>\n",
              "    <tr style=\"text-align: right;\">\n",
              "      <th></th>\n",
              "      <th>date</th>\n",
              "      <th>date_block_num</th>\n",
              "      <th>shop_id</th>\n",
              "      <th>item_id</th>\n",
              "      <th>item_price</th>\n",
              "      <th>item_cnt_day</th>\n",
              "    </tr>\n",
              "  </thead>\n",
              "  <tbody>\n",
              "    <tr>\n",
              "      <th>2935846</th>\n",
              "      <td>14.10.2015</td>\n",
              "      <td>33</td>\n",
              "      <td>25</td>\n",
              "      <td>7459</td>\n",
              "      <td>349.0</td>\n",
              "      <td>1.0</td>\n",
              "    </tr>\n",
              "    <tr>\n",
              "      <th>2935847</th>\n",
              "      <td>22.10.2015</td>\n",
              "      <td>33</td>\n",
              "      <td>25</td>\n",
              "      <td>7440</td>\n",
              "      <td>299.0</td>\n",
              "      <td>1.0</td>\n",
              "    </tr>\n",
              "    <tr>\n",
              "      <th>2935848</th>\n",
              "      <td>03.10.2015</td>\n",
              "      <td>33</td>\n",
              "      <td>25</td>\n",
              "      <td>7460</td>\n",
              "      <td>299.0</td>\n",
              "      <td>1.0</td>\n",
              "    </tr>\n",
              "  </tbody>\n",
              "</table>\n",
              "</div>"
            ],
            "text/plain": [
              "               date  date_block_num  shop_id  item_id  item_price  item_cnt_day\n",
              "2935846  14.10.2015              33       25     7459       349.0           1.0\n",
              "2935847  22.10.2015              33       25     7440       299.0           1.0\n",
              "2935848  03.10.2015              33       25     7460       299.0           1.0"
            ]
          },
          "metadata": {
            "tags": []
          },
          "execution_count": 7
        }
      ]
    },
    {
      "cell_type": "code",
      "metadata": {
        "id": "XCLdQ5dKm_c_",
        "colab_type": "code",
        "outputId": "89bcfca2-72de-405b-ea6f-c420ba9a4d32",
        "colab": {
          "base_uri": "https://localhost:8080/",
          "height": 34
        }
      },
      "source": [
        "# count the distint value\n",
        "print(sales_train.date_block_num.nunique(), sales_train.shop_id.nunique(), sales_train.item_id.nunique())"
      ],
      "execution_count": 0,
      "outputs": [
        {
          "output_type": "stream",
          "text": [
            "34 60 21807\n"
          ],
          "name": "stdout"
        }
      ]
    },
    {
      "cell_type": "code",
      "metadata": {
        "id": "JmgyB2OSkxr-",
        "colab_type": "code",
        "outputId": "e8b264b0-1e0b-4f77-d6a8-09e559732539",
        "colab": {
          "base_uri": "https://localhost:8080/",
          "height": 34
        }
      },
      "source": [
        "# count the duplicates\n",
        "print(sales_train.duplicated().sum())"
      ],
      "execution_count": 0,
      "outputs": [
        {
          "output_type": "stream",
          "text": [
            "6\n"
          ],
          "name": "stdout"
        }
      ]
    },
    {
      "cell_type": "code",
      "metadata": {
        "id": "bcBT_2wIMDg1",
        "colab_type": "code",
        "outputId": "0d930ade-6370-4099-bcef-1c3895e72b56",
        "colab": {
          "base_uri": "https://localhost:8080/",
          "height": 34
        }
      },
      "source": [
        "sales_train.date[0] # date here is a string"
      ],
      "execution_count": 0,
      "outputs": [
        {
          "output_type": "execute_result",
          "data": {
            "text/plain": [
              "'02.01.2013'"
            ]
          },
          "metadata": {
            "tags": []
          },
          "execution_count": 10
        }
      ]
    },
    {
      "cell_type": "markdown",
      "metadata": {
        "id": "Q6yPqC-FML6g",
        "colab_type": "text"
      },
      "source": [
        "Need to convert the date column into datetime, which is string to datetime."
      ]
    },
    {
      "cell_type": "code",
      "metadata": {
        "id": "79HeFIbQV4Id",
        "colab_type": "code",
        "colab": {}
      },
      "source": [
        "sales_train.date = pd.to_datetime(sales_train.date, format='%d.%m.%Y')"
      ],
      "execution_count": 0,
      "outputs": []
    },
    {
      "cell_type": "code",
      "metadata": {
        "id": "pzGMtIETn_Pu",
        "colab_type": "code",
        "outputId": "63262d2a-c306-4075-fa04-62f8414ffbbc",
        "colab": {
          "base_uri": "https://localhost:8080/",
          "height": 138
        }
      },
      "source": [
        "sales_train.head(3)"
      ],
      "execution_count": 0,
      "outputs": [
        {
          "output_type": "execute_result",
          "data": {
            "text/html": [
              "<div>\n",
              "<style scoped>\n",
              "    .dataframe tbody tr th:only-of-type {\n",
              "        vertical-align: middle;\n",
              "    }\n",
              "\n",
              "    .dataframe tbody tr th {\n",
              "        vertical-align: top;\n",
              "    }\n",
              "\n",
              "    .dataframe thead th {\n",
              "        text-align: right;\n",
              "    }\n",
              "</style>\n",
              "<table border=\"1\" class=\"dataframe\">\n",
              "  <thead>\n",
              "    <tr style=\"text-align: right;\">\n",
              "      <th></th>\n",
              "      <th>date</th>\n",
              "      <th>date_block_num</th>\n",
              "      <th>shop_id</th>\n",
              "      <th>item_id</th>\n",
              "      <th>item_price</th>\n",
              "      <th>item_cnt_day</th>\n",
              "    </tr>\n",
              "  </thead>\n",
              "  <tbody>\n",
              "    <tr>\n",
              "      <th>0</th>\n",
              "      <td>2013-01-02</td>\n",
              "      <td>0</td>\n",
              "      <td>59</td>\n",
              "      <td>22154</td>\n",
              "      <td>999.0</td>\n",
              "      <td>1.0</td>\n",
              "    </tr>\n",
              "    <tr>\n",
              "      <th>1</th>\n",
              "      <td>2013-01-03</td>\n",
              "      <td>0</td>\n",
              "      <td>25</td>\n",
              "      <td>2552</td>\n",
              "      <td>899.0</td>\n",
              "      <td>1.0</td>\n",
              "    </tr>\n",
              "    <tr>\n",
              "      <th>2</th>\n",
              "      <td>2013-01-05</td>\n",
              "      <td>0</td>\n",
              "      <td>25</td>\n",
              "      <td>2552</td>\n",
              "      <td>899.0</td>\n",
              "      <td>-1.0</td>\n",
              "    </tr>\n",
              "  </tbody>\n",
              "</table>\n",
              "</div>"
            ],
            "text/plain": [
              "        date  date_block_num  shop_id  item_id  item_price  item_cnt_day\n",
              "0 2013-01-02               0       59    22154       999.0           1.0\n",
              "1 2013-01-03               0       25     2552       899.0           1.0\n",
              "2 2013-01-05               0       25     2552       899.0          -1.0"
            ]
          },
          "metadata": {
            "tags": []
          },
          "execution_count": 12
        }
      ]
    },
    {
      "cell_type": "code",
      "metadata": {
        "id": "6AqKvwooNpjv",
        "colab_type": "code",
        "outputId": "2710488c-7072-4dda-dbfb-d75289056e58",
        "colab": {
          "base_uri": "https://localhost:8080/",
          "height": 138
        }
      },
      "source": [
        "# check null value\n",
        "print(sales_train.isnull().sum())"
      ],
      "execution_count": 0,
      "outputs": [
        {
          "output_type": "stream",
          "text": [
            "date              0\n",
            "date_block_num    0\n",
            "shop_id           0\n",
            "item_id           0\n",
            "item_price        0\n",
            "item_cnt_day      0\n",
            "dtype: int64\n"
          ],
          "name": "stdout"
        }
      ]
    },
    {
      "cell_type": "code",
      "metadata": {
        "id": "zBfesoqkp91_",
        "colab_type": "code",
        "outputId": "c1c67d28-bfa0-4ae9-e2e0-758dc4486981",
        "colab": {
          "base_uri": "https://localhost:8080/",
          "height": 173
        }
      },
      "source": [
        "# check item_cnt_day\n",
        "sales_train.item_cnt_day.describe()"
      ],
      "execution_count": 0,
      "outputs": [
        {
          "output_type": "execute_result",
          "data": {
            "text/plain": [
              "count    2.935849e+06\n",
              "mean     1.242641e+00\n",
              "std      2.618834e+00\n",
              "min     -2.200000e+01\n",
              "25%      1.000000e+00\n",
              "50%      1.000000e+00\n",
              "75%      1.000000e+00\n",
              "max      2.169000e+03\n",
              "Name: item_cnt_day, dtype: float64"
            ]
          },
          "metadata": {
            "tags": []
          },
          "execution_count": 14
        }
      ]
    },
    {
      "cell_type": "code",
      "metadata": {
        "id": "wAbmcA1Ibelo",
        "colab_type": "code",
        "outputId": "85601f36-c734-4d73-a8cb-42ec6081ac5d",
        "colab": {
          "base_uri": "https://localhost:8080/",
          "height": 173
        }
      },
      "source": [
        "# check item price\n",
        "sales_train.item_price.describe()"
      ],
      "execution_count": 0,
      "outputs": [
        {
          "output_type": "execute_result",
          "data": {
            "text/plain": [
              "count    2.935849e+06\n",
              "mean     8.908532e+02\n",
              "std      1.729800e+03\n",
              "min     -1.000000e+00\n",
              "25%      2.490000e+02\n",
              "50%      3.990000e+02\n",
              "75%      9.990000e+02\n",
              "max      3.079800e+05\n",
              "Name: item_price, dtype: float64"
            ]
          },
          "metadata": {
            "tags": []
          },
          "execution_count": 15
        }
      ]
    },
    {
      "cell_type": "markdown",
      "metadata": {
        "id": "K8Xzb0EJ65pa",
        "colab_type": "text"
      },
      "source": [
        "It can be seen the item_cnt_day which is the target to predict can be negative, may be this product is returned.\n",
        "\n",
        "Also the date_block_num for Janurary is 0, which means Janurary is the reference month in this dataset.\n",
        "\n",
        "Therefore for prediction sales in November, the date_block_num will be 34."
      ]
    },
    {
      "cell_type": "code",
      "metadata": {
        "id": "RL-T8ea-7GIj",
        "colab_type": "code",
        "outputId": "44d646ec-89dc-4b25-ab03-2ebda47a2289",
        "colab": {
          "base_uri": "https://localhost:8080/",
          "height": 138
        }
      },
      "source": [
        "test_data.head(3)"
      ],
      "execution_count": 0,
      "outputs": [
        {
          "output_type": "execute_result",
          "data": {
            "text/html": [
              "<div>\n",
              "<style scoped>\n",
              "    .dataframe tbody tr th:only-of-type {\n",
              "        vertical-align: middle;\n",
              "    }\n",
              "\n",
              "    .dataframe tbody tr th {\n",
              "        vertical-align: top;\n",
              "    }\n",
              "\n",
              "    .dataframe thead th {\n",
              "        text-align: right;\n",
              "    }\n",
              "</style>\n",
              "<table border=\"1\" class=\"dataframe\">\n",
              "  <thead>\n",
              "    <tr style=\"text-align: right;\">\n",
              "      <th></th>\n",
              "      <th>ID</th>\n",
              "      <th>shop_id</th>\n",
              "      <th>item_id</th>\n",
              "    </tr>\n",
              "  </thead>\n",
              "  <tbody>\n",
              "    <tr>\n",
              "      <th>0</th>\n",
              "      <td>0</td>\n",
              "      <td>5</td>\n",
              "      <td>5037</td>\n",
              "    </tr>\n",
              "    <tr>\n",
              "      <th>1</th>\n",
              "      <td>1</td>\n",
              "      <td>5</td>\n",
              "      <td>5320</td>\n",
              "    </tr>\n",
              "    <tr>\n",
              "      <th>2</th>\n",
              "      <td>2</td>\n",
              "      <td>5</td>\n",
              "      <td>5233</td>\n",
              "    </tr>\n",
              "  </tbody>\n",
              "</table>\n",
              "</div>"
            ],
            "text/plain": [
              "   ID  shop_id  item_id\n",
              "0   0        5     5037\n",
              "1   1        5     5320\n",
              "2   2        5     5233"
            ]
          },
          "metadata": {
            "tags": []
          },
          "execution_count": 110
        }
      ]
    },
    {
      "cell_type": "code",
      "metadata": {
        "id": "YvGhuHq81HJX",
        "colab_type": "code",
        "colab": {}
      },
      "source": [
        "test_data = test_data.drop(['ID'], axis=1)"
      ],
      "execution_count": 0,
      "outputs": []
    },
    {
      "cell_type": "code",
      "metadata": {
        "id": "OGMPN3Bv7GRi",
        "colab_type": "code",
        "outputId": "854d12fd-dc29-4495-9889-d72992d45e24",
        "colab": {
          "base_uri": "https://localhost:8080/",
          "height": 138
        }
      },
      "source": [
        "shops_data.head(3)"
      ],
      "execution_count": 0,
      "outputs": [
        {
          "output_type": "execute_result",
          "data": {
            "text/html": [
              "<div>\n",
              "<style scoped>\n",
              "    .dataframe tbody tr th:only-of-type {\n",
              "        vertical-align: middle;\n",
              "    }\n",
              "\n",
              "    .dataframe tbody tr th {\n",
              "        vertical-align: top;\n",
              "    }\n",
              "\n",
              "    .dataframe thead th {\n",
              "        text-align: right;\n",
              "    }\n",
              "</style>\n",
              "<table border=\"1\" class=\"dataframe\">\n",
              "  <thead>\n",
              "    <tr style=\"text-align: right;\">\n",
              "      <th></th>\n",
              "      <th>shop_name</th>\n",
              "      <th>shop_id</th>\n",
              "    </tr>\n",
              "  </thead>\n",
              "  <tbody>\n",
              "    <tr>\n",
              "      <th>0</th>\n",
              "      <td>!Якутск Орджоникидзе, 56 фран</td>\n",
              "      <td>0</td>\n",
              "    </tr>\n",
              "    <tr>\n",
              "      <th>1</th>\n",
              "      <td>!Якутск ТЦ \"Центральный\" фран</td>\n",
              "      <td>1</td>\n",
              "    </tr>\n",
              "    <tr>\n",
              "      <th>2</th>\n",
              "      <td>Адыгея ТЦ \"Мега\"</td>\n",
              "      <td>2</td>\n",
              "    </tr>\n",
              "  </tbody>\n",
              "</table>\n",
              "</div>"
            ],
            "text/plain": [
              "                       shop_name  shop_id\n",
              "0  !Якутск Орджоникидзе, 56 фран        0\n",
              "1  !Якутск ТЦ \"Центральный\" фран        1\n",
              "2               Адыгея ТЦ \"Мега\"        2"
            ]
          },
          "metadata": {
            "tags": []
          },
          "execution_count": 18
        }
      ]
    },
    {
      "cell_type": "code",
      "metadata": {
        "id": "iwSYQ-2g7GT4",
        "colab_type": "code",
        "outputId": "c852d384-0472-4f77-eb20-2bab827c7516",
        "colab": {
          "base_uri": "https://localhost:8080/",
          "height": 138
        }
      },
      "source": [
        "items.head(3)"
      ],
      "execution_count": 0,
      "outputs": [
        {
          "output_type": "execute_result",
          "data": {
            "text/html": [
              "<div>\n",
              "<style scoped>\n",
              "    .dataframe tbody tr th:only-of-type {\n",
              "        vertical-align: middle;\n",
              "    }\n",
              "\n",
              "    .dataframe tbody tr th {\n",
              "        vertical-align: top;\n",
              "    }\n",
              "\n",
              "    .dataframe thead th {\n",
              "        text-align: right;\n",
              "    }\n",
              "</style>\n",
              "<table border=\"1\" class=\"dataframe\">\n",
              "  <thead>\n",
              "    <tr style=\"text-align: right;\">\n",
              "      <th></th>\n",
              "      <th>item_name</th>\n",
              "      <th>item_id</th>\n",
              "      <th>item_category_id</th>\n",
              "    </tr>\n",
              "  </thead>\n",
              "  <tbody>\n",
              "    <tr>\n",
              "      <th>0</th>\n",
              "      <td>! ВО ВЛАСТИ НАВАЖДЕНИЯ (ПЛАСТ.)         D</td>\n",
              "      <td>0</td>\n",
              "      <td>40</td>\n",
              "    </tr>\n",
              "    <tr>\n",
              "      <th>1</th>\n",
              "      <td>!ABBYY FineReader 12 Professional Edition Full...</td>\n",
              "      <td>1</td>\n",
              "      <td>76</td>\n",
              "    </tr>\n",
              "    <tr>\n",
              "      <th>2</th>\n",
              "      <td>***В ЛУЧАХ СЛАВЫ   (UNV)                    D</td>\n",
              "      <td>2</td>\n",
              "      <td>40</td>\n",
              "    </tr>\n",
              "  </tbody>\n",
              "</table>\n",
              "</div>"
            ],
            "text/plain": [
              "                                           item_name  item_id  item_category_id\n",
              "0          ! ВО ВЛАСТИ НАВАЖДЕНИЯ (ПЛАСТ.)         D        0                40\n",
              "1  !ABBYY FineReader 12 Professional Edition Full...        1                76\n",
              "2      ***В ЛУЧАХ СЛАВЫ   (UNV)                    D        2                40"
            ]
          },
          "metadata": {
            "tags": []
          },
          "execution_count": 19
        }
      ]
    },
    {
      "cell_type": "code",
      "metadata": {
        "id": "AgEPIIJK7GXO",
        "colab_type": "code",
        "outputId": "bb8bb56a-7727-4edf-b693-d7e3aeb2eec9",
        "colab": {
          "base_uri": "https://localhost:8080/",
          "height": 138
        }
      },
      "source": [
        "item_categories.head(3)"
      ],
      "execution_count": 0,
      "outputs": [
        {
          "output_type": "execute_result",
          "data": {
            "text/html": [
              "<div>\n",
              "<style scoped>\n",
              "    .dataframe tbody tr th:only-of-type {\n",
              "        vertical-align: middle;\n",
              "    }\n",
              "\n",
              "    .dataframe tbody tr th {\n",
              "        vertical-align: top;\n",
              "    }\n",
              "\n",
              "    .dataframe thead th {\n",
              "        text-align: right;\n",
              "    }\n",
              "</style>\n",
              "<table border=\"1\" class=\"dataframe\">\n",
              "  <thead>\n",
              "    <tr style=\"text-align: right;\">\n",
              "      <th></th>\n",
              "      <th>item_category_name</th>\n",
              "      <th>item_category_id</th>\n",
              "    </tr>\n",
              "  </thead>\n",
              "  <tbody>\n",
              "    <tr>\n",
              "      <th>0</th>\n",
              "      <td>PC - Гарнитуры/Наушники</td>\n",
              "      <td>0</td>\n",
              "    </tr>\n",
              "    <tr>\n",
              "      <th>1</th>\n",
              "      <td>Аксессуары - PS2</td>\n",
              "      <td>1</td>\n",
              "    </tr>\n",
              "    <tr>\n",
              "      <th>2</th>\n",
              "      <td>Аксессуары - PS3</td>\n",
              "      <td>2</td>\n",
              "    </tr>\n",
              "  </tbody>\n",
              "</table>\n",
              "</div>"
            ],
            "text/plain": [
              "        item_category_name  item_category_id\n",
              "0  PC - Гарнитуры/Наушники                 0\n",
              "1         Аксессуары - PS2                 1\n",
              "2         Аксессуары - PS3                 2"
            ]
          },
          "metadata": {
            "tags": []
          },
          "execution_count": 20
        }
      ]
    },
    {
      "cell_type": "markdown",
      "metadata": {
        "id": "_853hsnJ8j_s",
        "colab_type": "text"
      },
      "source": [
        "The attributes in training data and test data may be enough to predict , the item category name, category id and item name may be unnecessary while modelling because they do not show up on the test data."
      ]
    },
    {
      "cell_type": "markdown",
      "metadata": {
        "id": "mz7ALQaAoN7M",
        "colab_type": "text"
      },
      "source": [
        "### Visualize numerical features"
      ]
    },
    {
      "cell_type": "code",
      "metadata": {
        "id": "pt4XUrScxLfI",
        "colab_type": "code",
        "outputId": "b34547e0-71a7-4a33-8a0e-2d3cee385108",
        "colab": {
          "base_uri": "https://localhost:8080/",
          "height": 138
        }
      },
      "source": [
        "sales_train.head(3)"
      ],
      "execution_count": 0,
      "outputs": [
        {
          "output_type": "execute_result",
          "data": {
            "text/html": [
              "<div>\n",
              "<style scoped>\n",
              "    .dataframe tbody tr th:only-of-type {\n",
              "        vertical-align: middle;\n",
              "    }\n",
              "\n",
              "    .dataframe tbody tr th {\n",
              "        vertical-align: top;\n",
              "    }\n",
              "\n",
              "    .dataframe thead th {\n",
              "        text-align: right;\n",
              "    }\n",
              "</style>\n",
              "<table border=\"1\" class=\"dataframe\">\n",
              "  <thead>\n",
              "    <tr style=\"text-align: right;\">\n",
              "      <th></th>\n",
              "      <th>date</th>\n",
              "      <th>date_block_num</th>\n",
              "      <th>shop_id</th>\n",
              "      <th>item_id</th>\n",
              "      <th>item_price</th>\n",
              "      <th>item_cnt_day</th>\n",
              "    </tr>\n",
              "  </thead>\n",
              "  <tbody>\n",
              "    <tr>\n",
              "      <th>0</th>\n",
              "      <td>2013-01-02</td>\n",
              "      <td>0</td>\n",
              "      <td>59</td>\n",
              "      <td>22154</td>\n",
              "      <td>999.0</td>\n",
              "      <td>1.0</td>\n",
              "    </tr>\n",
              "    <tr>\n",
              "      <th>1</th>\n",
              "      <td>2013-01-03</td>\n",
              "      <td>0</td>\n",
              "      <td>25</td>\n",
              "      <td>2552</td>\n",
              "      <td>899.0</td>\n",
              "      <td>1.0</td>\n",
              "    </tr>\n",
              "    <tr>\n",
              "      <th>2</th>\n",
              "      <td>2013-01-05</td>\n",
              "      <td>0</td>\n",
              "      <td>25</td>\n",
              "      <td>2552</td>\n",
              "      <td>899.0</td>\n",
              "      <td>-1.0</td>\n",
              "    </tr>\n",
              "  </tbody>\n",
              "</table>\n",
              "</div>"
            ],
            "text/plain": [
              "        date  date_block_num  shop_id  item_id  item_price  item_cnt_day\n",
              "0 2013-01-02               0       59    22154       999.0           1.0\n",
              "1 2013-01-03               0       25     2552       899.0           1.0\n",
              "2 2013-01-05               0       25     2552       899.0          -1.0"
            ]
          },
          "metadata": {
            "tags": []
          },
          "execution_count": 21
        }
      ]
    },
    {
      "cell_type": "markdown",
      "metadata": {
        "id": "VPsYxgvAokB-",
        "colab_type": "text"
      },
      "source": [
        "#### How the price distribute"
      ]
    },
    {
      "cell_type": "code",
      "metadata": {
        "id": "eidwx5PP_xMm",
        "colab_type": "code",
        "colab": {}
      },
      "source": [
        "sns.set(style='whitegrid', font_scale=1.1, rc={'figure.figsize': [6, 4]})"
      ],
      "execution_count": 0,
      "outputs": []
    },
    {
      "cell_type": "code",
      "metadata": {
        "id": "A9vzgD4WIz3F",
        "colab_type": "code",
        "outputId": "a9f930ac-0c20-4352-9abe-b8f1da649672",
        "colab": {
          "base_uri": "https://localhost:8080/",
          "height": 321
        }
      },
      "source": [
        "sns.boxplot(sales_train['item_price']).set(title='Price distribution')"
      ],
      "execution_count": 0,
      "outputs": [
        {
          "output_type": "execute_result",
          "data": {
            "text/plain": [
              "[Text(0.5, 1.0, 'Price distribution')]"
            ]
          },
          "metadata": {
            "tags": []
          },
          "execution_count": 23
        },
        {
          "output_type": "display_data",
          "data": {
            "image/png": "[encoded data removed]",
            "text/plain": [
              "<Figure size 432x288 with 1 Axes>"
            ]
          },
          "metadata": {
            "tags": []
          }
        }
      ]
    },
    {
      "cell_type": "markdown",
      "metadata": {
        "id": "TUzofxVxq9Jw",
        "colab_type": "text"
      },
      "source": [
        "There are item price under zero. I will fill this item negative price with this item's median."
      ]
    },
    {
      "cell_type": "code",
      "metadata": {
        "id": "TsDkWU6wr9AE",
        "colab_type": "code",
        "outputId": "75c6b7dc-290c-4673-ca8d-10a9c973d187",
        "colab": {
          "base_uri": "https://localhost:8080/",
          "height": 78
        }
      },
      "source": [
        "sales_train[sales_train['item_price'] < 0]"
      ],
      "execution_count": 0,
      "outputs": [
        {
          "output_type": "execute_result",
          "data": {
            "text/html": [
              "<div>\n",
              "<style scoped>\n",
              "    .dataframe tbody tr th:only-of-type {\n",
              "        vertical-align: middle;\n",
              "    }\n",
              "\n",
              "    .dataframe tbody tr th {\n",
              "        vertical-align: top;\n",
              "    }\n",
              "\n",
              "    .dataframe thead th {\n",
              "        text-align: right;\n",
              "    }\n",
              "</style>\n",
              "<table border=\"1\" class=\"dataframe\">\n",
              "  <thead>\n",
              "    <tr style=\"text-align: right;\">\n",
              "      <th></th>\n",
              "      <th>date</th>\n",
              "      <th>date_block_num</th>\n",
              "      <th>shop_id</th>\n",
              "      <th>item_id</th>\n",
              "      <th>item_price</th>\n",
              "      <th>item_cnt_day</th>\n",
              "    </tr>\n",
              "  </thead>\n",
              "  <tbody>\n",
              "    <tr>\n",
              "      <th>484683</th>\n",
              "      <td>2013-05-15</td>\n",
              "      <td>4</td>\n",
              "      <td>32</td>\n",
              "      <td>2973</td>\n",
              "      <td>-1.0</td>\n",
              "      <td>1.0</td>\n",
              "    </tr>\n",
              "  </tbody>\n",
              "</table>\n",
              "</div>"
            ],
            "text/plain": [
              "             date  date_block_num  shop_id  item_id  item_price  item_cnt_day\n",
              "484683 2013-05-15               4       32     2973        -1.0           1.0"
            ]
          },
          "metadata": {
            "tags": []
          },
          "execution_count": 24
        }
      ]
    },
    {
      "cell_type": "code",
      "metadata": {
        "id": "pBxOTXXfsX2j",
        "colab_type": "code",
        "colab": {}
      },
      "source": [
        "sales_train.iloc[484683, 4] = sales_train[sales_train['item_id'] == 2973].item_price.median()"
      ],
      "execution_count": 0,
      "outputs": []
    },
    {
      "cell_type": "markdown",
      "metadata": {
        "id": "BaLK12yFtuA6",
        "colab_type": "text"
      },
      "source": [
        "#### How the daily sales distribute"
      ]
    },
    {
      "cell_type": "code",
      "metadata": {
        "id": "gI2RIAYxrbXm",
        "colab_type": "code",
        "outputId": "5b0a0bab-0d81-4713-9193-8499d06f803c",
        "colab": {
          "base_uri": "https://localhost:8080/",
          "height": 321
        }
      },
      "source": [
        "sns.boxplot(sales_train['item_cnt_day']).set(title='Daily sale distribution')"
      ],
      "execution_count": 0,
      "outputs": [
        {
          "output_type": "execute_result",
          "data": {
            "text/plain": [
              "[Text(0.5, 1.0, 'Daily sale distribution')]"
            ]
          },
          "metadata": {
            "tags": []
          },
          "execution_count": 26
        },
        {
          "output_type": "display_data",
          "data": {
            "image/png": "[encoded data removed]",
            "text/plain": [
              "<Figure size 432x288 with 1 Axes>"
            ]
          },
          "metadata": {
            "tags": []
          }
        }
      ]
    },
    {
      "cell_type": "code",
      "metadata": {
        "id": "cN6ZgHm-t5u-",
        "colab_type": "code",
        "outputId": "e29876bf-0fe8-47f4-dcd4-754e0cd6c9a0",
        "colab": {
          "base_uri": "https://localhost:8080/",
          "height": 409
        }
      },
      "source": [
        "sales_train[sales_train['item_cnt_day'] > 500].sort_values(['item_cnt_day'], axis=0, ascending=False)"
      ],
      "execution_count": 0,
      "outputs": [
        {
          "output_type": "execute_result",
          "data": {
            "text/html": [
              "<div>\n",
              "<style scoped>\n",
              "    .dataframe tbody tr th:only-of-type {\n",
              "        vertical-align: middle;\n",
              "    }\n",
              "\n",
              "    .dataframe tbody tr th {\n",
              "        vertical-align: top;\n",
              "    }\n",
              "\n",
              "    .dataframe thead th {\n",
              "        text-align: right;\n",
              "    }\n",
              "</style>\n",
              "<table border=\"1\" class=\"dataframe\">\n",
              "  <thead>\n",
              "    <tr style=\"text-align: right;\">\n",
              "      <th></th>\n",
              "      <th>date</th>\n",
              "      <th>date_block_num</th>\n",
              "      <th>shop_id</th>\n",
              "      <th>item_id</th>\n",
              "      <th>item_price</th>\n",
              "      <th>item_cnt_day</th>\n",
              "    </tr>\n",
              "  </thead>\n",
              "  <tbody>\n",
              "    <tr>\n",
              "      <th>2909818</th>\n",
              "      <td>2015-10-28</td>\n",
              "      <td>33</td>\n",
              "      <td>12</td>\n",
              "      <td>11373</td>\n",
              "      <td>0.908714</td>\n",
              "      <td>2169.0</td>\n",
              "    </tr>\n",
              "    <tr>\n",
              "      <th>2326930</th>\n",
              "      <td>2015-01-15</td>\n",
              "      <td>24</td>\n",
              "      <td>12</td>\n",
              "      <td>20949</td>\n",
              "      <td>4.000000</td>\n",
              "      <td>1000.0</td>\n",
              "    </tr>\n",
              "    <tr>\n",
              "      <th>2864235</th>\n",
              "      <td>2015-09-30</td>\n",
              "      <td>32</td>\n",
              "      <td>12</td>\n",
              "      <td>9248</td>\n",
              "      <td>1692.526158</td>\n",
              "      <td>669.0</td>\n",
              "    </tr>\n",
              "    <tr>\n",
              "      <th>2851091</th>\n",
              "      <td>2015-09-30</td>\n",
              "      <td>32</td>\n",
              "      <td>55</td>\n",
              "      <td>9249</td>\n",
              "      <td>1702.825746</td>\n",
              "      <td>637.0</td>\n",
              "    </tr>\n",
              "    <tr>\n",
              "      <th>2608040</th>\n",
              "      <td>2015-04-14</td>\n",
              "      <td>27</td>\n",
              "      <td>12</td>\n",
              "      <td>3731</td>\n",
              "      <td>1904.548077</td>\n",
              "      <td>624.0</td>\n",
              "    </tr>\n",
              "    <tr>\n",
              "      <th>2626181</th>\n",
              "      <td>2015-05-19</td>\n",
              "      <td>28</td>\n",
              "      <td>12</td>\n",
              "      <td>11373</td>\n",
              "      <td>155.192950</td>\n",
              "      <td>539.0</td>\n",
              "    </tr>\n",
              "    <tr>\n",
              "      <th>2851073</th>\n",
              "      <td>2015-09-29</td>\n",
              "      <td>32</td>\n",
              "      <td>55</td>\n",
              "      <td>9249</td>\n",
              "      <td>1500.000000</td>\n",
              "      <td>533.0</td>\n",
              "    </tr>\n",
              "    <tr>\n",
              "      <th>2048518</th>\n",
              "      <td>2014-10-02</td>\n",
              "      <td>21</td>\n",
              "      <td>12</td>\n",
              "      <td>9242</td>\n",
              "      <td>1500.000000</td>\n",
              "      <td>512.0</td>\n",
              "    </tr>\n",
              "    <tr>\n",
              "      <th>2067669</th>\n",
              "      <td>2014-10-09</td>\n",
              "      <td>21</td>\n",
              "      <td>55</td>\n",
              "      <td>19437</td>\n",
              "      <td>899.000000</td>\n",
              "      <td>508.0</td>\n",
              "    </tr>\n",
              "    <tr>\n",
              "      <th>2864260</th>\n",
              "      <td>2015-09-29</td>\n",
              "      <td>32</td>\n",
              "      <td>12</td>\n",
              "      <td>9248</td>\n",
              "      <td>1500.000000</td>\n",
              "      <td>504.0</td>\n",
              "    </tr>\n",
              "    <tr>\n",
              "      <th>1573253</th>\n",
              "      <td>2014-04-22</td>\n",
              "      <td>15</td>\n",
              "      <td>27</td>\n",
              "      <td>8057</td>\n",
              "      <td>1200.000000</td>\n",
              "      <td>502.0</td>\n",
              "    </tr>\n",
              "    <tr>\n",
              "      <th>1708207</th>\n",
              "      <td>2014-06-28</td>\n",
              "      <td>17</td>\n",
              "      <td>25</td>\n",
              "      <td>20949</td>\n",
              "      <td>5.000000</td>\n",
              "      <td>501.0</td>\n",
              "    </tr>\n",
              "  </tbody>\n",
              "</table>\n",
              "</div>"
            ],
            "text/plain": [
              "              date  date_block_num  shop_id  item_id   item_price  item_cnt_day\n",
              "2909818 2015-10-28              33       12    11373     0.908714        2169.0\n",
              "2326930 2015-01-15              24       12    20949     4.000000        1000.0\n",
              "2864235 2015-09-30              32       12     9248  1692.526158         669.0\n",
              "2851091 2015-09-30              32       55     9249  1702.825746         637.0\n",
              "2608040 2015-04-14              27       12     3731  1904.548077         624.0\n",
              "2626181 2015-05-19              28       12    11373   155.192950         539.0\n",
              "2851073 2015-09-29              32       55     9249  1500.000000         533.0\n",
              "2048518 2014-10-02              21       12     9242  1500.000000         512.0\n",
              "2067669 2014-10-09              21       55    19437   899.000000         508.0\n",
              "2864260 2015-09-29              32       12     9248  1500.000000         504.0\n",
              "1573253 2014-04-22              15       27     8057  1200.000000         502.0\n",
              "1708207 2014-06-28              17       25    20949     5.000000         501.0"
            ]
          },
          "metadata": {
            "tags": []
          },
          "execution_count": 27
        }
      ]
    },
    {
      "cell_type": "markdown",
      "metadata": {
        "id": "UxUjLWmEvF0h",
        "colab_type": "text"
      },
      "source": [
        "Those are very excellent daily sales. The success maily is because of the lower price. The popular shops id are 12 and 55."
      ]
    },
    {
      "cell_type": "markdown",
      "metadata": {
        "id": "CCXZpXvlzhSL",
        "colab_type": "text"
      },
      "source": [
        "#### Relation between features in pairs"
      ]
    },
    {
      "cell_type": "markdown",
      "metadata": {
        "id": "6TabHPafzrV7",
        "colab_type": "text"
      },
      "source": [
        "Now combine the daily sale for monthly use for each shop, each item, each month starting from 2013 to 2015.\n",
        "\n",
        "This dataset will be used in the data modelling."
      ]
    },
    {
      "cell_type": "code",
      "metadata": {
        "id": "TK5Gr_rl8L_c",
        "colab_type": "code",
        "colab": {}
      },
      "source": [
        "sales_detail = sales_train \\\n",
        ".groupby(['date_block_num','shop_id','item_id'])['item_price','item_cnt_day'] \\\n",
        ".agg({'item_price':'mean','item_cnt_day':'sum'}) \\\n",
        ".reset_index() \\\n",
        ".rename(columns={'item_cnt_day': 'item_cnt_month'})"
      ],
      "execution_count": 0,
      "outputs": []
    },
    {
      "cell_type": "code",
      "metadata": {
        "id": "GS1gxha68L7j",
        "colab_type": "code",
        "outputId": "61c1f4ed-a817-4c0f-f1e8-17a6c8fb35b4",
        "colab": {
          "base_uri": "https://localhost:8080/",
          "height": 138
        }
      },
      "source": [
        "sales_detail.head(3)"
      ],
      "execution_count": 0,
      "outputs": [
        {
          "output_type": "execute_result",
          "data": {
            "text/html": [
              "<div>\n",
              "<style scoped>\n",
              "    .dataframe tbody tr th:only-of-type {\n",
              "        vertical-align: middle;\n",
              "    }\n",
              "\n",
              "    .dataframe tbody tr th {\n",
              "        vertical-align: top;\n",
              "    }\n",
              "\n",
              "    .dataframe thead th {\n",
              "        text-align: right;\n",
              "    }\n",
              "</style>\n",
              "<table border=\"1\" class=\"dataframe\">\n",
              "  <thead>\n",
              "    <tr style=\"text-align: right;\">\n",
              "      <th></th>\n",
              "      <th>date_block_num</th>\n",
              "      <th>shop_id</th>\n",
              "      <th>item_id</th>\n",
              "      <th>item_price</th>\n",
              "      <th>item_cnt_month</th>\n",
              "    </tr>\n",
              "  </thead>\n",
              "  <tbody>\n",
              "    <tr>\n",
              "      <th>0</th>\n",
              "      <td>0</td>\n",
              "      <td>0</td>\n",
              "      <td>32</td>\n",
              "      <td>221.0</td>\n",
              "      <td>6.0</td>\n",
              "    </tr>\n",
              "    <tr>\n",
              "      <th>1</th>\n",
              "      <td>0</td>\n",
              "      <td>0</td>\n",
              "      <td>33</td>\n",
              "      <td>347.0</td>\n",
              "      <td>3.0</td>\n",
              "    </tr>\n",
              "    <tr>\n",
              "      <th>2</th>\n",
              "      <td>0</td>\n",
              "      <td>0</td>\n",
              "      <td>35</td>\n",
              "      <td>247.0</td>\n",
              "      <td>1.0</td>\n",
              "    </tr>\n",
              "  </tbody>\n",
              "</table>\n",
              "</div>"
            ],
            "text/plain": [
              "   date_block_num  shop_id  item_id  item_price  item_cnt_month\n",
              "0               0        0       32       221.0             6.0\n",
              "1               0        0       33       347.0             3.0\n",
              "2               0        0       35       247.0             1.0"
            ]
          },
          "metadata": {
            "tags": []
          },
          "execution_count": 29
        }
      ]
    },
    {
      "cell_type": "markdown",
      "metadata": {
        "id": "1yFQCXLf6vCH",
        "colab_type": "text"
      },
      "source": [
        "##### 1. Sales trend monthly"
      ]
    },
    {
      "cell_type": "code",
      "metadata": {
        "id": "5_czsvNx6uNq",
        "colab_type": "code",
        "outputId": "7121b568-d163-4efe-831e-40604b7288fc",
        "colab": {
          "base_uri": "https://localhost:8080/",
          "height": 138
        }
      },
      "source": [
        "sales_time = sales_detail \\\n",
        ".groupby(['date_block_num'])['item_cnt_month'].sum() \\\n",
        ".reset_index()\n",
        "sales_time.head(3)"
      ],
      "execution_count": 0,
      "outputs": [
        {
          "output_type": "execute_result",
          "data": {
            "text/html": [
              "<div>\n",
              "<style scoped>\n",
              "    .dataframe tbody tr th:only-of-type {\n",
              "        vertical-align: middle;\n",
              "    }\n",
              "\n",
              "    .dataframe tbody tr th {\n",
              "        vertical-align: top;\n",
              "    }\n",
              "\n",
              "    .dataframe thead th {\n",
              "        text-align: right;\n",
              "    }\n",
              "</style>\n",
              "<table border=\"1\" class=\"dataframe\">\n",
              "  <thead>\n",
              "    <tr style=\"text-align: right;\">\n",
              "      <th></th>\n",
              "      <th>date_block_num</th>\n",
              "      <th>item_cnt_month</th>\n",
              "    </tr>\n",
              "  </thead>\n",
              "  <tbody>\n",
              "    <tr>\n",
              "      <th>0</th>\n",
              "      <td>0</td>\n",
              "      <td>131479.0</td>\n",
              "    </tr>\n",
              "    <tr>\n",
              "      <th>1</th>\n",
              "      <td>1</td>\n",
              "      <td>128090.0</td>\n",
              "    </tr>\n",
              "    <tr>\n",
              "      <th>2</th>\n",
              "      <td>2</td>\n",
              "      <td>147142.0</td>\n",
              "    </tr>\n",
              "  </tbody>\n",
              "</table>\n",
              "</div>"
            ],
            "text/plain": [
              "   date_block_num  item_cnt_month\n",
              "0               0        131479.0\n",
              "1               1        128090.0\n",
              "2               2        147142.0"
            ]
          },
          "metadata": {
            "tags": []
          },
          "execution_count": 30
        }
      ]
    },
    {
      "cell_type": "code",
      "metadata": {
        "id": "ly9pCCgH8L1g",
        "colab_type": "code",
        "outputId": "6a7e0ce2-26f9-4d6d-a802-fd7685a69340",
        "colab": {
          "base_uri": "https://localhost:8080/",
          "height": 356
        }
      },
      "source": [
        "sns.lineplot(x='date_block_num', y='item_cnt_month', data=sales_time) \\\n",
        ".set(xlabel='consecutive month', ylabel='monthly sales', title='Sales change with month')"
      ],
      "execution_count": 0,
      "outputs": [
        {
          "output_type": "execute_result",
          "data": {
            "text/plain": [
              "[Text(0, 0.5, 'monthly sales'),\n",
              " Text(0.5, 0, 'consecutive month'),\n",
              " Text(0.5, 1.0, 'Sales change with month')]"
            ]
          },
          "metadata": {
            "tags": []
          },
          "execution_count": 31
        },
        {
          "output_type": "display_data",
          "data": {
            "image/png": "[encoded data removed]",
            "text/plain": [
              "<Figure size 432x288 with 1 Axes>"
            ]
          },
          "metadata": {
            "tags": []
          }
        }
      ]
    },
    {
      "cell_type": "markdown",
      "metadata": {
        "id": "KOrhMKZI9Jwe",
        "colab_type": "text"
      },
      "source": [
        "Here we can see at the end of each year, the sales come to a peak value, also a small jump in summer, may be due to the summer sale and winter sale. It means we should increase our supply around Nov and Dec.\n",
        "\n",
        "Also the monly sales decrease per year, which means we should figure out why our items not attracting."
      ]
    },
    {
      "cell_type": "markdown",
      "metadata": {
        "id": "_2GpRax48-tl",
        "colab_type": "text"
      },
      "source": [
        "##### 2. Shop popularity trend monthly"
      ]
    },
    {
      "cell_type": "code",
      "metadata": {
        "id": "I-NHR4Gw85Th",
        "colab_type": "code",
        "outputId": "b83b0b2c-85fe-4947-bf79-c485294aaec1",
        "colab": {
          "base_uri": "https://localhost:8080/",
          "height": 138
        }
      },
      "source": [
        "sales_shop = sales_detail \\\n",
        ".groupby(['date_block_num', 'shop_id'])['item_cnt_month'].sum() \\\n",
        ".reset_index()\n",
        "sales_shop.head(3)"
      ],
      "execution_count": 0,
      "outputs": [
        {
          "output_type": "execute_result",
          "data": {
            "text/html": [
              "<div>\n",
              "<style scoped>\n",
              "    .dataframe tbody tr th:only-of-type {\n",
              "        vertical-align: middle;\n",
              "    }\n",
              "\n",
              "    .dataframe tbody tr th {\n",
              "        vertical-align: top;\n",
              "    }\n",
              "\n",
              "    .dataframe thead th {\n",
              "        text-align: right;\n",
              "    }\n",
              "</style>\n",
              "<table border=\"1\" class=\"dataframe\">\n",
              "  <thead>\n",
              "    <tr style=\"text-align: right;\">\n",
              "      <th></th>\n",
              "      <th>date_block_num</th>\n",
              "      <th>shop_id</th>\n",
              "      <th>item_cnt_month</th>\n",
              "    </tr>\n",
              "  </thead>\n",
              "  <tbody>\n",
              "    <tr>\n",
              "      <th>0</th>\n",
              "      <td>0</td>\n",
              "      <td>0</td>\n",
              "      <td>5578.0</td>\n",
              "    </tr>\n",
              "    <tr>\n",
              "      <th>1</th>\n",
              "      <td>0</td>\n",
              "      <td>1</td>\n",
              "      <td>2947.0</td>\n",
              "    </tr>\n",
              "    <tr>\n",
              "      <th>2</th>\n",
              "      <td>0</td>\n",
              "      <td>2</td>\n",
              "      <td>1146.0</td>\n",
              "    </tr>\n",
              "  </tbody>\n",
              "</table>\n",
              "</div>"
            ],
            "text/plain": [
              "   date_block_num  shop_id  item_cnt_month\n",
              "0               0        0          5578.0\n",
              "1               0        1          2947.0\n",
              "2               0        2          1146.0"
            ]
          },
          "metadata": {
            "tags": []
          },
          "execution_count": 32
        }
      ]
    },
    {
      "cell_type": "code",
      "metadata": {
        "id": "F6Y5RSiT-3S-",
        "colab_type": "code",
        "outputId": "423594f9-b992-48a0-d9f8-5578db21a5f9",
        "colab": {
          "base_uri": "https://localhost:8080/",
          "height": 356
        }
      },
      "source": [
        "sns.scatterplot(x='date_block_num', y='item_cnt_month', hue='shop_id', data=sales_shop, palette='Set2', legend='brief') \\\n",
        ".set(xlabel='consecutive month', ylabel='monthly sale', title='monthly sales per shop')"
      ],
      "execution_count": 0,
      "outputs": [
        {
          "output_type": "execute_result",
          "data": {
            "text/plain": [
              "[Text(0, 0.5, 'monthly sale'),\n",
              " Text(0.5, 0, 'consecutive month'),\n",
              " Text(0.5, 1.0, 'monthly sales per shop')]"
            ]
          },
          "metadata": {
            "tags": []
          },
          "execution_count": 33
        },
        {
          "output_type": "display_data",
          "data": {
            "image/png": "[encoded data removed]",
            "text/plain": [
              "<Figure size 432x288 with 1 Axes>"
            ]
          },
          "metadata": {
            "tags": []
          }
        }
      ]
    },
    {
      "cell_type": "markdown",
      "metadata": {
        "id": "_WqON41eFaon",
        "colab_type": "text"
      },
      "source": [
        "From the scatterplot,there can be seen lower shop id have better performance, especially shops from 20 to 40. Shops with higher id have relatively worse performance. Now let's specificly see which shops do better on sales. Top 10 best shops id are determined below. For detail, can go to the shop dataset to find those shops' names."
      ]
    },
    {
      "cell_type": "code",
      "metadata": {
        "id": "EIAAPVhXG3gN",
        "colab_type": "code",
        "colab": {}
      },
      "source": [
        "top_shop_id = sales_shop.sort_values(['item_cnt_month'], axis=0, ascending=False)['shop_id'].unique()[:10]"
      ],
      "execution_count": 0,
      "outputs": []
    },
    {
      "cell_type": "code",
      "metadata": {
        "id": "GecxyPEz5mO7",
        "colab_type": "code",
        "outputId": "80739004-b27f-44a8-f3f6-c942687e24f2",
        "colab": {
          "base_uri": "https://localhost:8080/",
          "height": 34
        }
      },
      "source": [
        "# top 10 (ranking) shop id\n",
        "top_shop_id"
      ],
      "execution_count": 0,
      "outputs": [
        {
          "output_type": "execute_result",
          "data": {
            "text/plain": [
              "array([31, 25, 54, 57, 28, 27, 42, 55,  9,  0])"
            ]
          },
          "metadata": {
            "tags": []
          },
          "execution_count": 35
        }
      ]
    },
    {
      "cell_type": "code",
      "metadata": {
        "id": "f2be5dwG0Ceo",
        "colab_type": "code",
        "outputId": "c5bf0aee-a273-4c45-af31-d449b95dc012",
        "colab": {
          "base_uri": "https://localhost:8080/",
          "height": 207
        }
      },
      "source": [
        "# top 10 (no ranking) shop name\n",
        "shops_data[shops_data['shop_id'].isin(top_shop_id)].shop_name"
      ],
      "execution_count": 0,
      "outputs": [
        {
          "output_type": "execute_result",
          "data": {
            "text/plain": [
              "0       !Якутск Орджоникидзе, 56 фран\n",
              "9                   Выездная Торговля\n",
              "25                Москва ТРК \"Атриум\"\n",
              "27     Москва ТЦ \"МЕГА Белая Дача II\"\n",
              "28    Москва ТЦ \"МЕГА Теплый Стан\" II\n",
              "31            Москва ТЦ \"Семеновский\"\n",
              "42             СПб ТК \"Невский Центр\"\n",
              "54                    Химки ТЦ \"Мега\"\n",
              "55           Цифровой склад 1С-Онлайн\n",
              "57            Якутск Орджоникидзе, 56\n",
              "Name: shop_name, dtype: object"
            ]
          },
          "metadata": {
            "tags": []
          },
          "execution_count": 36
        }
      ]
    },
    {
      "cell_type": "markdown",
      "metadata": {
        "id": "GMeJOMvPI1HO",
        "colab_type": "text"
      },
      "source": [
        "##### 3. Item popularity trend monthly"
      ]
    },
    {
      "cell_type": "code",
      "metadata": {
        "id": "ko7Mdlbr-3Wb",
        "colab_type": "code",
        "outputId": "d0fa4265-44fb-4feb-c997-c5c07fd40a2f",
        "colab": {
          "base_uri": "https://localhost:8080/",
          "height": 138
        }
      },
      "source": [
        "sales_item = sales_detail \\\n",
        ".groupby(['date_block_num', 'item_id'])['item_cnt_month'].sum() \\\n",
        ".reset_index()\n",
        "sales_item.head(3)"
      ],
      "execution_count": 0,
      "outputs": [
        {
          "output_type": "execute_result",
          "data": {
            "text/html": [
              "<div>\n",
              "<style scoped>\n",
              "    .dataframe tbody tr th:only-of-type {\n",
              "        vertical-align: middle;\n",
              "    }\n",
              "\n",
              "    .dataframe tbody tr th {\n",
              "        vertical-align: top;\n",
              "    }\n",
              "\n",
              "    .dataframe thead th {\n",
              "        text-align: right;\n",
              "    }\n",
              "</style>\n",
              "<table border=\"1\" class=\"dataframe\">\n",
              "  <thead>\n",
              "    <tr style=\"text-align: right;\">\n",
              "      <th></th>\n",
              "      <th>date_block_num</th>\n",
              "      <th>item_id</th>\n",
              "      <th>item_cnt_month</th>\n",
              "    </tr>\n",
              "  </thead>\n",
              "  <tbody>\n",
              "    <tr>\n",
              "      <th>0</th>\n",
              "      <td>0</td>\n",
              "      <td>19</td>\n",
              "      <td>1.0</td>\n",
              "    </tr>\n",
              "    <tr>\n",
              "      <th>1</th>\n",
              "      <td>0</td>\n",
              "      <td>27</td>\n",
              "      <td>7.0</td>\n",
              "    </tr>\n",
              "    <tr>\n",
              "      <th>2</th>\n",
              "      <td>0</td>\n",
              "      <td>28</td>\n",
              "      <td>8.0</td>\n",
              "    </tr>\n",
              "  </tbody>\n",
              "</table>\n",
              "</div>"
            ],
            "text/plain": [
              "   date_block_num  item_id  item_cnt_month\n",
              "0               0       19             1.0\n",
              "1               0       27             7.0\n",
              "2               0       28             8.0"
            ]
          },
          "metadata": {
            "tags": []
          },
          "execution_count": 37
        }
      ]
    },
    {
      "cell_type": "code",
      "metadata": {
        "id": "MvXPZLAMKQO6",
        "colab_type": "code",
        "outputId": "6e8b60c9-384d-47b9-bbce-c84a71ad3002",
        "colab": {
          "base_uri": "https://localhost:8080/",
          "height": 356
        }
      },
      "source": [
        "sns.scatterplot(x='date_block_num', y='item_cnt_month', hue='item_id', data=sales_item, palette='Set2', legend='brief') \\\n",
        ".set(xlabel='consecutive month', ylabel='monthly sale', title='monthly sales per item')"
      ],
      "execution_count": 0,
      "outputs": [
        {
          "output_type": "execute_result",
          "data": {
            "text/plain": [
              "[Text(0, 0.5, 'monthly sale'),\n",
              " Text(0.5, 0, 'consecutive month'),\n",
              " Text(0.5, 1.0, 'monthly sales per item')]"
            ]
          },
          "metadata": {
            "tags": []
          },
          "execution_count": 38
        },
        {
          "output_type": "display_data",
          "data": {
            "image/png": "[encoded data removed]",
            "text/plain": [
              "<Figure size 432x288 with 1 Axes>"
            ]
          },
          "metadata": {
            "tags": []
          }
        }
      ]
    },
    {
      "cell_type": "markdown",
      "metadata": {
        "id": "9YxMMNshKEcF",
        "colab_type": "text"
      },
      "source": [
        "Items with higher id have relatively better performance. Now let's specificly see which items do better on sales. Top 10 best items id are determined below. For detail, can go to the item dataset to find those items' names."
      ]
    },
    {
      "cell_type": "code",
      "metadata": {
        "id": "uyQjaXPGI0YM",
        "colab_type": "code",
        "colab": {}
      },
      "source": [
        "top_item_id = sales_item.sort_values(['item_cnt_month'], axis=0, ascending=False)['item_id'].unique()[:10]"
      ],
      "execution_count": 0,
      "outputs": []
    },
    {
      "cell_type": "code",
      "metadata": {
        "id": "dMsAi8Wf6q4r",
        "colab_type": "code",
        "outputId": "14c30542-016d-417b-c70b-24e0f09edbb3",
        "colab": {
          "base_uri": "https://localhost:8080/",
          "height": 52
        }
      },
      "source": [
        "# top 10 (with ranking) item id\n",
        "top_item_id"
      ],
      "execution_count": 0,
      "outputs": [
        {
          "output_type": "execute_result",
          "data": {
            "text/plain": [
              "array([20949,  3731,  3732,  3733,  2814,  6738,  6502, 10210, 10209,\n",
              "        3734])"
            ]
          },
          "metadata": {
            "tags": []
          },
          "execution_count": 40
        }
      ]
    },
    {
      "cell_type": "code",
      "metadata": {
        "id": "eDmA948O2Rh8",
        "colab_type": "code",
        "outputId": "97b1a483-90dd-411c-89c4-f32021ff6a04",
        "colab": {
          "base_uri": "https://localhost:8080/",
          "height": 207
        }
      },
      "source": [
        "# top 10 (without ranking) item names\n",
        "items[items['item_id'].isin(top_item_id)].item_name"
      ],
      "execution_count": 0,
      "outputs": [
        {
          "output_type": "execute_result",
          "data": {
            "text/plain": [
              "2814     Diablo III: Reaper of Souls (дополнение) [PC, ...\n",
              "3731             Grand Theft Auto V [PC, русские субтитры]\n",
              "3732            Grand Theft Auto V [PS3, русские субтитры]\n",
              "3733            Grand Theft Auto V [PS4, русские субтитры]\n",
              "3734       Grand Theft Auto V [Xbox 360, русские субтитры]\n",
              "6502           Sims 4 Limited Edition [PC, русская версия]\n",
              "6738     StarCraft II: Heart of the Swarm (дополнение) ...\n",
              "10209          Ведьмак 3: Дикая охота [PC, русская версия]\n",
              "10210         Ведьмак 3: Дикая охота [PS4, русская версия]\n",
              "20949    Фирменный пакет майка 1С Интерес белый (34*42)...\n",
              "Name: item_name, dtype: object"
            ]
          },
          "metadata": {
            "tags": []
          },
          "execution_count": 41
        }
      ]
    },
    {
      "cell_type": "markdown",
      "metadata": {
        "id": "vS5TJCzIENSY",
        "colab_type": "text"
      },
      "source": [
        "The most popular items are electronic devices like PC and PS3, PS4, etc. Top brands are Grand Theft Auto V and Дикая охота."
      ]
    },
    {
      "cell_type": "markdown",
      "metadata": {
        "id": "KcHIlIYWK2eV",
        "colab_type": "text"
      },
      "source": [
        "## Data modelling"
      ]
    },
    {
      "cell_type": "markdown",
      "metadata": {
        "id": "aYFnnovaLfrO",
        "colab_type": "text"
      },
      "source": [
        "Although shop id, item id and month are shown as numerics, they should be treated as categorical features, because they do not have difference between each other no matter the value is low or high. However, due to the very huge dataset, one-hot encoding will cause crash. For now I just use label encoding, which the performance might be not as good as one-hot encoding."
      ]
    },
    {
      "cell_type": "markdown",
      "metadata": {
        "id": "BlJ-YYp4MVu-",
        "colab_type": "text"
      },
      "source": [
        "I will treat this forcasting problem as a regression problem, therefore, I will choose several regressor model, baseline is linear regression, then advanced model like random forest and GBT see if they will outperform. Because it is a regression model, I will select R2 score as measure metric, R2 score score can describe overall fit performance."
      ]
    },
    {
      "cell_type": "markdown",
      "metadata": {
        "id": "Obq2mNqA3TwU",
        "colab_type": "text"
      },
      "source": [
        "### Label encoding"
      ]
    },
    {
      "cell_type": "code",
      "metadata": {
        "id": "RD_GHMTxP606",
        "colab_type": "code",
        "colab": {}
      },
      "source": [
        "mon_le = LabelEncoder()\n",
        "shop_le = LabelEncoder()\n",
        "item_le = LabelEncoder()\n",
        "sales_detail['month_id'] = mon_le.fit_transform(sales_detail['date_block_num'])\n",
        "sales_detail['shop_id'] = shop_le.fit_transform(sales_detail['shop_id'])\n",
        "sales_detail['item_id'] = item_le.fit_transform(sales_detail['item_id'])\n",
        "sales_detail = sales_detail.drop(['date_block_num'], axis = 1)"
      ],
      "execution_count": 0,
      "outputs": []
    },
    {
      "cell_type": "code",
      "metadata": {
        "id": "PWTJyVxJWGkt",
        "colab_type": "code",
        "outputId": "b7ef813e-823e-4b25-9cf1-d306ae76fd3a",
        "colab": {
          "base_uri": "https://localhost:8080/",
          "height": 138
        }
      },
      "source": [
        "sales_detail.head(3)"
      ],
      "execution_count": 0,
      "outputs": [
        {
          "output_type": "execute_result",
          "data": {
            "text/html": [
              "<div>\n",
              "<style scoped>\n",
              "    .dataframe tbody tr th:only-of-type {\n",
              "        vertical-align: middle;\n",
              "    }\n",
              "\n",
              "    .dataframe tbody tr th {\n",
              "        vertical-align: top;\n",
              "    }\n",
              "\n",
              "    .dataframe thead th {\n",
              "        text-align: right;\n",
              "    }\n",
              "</style>\n",
              "<table border=\"1\" class=\"dataframe\">\n",
              "  <thead>\n",
              "    <tr style=\"text-align: right;\">\n",
              "      <th></th>\n",
              "      <th>shop_id</th>\n",
              "      <th>item_id</th>\n",
              "      <th>item_price</th>\n",
              "      <th>item_cnt_month</th>\n",
              "      <th>month_id</th>\n",
              "    </tr>\n",
              "  </thead>\n",
              "  <tbody>\n",
              "    <tr>\n",
              "      <th>0</th>\n",
              "      <td>0</td>\n",
              "      <td>32</td>\n",
              "      <td>221.0</td>\n",
              "      <td>6.0</td>\n",
              "      <td>0</td>\n",
              "    </tr>\n",
              "    <tr>\n",
              "      <th>1</th>\n",
              "      <td>0</td>\n",
              "      <td>33</td>\n",
              "      <td>347.0</td>\n",
              "      <td>3.0</td>\n",
              "      <td>0</td>\n",
              "    </tr>\n",
              "    <tr>\n",
              "      <th>2</th>\n",
              "      <td>0</td>\n",
              "      <td>35</td>\n",
              "      <td>247.0</td>\n",
              "      <td>1.0</td>\n",
              "      <td>0</td>\n",
              "    </tr>\n",
              "  </tbody>\n",
              "</table>\n",
              "</div>"
            ],
            "text/plain": [
              "   shop_id  item_id  item_price  item_cnt_month  month_id\n",
              "0        0       32       221.0             6.0         0\n",
              "1        0       33       347.0             3.0         0\n",
              "2        0       35       247.0             1.0         0"
            ]
          },
          "metadata": {
            "tags": []
          },
          "execution_count": 43
        }
      ]
    },
    {
      "cell_type": "markdown",
      "metadata": {
        "id": "5LLsLMDj32CE",
        "colab_type": "text"
      },
      "source": [
        "### Scaler"
      ]
    },
    {
      "cell_type": "markdown",
      "metadata": {
        "id": "ot6iZkbY350g",
        "colab_type": "text"
      },
      "source": [
        "Scale the item price and item_cnt_month because there are a few extreme high values that can be seen in the boxlot before. It will affect our model accuracy if not removed."
      ]
    },
    {
      "cell_type": "code",
      "metadata": {
        "id": "qaeZLz3U34tL",
        "colab_type": "code",
        "colab": {}
      },
      "source": [
        "price_scaler = StandardScaler()\n",
        "count_scaler = StandardScaler()\n",
        "\n",
        "price_scaler.fit(sales_detail.item_price.values.reshape(-1, 1))\n",
        "count_scaler.fit(sales_detail.item_cnt_month.values.reshape(-1, 1))\n",
        "\n",
        "sales_detail.item_price = price_scaler.transform(sales_detail.item_price.values.reshape(-1, 1))\n",
        "sales_detail.item_cnt_month = count_scaler.transform(sales_detail.item_cnt_month.values.reshape(-1, 1))"
      ],
      "execution_count": 0,
      "outputs": []
    },
    {
      "cell_type": "code",
      "metadata": {
        "id": "ofSn7LOo34wX",
        "colab_type": "code",
        "outputId": "f4537a35-5ce3-484c-e482-4f370275b0a5",
        "colab": {
          "base_uri": "https://localhost:8080/",
          "height": 138
        }
      },
      "source": [
        "sales_detail.head(3)"
      ],
      "execution_count": 0,
      "outputs": [
        {
          "output_type": "execute_result",
          "data": {
            "text/html": [
              "<div>\n",
              "<style scoped>\n",
              "    .dataframe tbody tr th:only-of-type {\n",
              "        vertical-align: middle;\n",
              "    }\n",
              "\n",
              "    .dataframe tbody tr th {\n",
              "        vertical-align: top;\n",
              "    }\n",
              "\n",
              "    .dataframe thead th {\n",
              "        text-align: right;\n",
              "    }\n",
              "</style>\n",
              "<table border=\"1\" class=\"dataframe\">\n",
              "  <thead>\n",
              "    <tr style=\"text-align: right;\">\n",
              "      <th></th>\n",
              "      <th>shop_id</th>\n",
              "      <th>item_id</th>\n",
              "      <th>item_price</th>\n",
              "      <th>item_cnt_month</th>\n",
              "      <th>month_id</th>\n",
              "    </tr>\n",
              "  </thead>\n",
              "  <tbody>\n",
              "    <tr>\n",
              "      <th>0</th>\n",
              "      <td>0</td>\n",
              "      <td>32</td>\n",
              "      <td>-0.367288</td>\n",
              "      <td>0.431544</td>\n",
              "      <td>0</td>\n",
              "    </tr>\n",
              "    <tr>\n",
              "      <th>1</th>\n",
              "      <td>0</td>\n",
              "      <td>33</td>\n",
              "      <td>-0.286081</td>\n",
              "      <td>0.084718</td>\n",
              "      <td>0</td>\n",
              "    </tr>\n",
              "    <tr>\n",
              "      <th>2</th>\n",
              "      <td>0</td>\n",
              "      <td>35</td>\n",
              "      <td>-0.350531</td>\n",
              "      <td>-0.146499</td>\n",
              "      <td>0</td>\n",
              "    </tr>\n",
              "  </tbody>\n",
              "</table>\n",
              "</div>"
            ],
            "text/plain": [
              "   shop_id  item_id  item_price  item_cnt_month  month_id\n",
              "0        0       32   -0.367288        0.431544         0\n",
              "1        0       33   -0.286081        0.084718         0\n",
              "2        0       35   -0.350531       -0.146499         0"
            ]
          },
          "metadata": {
            "tags": []
          },
          "execution_count": 45
        }
      ]
    },
    {
      "cell_type": "markdown",
      "metadata": {
        "id": "I79Xfmtf8nk-",
        "colab_type": "text"
      },
      "source": [
        "### Split data"
      ]
    },
    {
      "cell_type": "code",
      "metadata": {
        "id": "SUp7vJt1_inb",
        "colab_type": "code",
        "colab": {}
      },
      "source": [
        "y = sales_detail[['item_cnt_month']]\n",
        "X = sales_detail.drop(['item_cnt_month'], axis=1)"
      ],
      "execution_count": 0,
      "outputs": []
    },
    {
      "cell_type": "code",
      "metadata": {
        "id": "CfVZy8fxACUB",
        "colab_type": "code",
        "outputId": "6758b79d-1004-4bb8-9af8-a57250617a62",
        "colab": {
          "base_uri": "https://localhost:8080/",
          "height": 34
        }
      },
      "source": [
        "X_train, X_test, y_train, y_test = train_test_split(X, y, test_size=0.3, random_state=42, shuffle=True)\n",
        "print(X_train.shape, y_train.shape, X_test.shape, y_test.shape)"
      ],
      "execution_count": 0,
      "outputs": [
        {
          "output_type": "stream",
          "text": [
            "(1126386, 4) (1126386, 1) (482738, 4) (482738, 1)\n"
          ],
          "name": "stdout"
        }
      ]
    },
    {
      "cell_type": "markdown",
      "metadata": {
        "id": "pjpgzZSHBY81",
        "colab_type": "text"
      },
      "source": [
        "### Fit the model"
      ]
    },
    {
      "cell_type": "markdown",
      "metadata": {
        "id": "VH39pM0gDmYr",
        "colab_type": "text"
      },
      "source": [
        "#### 1. linear model"
      ]
    },
    {
      "cell_type": "code",
      "metadata": {
        "id": "tPWbAFaYVVIG",
        "colab_type": "code",
        "outputId": "cda65c3a-f9d8-475a-dcb7-6426457cdc29",
        "colab": {
          "base_uri": "https://localhost:8080/",
          "height": 34
        }
      },
      "source": [
        "lr = linear_model.LinearRegression()\n",
        "lr_fitted = lr.fit(X_train, y_train)\n",
        "lr_prediction = lr_fitted.predict(X_test)\n",
        "r2_score(y_test, lr_prediction)"
      ],
      "execution_count": 0,
      "outputs": [
        {
          "output_type": "execute_result",
          "data": {
            "text/plain": [
              "0.0006769972427118631"
            ]
          },
          "metadata": {
            "tags": []
          },
          "execution_count": 57
        }
      ]
    },
    {
      "cell_type": "markdown",
      "metadata": {
        "id": "dYwGylhMD8ga",
        "colab_type": "text"
      },
      "source": [
        "The linear regression seems very bad."
      ]
    },
    {
      "cell_type": "markdown",
      "metadata": {
        "id": "fouS_-ABD7s3",
        "colab_type": "text"
      },
      "source": [
        "#### 2. Random forest"
      ]
    },
    {
      "cell_type": "code",
      "metadata": {
        "id": "7xYVBqjWVqbe",
        "colab_type": "code",
        "outputId": "990d093c-65da-4b75-cf88-9fed4dfea31f",
        "colab": {
          "base_uri": "https://localhost:8080/",
          "height": 34
        }
      },
      "source": [
        "rf = RandomForestRegressor(max_depth=10, random_state=0, n_estimators=200)\n",
        "rf_fitted = rf.fit(X_train, y_train)\n",
        "rf_prediction = rf_fitted.predict(X_test)\n",
        "r2_score(y_test, rf_prediction)"
      ],
      "execution_count": 0,
      "outputs": [
        {
          "output_type": "execute_result",
          "data": {
            "text/plain": [
              "0.5196482128358482"
            ]
          },
          "metadata": {
            "tags": []
          },
          "execution_count": 58
        }
      ]
    },
    {
      "cell_type": "markdown",
      "metadata": {
        "id": "gf1qzT-NZ8XJ",
        "colab_type": "text"
      },
      "source": [
        "Random forest is much more better than linear regression, but not good enough."
      ]
    },
    {
      "cell_type": "code",
      "metadata": {
        "id": "-NwCPdUJFwsN",
        "colab_type": "code",
        "colab": {}
      },
      "source": [
        "feature = {'feature':list(X.columns.values), 'importance':rf_fitted.feature_importances_}\n",
        "feaure_importance = pd.DataFrame(feature).sort_values(['importance'], ascending=False)"
      ],
      "execution_count": 0,
      "outputs": []
    },
    {
      "cell_type": "code",
      "metadata": {
        "id": "r8QJElOoIb93",
        "colab_type": "code",
        "outputId": "2f94f854-6549-487e-b76c-0eecf761e1cd",
        "colab": {
          "base_uri": "https://localhost:8080/",
          "height": 356
        }
      },
      "source": [
        "sns.barplot(x='feature', y='importance', data=feaure_importance, orient='v', palette='Blues_d') \\\n",
        ".set(xlabel='feature name', ylabel='importance_%', title='feature importance')"
      ],
      "execution_count": 0,
      "outputs": [
        {
          "output_type": "execute_result",
          "data": {
            "text/plain": [
              "[Text(0, 0.5, 'importance_%'),\n",
              " Text(0.5, 0, 'feature name'),\n",
              " Text(0.5, 1.0, 'feature importance')]"
            ]
          },
          "metadata": {
            "tags": []
          },
          "execution_count": 52
        },
        {
          "output_type": "display_data",
          "data": {
            "image/png": "[encoded data removed]",
            "text/plain": [
              "<Figure size 432x288 with 1 Axes>"
            ]
          },
          "metadata": {
            "tags": []
          }
        }
      ]
    },
    {
      "cell_type": "markdown",
      "metadata": {
        "id": "XSyEs6VaNQEX",
        "colab_type": "text"
      },
      "source": [
        "#### 3. XGBT"
      ]
    },
    {
      "cell_type": "code",
      "metadata": {
        "id": "N9qwB6c6VxoV",
        "colab_type": "code",
        "outputId": "7c1b123b-dcec-4514-b3b4-7d3b0b1dd537",
        "colab": {
          "base_uri": "https://localhost:8080/",
          "height": 34
        }
      },
      "source": [
        "bt = GradientBoostingRegressor(n_estimators=200, max_depth=10)\n",
        "bt_fitted = bt.fit(X_train, y_train)\n",
        "bt_prediction = bt_fitted.predict(X_test)\n",
        "r2_score(y_test, bt_prediction)"
      ],
      "execution_count": 0,
      "outputs": [
        {
          "output_type": "execute_result",
          "data": {
            "text/plain": [
              "0.6242583281119303"
            ]
          },
          "metadata": {
            "tags": []
          },
          "execution_count": 59
        }
      ]
    },
    {
      "cell_type": "markdown",
      "metadata": {
        "id": "gvCA8ALqaE-X",
        "colab_type": "text"
      },
      "source": [
        "XGBT is the best among those models and reaches lowest R2 score."
      ]
    },
    {
      "cell_type": "code",
      "metadata": {
        "id": "fpJT-1H5Pb6z",
        "colab_type": "code",
        "colab": {}
      },
      "source": [
        "feature_bt = {'feature':list(X.columns.values), 'importance':bt_fitted.feature_importances_}\n",
        "feaure_importance_bt = pd.DataFrame(feature_bt).sort_values(['importance'], ascending=False)"
      ],
      "execution_count": 0,
      "outputs": []
    },
    {
      "cell_type": "code",
      "metadata": {
        "id": "0j7wBwgyP2gd",
        "colab_type": "code",
        "outputId": "012011d6-bcfc-4bd7-8608-1ea30c37c810",
        "colab": {
          "base_uri": "https://localhost:8080/",
          "height": 356
        }
      },
      "source": [
        "sns.barplot(x='feature', y='importance', data=feaure_importance_bt, orient='v', palette='BuGn_d') \\\n",
        ".set(xlabel='feature name', ylabel='importance', title='feature importance')"
      ],
      "execution_count": 0,
      "outputs": [
        {
          "output_type": "execute_result",
          "data": {
            "text/plain": [
              "[Text(0, 0.5, 'importance'),\n",
              " Text(0.5, 0, 'feature name'),\n",
              " Text(0.5, 1.0, 'feature importance')]"
            ]
          },
          "metadata": {
            "tags": []
          },
          "execution_count": 61
        },
        {
          "output_type": "display_data",
          "data": {
            "image/png": "[encoded data removed]",
            "text/plain": [
              "<Figure size 432x288 with 1 Axes>"
            ]
          },
          "metadata": {
            "tags": []
          }
        }
      ]
    },
    {
      "cell_type": "markdown",
      "metadata": {
        "id": "amgK2C7QKSm5",
        "colab_type": "text"
      },
      "source": [
        "Here we can see the price is much more crucial to customers, which is nearly a half. Second, shop is kind of important, maybe the shops located at downtown are bigger and more popular because the items are more various and customers are more well-serviced. Time is somewhat relative, remember findings before about peak in winter."
      ]
    },
    {
      "cell_type": "markdown",
      "metadata": {
        "id": "QrwOCQ7gVV_k",
        "colab_type": "text"
      },
      "source": [
        "## Finish forcasting"
      ]
    },
    {
      "cell_type": "markdown",
      "metadata": {
        "id": "GLhOqpnQ_OtB",
        "colab_type": "text"
      },
      "source": [
        "Noting: It can be found that in our training data, the price for the same item in different shops may differ from different months. To avoid huge duplicates when finding the price for our test item for different shops, I assume they have the same price for one item in one shop in Nov 2015, using the mean price extracted for months before."
      ]
    },
    {
      "cell_type": "code",
      "metadata": {
        "id": "ZGFnijNG_5i6",
        "colab_type": "code",
        "outputId": "21a9b0b4-8ecd-4cbb-9481-8164854a0d5a",
        "colab": {
          "base_uri": "https://localhost:8080/",
          "height": 138
        }
      },
      "source": [
        "sales_price = sales_detail \\\n",
        ".groupby(['shop_id', 'item_id'])['item_price'].mean() \\\n",
        ".reset_index()\n",
        "sales_price.head(3)"
      ],
      "execution_count": 0,
      "outputs": [
        {
          "output_type": "execute_result",
          "data": {
            "text/html": [
              "<div>\n",
              "<style scoped>\n",
              "    .dataframe tbody tr th:only-of-type {\n",
              "        vertical-align: middle;\n",
              "    }\n",
              "\n",
              "    .dataframe tbody tr th {\n",
              "        vertical-align: top;\n",
              "    }\n",
              "\n",
              "    .dataframe thead th {\n",
              "        text-align: right;\n",
              "    }\n",
              "</style>\n",
              "<table border=\"1\" class=\"dataframe\">\n",
              "  <thead>\n",
              "    <tr style=\"text-align: right;\">\n",
              "      <th></th>\n",
              "      <th>shop_id</th>\n",
              "      <th>item_id</th>\n",
              "      <th>item_price</th>\n",
              "    </tr>\n",
              "  </thead>\n",
              "  <tbody>\n",
              "    <tr>\n",
              "      <th>0</th>\n",
              "      <td>0</td>\n",
              "      <td>30</td>\n",
              "      <td>-0.338930</td>\n",
              "    </tr>\n",
              "    <tr>\n",
              "      <th>1</th>\n",
              "      <td>0</td>\n",
              "      <td>31</td>\n",
              "      <td>-0.230010</td>\n",
              "    </tr>\n",
              "    <tr>\n",
              "      <th>2</th>\n",
              "      <td>0</td>\n",
              "      <td>32</td>\n",
              "      <td>-0.367288</td>\n",
              "    </tr>\n",
              "  </tbody>\n",
              "</table>\n",
              "</div>"
            ],
            "text/plain": [
              "   shop_id  item_id  item_price\n",
              "0        0       30   -0.338930\n",
              "1        0       31   -0.230010\n",
              "2        0       32   -0.367288"
            ]
          },
          "metadata": {
            "tags": []
          },
          "execution_count": 62
        }
      ]
    },
    {
      "cell_type": "code",
      "metadata": {
        "id": "5I1K-VWLVyzK",
        "colab_type": "code",
        "outputId": "83882610-fbc7-4233-c637-2b48b61c56cf",
        "colab": {
          "base_uri": "https://localhost:8080/",
          "height": 138
        }
      },
      "source": [
        "test_data['month_id'] = 34\n",
        "test_data['item_cnt_month'] = 0\n",
        "test_data.head(3)"
      ],
      "execution_count": 0,
      "outputs": [
        {
          "output_type": "execute_result",
          "data": {
            "text/html": [
              "<div>\n",
              "<style scoped>\n",
              "    .dataframe tbody tr th:only-of-type {\n",
              "        vertical-align: middle;\n",
              "    }\n",
              "\n",
              "    .dataframe tbody tr th {\n",
              "        vertical-align: top;\n",
              "    }\n",
              "\n",
              "    .dataframe thead th {\n",
              "        text-align: right;\n",
              "    }\n",
              "</style>\n",
              "<table border=\"1\" class=\"dataframe\">\n",
              "  <thead>\n",
              "    <tr style=\"text-align: right;\">\n",
              "      <th></th>\n",
              "      <th>shop_id</th>\n",
              "      <th>item_id</th>\n",
              "      <th>month_id</th>\n",
              "      <th>item_cnt_month</th>\n",
              "    </tr>\n",
              "  </thead>\n",
              "  <tbody>\n",
              "    <tr>\n",
              "      <th>0</th>\n",
              "      <td>5</td>\n",
              "      <td>5037</td>\n",
              "      <td>34</td>\n",
              "      <td>0</td>\n",
              "    </tr>\n",
              "    <tr>\n",
              "      <th>1</th>\n",
              "      <td>5</td>\n",
              "      <td>5320</td>\n",
              "      <td>34</td>\n",
              "      <td>0</td>\n",
              "    </tr>\n",
              "    <tr>\n",
              "      <th>2</th>\n",
              "      <td>5</td>\n",
              "      <td>5233</td>\n",
              "      <td>34</td>\n",
              "      <td>0</td>\n",
              "    </tr>\n",
              "  </tbody>\n",
              "</table>\n",
              "</div>"
            ],
            "text/plain": [
              "   shop_id  item_id  month_id  item_cnt_month\n",
              "0        5     5037        34               0\n",
              "1        5     5320        34               0\n",
              "2        5     5233        34               0"
            ]
          },
          "metadata": {
            "tags": []
          },
          "execution_count": 112
        }
      ]
    },
    {
      "cell_type": "code",
      "metadata": {
        "id": "TleLUWlddr1U",
        "colab_type": "code",
        "colab": {}
      },
      "source": [
        "test_new = test_data.merge(sales_price, left_on=['item_id','shop_id'], right_on = ['item_id','shop_id'], how='left').reset_index()"
      ],
      "execution_count": 0,
      "outputs": []
    },
    {
      "cell_type": "code",
      "metadata": {
        "id": "iwX6zGlud7er",
        "colab_type": "code",
        "outputId": "2af1aa33-51a2-45cb-f73a-35d72efc3b4b",
        "colab": {
          "base_uri": "https://localhost:8080/",
          "height": 138
        }
      },
      "source": [
        "test_new.head(3)"
      ],
      "execution_count": 0,
      "outputs": [
        {
          "output_type": "execute_result",
          "data": {
            "text/html": [
              "<div>\n",
              "<style scoped>\n",
              "    .dataframe tbody tr th:only-of-type {\n",
              "        vertical-align: middle;\n",
              "    }\n",
              "\n",
              "    .dataframe tbody tr th {\n",
              "        vertical-align: top;\n",
              "    }\n",
              "\n",
              "    .dataframe thead th {\n",
              "        text-align: right;\n",
              "    }\n",
              "</style>\n",
              "<table border=\"1\" class=\"dataframe\">\n",
              "  <thead>\n",
              "    <tr style=\"text-align: right;\">\n",
              "      <th></th>\n",
              "      <th>index</th>\n",
              "      <th>shop_id</th>\n",
              "      <th>item_id</th>\n",
              "      <th>month_id</th>\n",
              "      <th>item_cnt_month</th>\n",
              "      <th>item_price</th>\n",
              "    </tr>\n",
              "  </thead>\n",
              "  <tbody>\n",
              "    <tr>\n",
              "      <th>0</th>\n",
              "      <td>0</td>\n",
              "      <td>5</td>\n",
              "      <td>5037</td>\n",
              "      <td>34</td>\n",
              "      <td>0</td>\n",
              "      <td>NaN</td>\n",
              "    </tr>\n",
              "    <tr>\n",
              "      <th>1</th>\n",
              "      <td>1</td>\n",
              "      <td>5</td>\n",
              "      <td>5320</td>\n",
              "      <td>34</td>\n",
              "      <td>0</td>\n",
              "      <td>NaN</td>\n",
              "    </tr>\n",
              "    <tr>\n",
              "      <th>2</th>\n",
              "      <td>2</td>\n",
              "      <td>5</td>\n",
              "      <td>5233</td>\n",
              "      <td>34</td>\n",
              "      <td>0</td>\n",
              "      <td>-0.317017</td>\n",
              "    </tr>\n",
              "  </tbody>\n",
              "</table>\n",
              "</div>"
            ],
            "text/plain": [
              "   index  shop_id  item_id  month_id  item_cnt_month  item_price\n",
              "0      0        5     5037        34               0         NaN\n",
              "1      1        5     5320        34               0         NaN\n",
              "2      2        5     5233        34               0   -0.317017"
            ]
          },
          "metadata": {
            "tags": []
          },
          "execution_count": 114
        }
      ]
    },
    {
      "cell_type": "code",
      "metadata": {
        "id": "IZBcZii9Wnf4",
        "colab_type": "code",
        "outputId": "c54ea400-d745-4016-b313-8fa9c6dbc937",
        "colab": {
          "base_uri": "https://localhost:8080/",
          "height": 34
        }
      },
      "source": [
        "percentage = test_new.item_price.isnull().sum()/test_new.shape[0]\n",
        "print('There are', round(percentage*100, 2), '% of all the test data do not have information in our training data')"
      ],
      "execution_count": 0,
      "outputs": [
        {
          "output_type": "stream",
          "text": [
            "There are 63.74 % of all the test data do not have information in our training data\n"
          ],
          "name": "stdout"
        }
      ]
    },
    {
      "cell_type": "markdown",
      "metadata": {
        "id": "P1dRTVMli75S",
        "colab_type": "text"
      },
      "source": [
        "There are a lot of items have not ever been saled in some shops. Therefore, cannot determine the price for that item in that shop, just use mean price in other shops to fill the NA."
      ]
    },
    {
      "cell_type": "code",
      "metadata": {
        "id": "YHh-IIc1ECBH",
        "colab_type": "code",
        "colab": {}
      },
      "source": [
        "test_new['item_price'] = test_new.groupby('item_id')['item_price'].transform(lambda group: group.fillna(group.mean()))"
      ],
      "execution_count": 0,
      "outputs": []
    },
    {
      "cell_type": "code",
      "metadata": {
        "id": "paeYFQi9FXSm",
        "colab_type": "code",
        "colab": {}
      },
      "source": [
        "test_new = test_new.drop(['index'], axis=1)"
      ],
      "execution_count": 0,
      "outputs": []
    },
    {
      "cell_type": "code",
      "metadata": {
        "id": "vRAATQUzeXNH",
        "colab_type": "code",
        "outputId": "fe6b70a2-84ef-4b02-ea5d-e3ad0f7b2d7f",
        "colab": {
          "base_uri": "https://localhost:8080/",
          "height": 34
        }
      },
      "source": [
        "test_new.shape"
      ],
      "execution_count": 0,
      "outputs": [
        {
          "output_type": "execute_result",
          "data": {
            "text/plain": [
              "(214200, 5)"
            ]
          },
          "metadata": {
            "tags": []
          },
          "execution_count": 118
        }
      ]
    },
    {
      "cell_type": "code",
      "metadata": {
        "id": "wZ9WbdKAFgkp",
        "colab_type": "code",
        "outputId": "28afe576-4673-4ab7-b96b-a0f0c55471ac",
        "colab": {
          "base_uri": "https://localhost:8080/",
          "height": 138
        }
      },
      "source": [
        "test_new.head(3)"
      ],
      "execution_count": 0,
      "outputs": [
        {
          "output_type": "execute_result",
          "data": {
            "text/html": [
              "<div>\n",
              "<style scoped>\n",
              "    .dataframe tbody tr th:only-of-type {\n",
              "        vertical-align: middle;\n",
              "    }\n",
              "\n",
              "    .dataframe tbody tr th {\n",
              "        vertical-align: top;\n",
              "    }\n",
              "\n",
              "    .dataframe thead th {\n",
              "        text-align: right;\n",
              "    }\n",
              "</style>\n",
              "<table border=\"1\" class=\"dataframe\">\n",
              "  <thead>\n",
              "    <tr style=\"text-align: right;\">\n",
              "      <th></th>\n",
              "      <th>shop_id</th>\n",
              "      <th>item_id</th>\n",
              "      <th>month_id</th>\n",
              "      <th>item_cnt_month</th>\n",
              "      <th>item_price</th>\n",
              "    </tr>\n",
              "  </thead>\n",
              "  <tbody>\n",
              "    <tr>\n",
              "      <th>0</th>\n",
              "      <td>5</td>\n",
              "      <td>5037</td>\n",
              "      <td>34</td>\n",
              "      <td>0</td>\n",
              "      <td>-0.284792</td>\n",
              "    </tr>\n",
              "    <tr>\n",
              "      <th>1</th>\n",
              "      <td>5</td>\n",
              "      <td>5320</td>\n",
              "      <td>34</td>\n",
              "      <td>0</td>\n",
              "      <td>0.660036</td>\n",
              "    </tr>\n",
              "    <tr>\n",
              "      <th>2</th>\n",
              "      <td>5</td>\n",
              "      <td>5233</td>\n",
              "      <td>34</td>\n",
              "      <td>0</td>\n",
              "      <td>-0.317017</td>\n",
              "    </tr>\n",
              "  </tbody>\n",
              "</table>\n",
              "</div>"
            ],
            "text/plain": [
              "   shop_id  item_id  month_id  item_cnt_month  item_price\n",
              "0        5     5037        34               0   -0.284792\n",
              "1        5     5320        34               0    0.660036\n",
              "2        5     5233        34               0   -0.317017"
            ]
          },
          "metadata": {
            "tags": []
          },
          "execution_count": 119
        }
      ]
    },
    {
      "cell_type": "code",
      "metadata": {
        "id": "SrRZpTvzWDgM",
        "colab_type": "code",
        "outputId": "eda87e84-4bc5-42ff-80d6-ee74a920e4c1",
        "colab": {
          "base_uri": "https://localhost:8080/",
          "height": 121
        }
      },
      "source": [
        "print(test_new.isnull().sum())"
      ],
      "execution_count": 0,
      "outputs": [
        {
          "output_type": "stream",
          "text": [
            "shop_id               0\n",
            "item_id               0\n",
            "month_id              0\n",
            "item_cnt_month        0\n",
            "item_price        11130\n",
            "dtype: int64\n"
          ],
          "name": "stdout"
        }
      ]
    },
    {
      "cell_type": "markdown",
      "metadata": {
        "id": "-xndUVInW2lp",
        "colab_type": "text"
      },
      "source": [
        "There are still some item only sale in that shop but does not have price information, I will use median of entire test data to fill."
      ]
    },
    {
      "cell_type": "code",
      "metadata": {
        "id": "Zq-ihvYBW10F",
        "colab_type": "code",
        "colab": {}
      },
      "source": [
        "test_new['item_price'] = test_new['item_price'].fillna(test_new['item_price'].median())"
      ],
      "execution_count": 0,
      "outputs": []
    },
    {
      "cell_type": "code",
      "metadata": {
        "id": "2fHMOWNvXnMr",
        "colab_type": "code",
        "outputId": "7172d114-1cc4-4649-e162-15f9776cf6d9",
        "colab": {
          "base_uri": "https://localhost:8080/",
          "height": 138
        }
      },
      "source": [
        "test_new.head(3)"
      ],
      "execution_count": 0,
      "outputs": [
        {
          "output_type": "execute_result",
          "data": {
            "text/html": [
              "<div>\n",
              "<style scoped>\n",
              "    .dataframe tbody tr th:only-of-type {\n",
              "        vertical-align: middle;\n",
              "    }\n",
              "\n",
              "    .dataframe tbody tr th {\n",
              "        vertical-align: top;\n",
              "    }\n",
              "\n",
              "    .dataframe thead th {\n",
              "        text-align: right;\n",
              "    }\n",
              "</style>\n",
              "<table border=\"1\" class=\"dataframe\">\n",
              "  <thead>\n",
              "    <tr style=\"text-align: right;\">\n",
              "      <th></th>\n",
              "      <th>shop_id</th>\n",
              "      <th>item_id</th>\n",
              "      <th>month_id</th>\n",
              "      <th>item_cnt_month</th>\n",
              "      <th>item_price</th>\n",
              "    </tr>\n",
              "  </thead>\n",
              "  <tbody>\n",
              "    <tr>\n",
              "      <th>0</th>\n",
              "      <td>5</td>\n",
              "      <td>5037</td>\n",
              "      <td>34</td>\n",
              "      <td>0</td>\n",
              "      <td>-0.284792</td>\n",
              "    </tr>\n",
              "    <tr>\n",
              "      <th>1</th>\n",
              "      <td>5</td>\n",
              "      <td>5320</td>\n",
              "      <td>34</td>\n",
              "      <td>0</td>\n",
              "      <td>0.660036</td>\n",
              "    </tr>\n",
              "    <tr>\n",
              "      <th>2</th>\n",
              "      <td>5</td>\n",
              "      <td>5233</td>\n",
              "      <td>34</td>\n",
              "      <td>0</td>\n",
              "      <td>-0.317017</td>\n",
              "    </tr>\n",
              "  </tbody>\n",
              "</table>\n",
              "</div>"
            ],
            "text/plain": [
              "   shop_id  item_id  month_id  item_cnt_month  item_price\n",
              "0        5     5037        34               0   -0.284792\n",
              "1        5     5320        34               0    0.660036\n",
              "2        5     5233        34               0   -0.317017"
            ]
          },
          "metadata": {
            "tags": []
          },
          "execution_count": 122
        }
      ]
    },
    {
      "cell_type": "code",
      "metadata": {
        "id": "-b-DjeV5YJu1",
        "colab_type": "code",
        "outputId": "41898710-b0fc-4124-9460-89431a148b98",
        "colab": {
          "base_uri": "https://localhost:8080/",
          "height": 121
        }
      },
      "source": [
        "print(test_new.isnull().sum())"
      ],
      "execution_count": 0,
      "outputs": [
        {
          "output_type": "stream",
          "text": [
            "shop_id           0\n",
            "item_id           0\n",
            "month_id          0\n",
            "item_cnt_month    0\n",
            "item_price        0\n",
            "dtype: int64\n"
          ],
          "name": "stdout"
        }
      ]
    },
    {
      "cell_type": "code",
      "metadata": {
        "id": "dUBTd9f2a3FD",
        "colab_type": "code",
        "colab": {}
      },
      "source": [
        "X_fill = test_new[['shop_id', 'item_id', 'item_price', 'month_id']]\n",
        "test_new['item_cnt_month'] = bt_fitted.predict(X_fill)"
      ],
      "execution_count": 0,
      "outputs": []
    },
    {
      "cell_type": "code",
      "metadata": {
        "id": "8UR1L5JQkfei",
        "colab_type": "code",
        "colab": {}
      },
      "source": [
        "test_new['item_cnt_month'] = np.round(count_scaler.inverse_transform(test_new['item_cnt_month']))\n",
        "test_new['item_price'] = np.round(price_scaler.inverse_transform(test_new['item_price']))"
      ],
      "execution_count": 0,
      "outputs": []
    },
    {
      "cell_type": "code",
      "metadata": {
        "id": "XHQZ5OSdkqzH",
        "colab_type": "code",
        "colab": {}
      },
      "source": [
        "export_csv = test_new.to_csv ('/content/drive/My Drive/Kaggle/forcasting.csv', index=None, header=True)"
      ],
      "execution_count": 0,
      "outputs": []
    },
    {
      "cell_type": "markdown",
      "metadata": {
        "id": "OmF5tSpylJEd",
        "colab_type": "text"
      },
      "source": [
        "## Explore forcasting data"
      ]
    },
    {
      "cell_type": "markdown",
      "metadata": {
        "id": "pgpCjigrgY2y",
        "colab_type": "text"
      },
      "source": [
        "### Top sale shop names"
      ]
    },
    {
      "cell_type": "code",
      "metadata": {
        "id": "okOZ0kaCYRGJ",
        "colab_type": "code",
        "colab": {}
      },
      "source": [
        "path_new = '/content/drive/My Drive/Kaggle/forcasting.csv'"
      ],
      "execution_count": 0,
      "outputs": []
    },
    {
      "cell_type": "code",
      "metadata": {
        "id": "ewHQmUK4Zezp",
        "colab_type": "code",
        "colab": {}
      },
      "source": [
        "new_data = pd.read_csv(path_new)"
      ],
      "execution_count": 0,
      "outputs": []
    },
    {
      "cell_type": "code",
      "metadata": {
        "id": "5bjFEuaQZlJt",
        "colab_type": "code",
        "outputId": "70ebd23f-583d-42eb-f147-442ca091e8fa",
        "colab": {
          "base_uri": "https://localhost:8080/",
          "height": 138
        }
      },
      "source": [
        "new_data.head(3)"
      ],
      "execution_count": 0,
      "outputs": [
        {
          "output_type": "execute_result",
          "data": {
            "text/html": [
              "<div>\n",
              "<style scoped>\n",
              "    .dataframe tbody tr th:only-of-type {\n",
              "        vertical-align: middle;\n",
              "    }\n",
              "\n",
              "    .dataframe tbody tr th {\n",
              "        vertical-align: top;\n",
              "    }\n",
              "\n",
              "    .dataframe thead th {\n",
              "        text-align: right;\n",
              "    }\n",
              "</style>\n",
              "<table border=\"1\" class=\"dataframe\">\n",
              "  <thead>\n",
              "    <tr style=\"text-align: right;\">\n",
              "      <th></th>\n",
              "      <th>shop_id</th>\n",
              "      <th>item_id</th>\n",
              "      <th>month_id</th>\n",
              "      <th>item_cnt_month</th>\n",
              "      <th>item_price</th>\n",
              "    </tr>\n",
              "  </thead>\n",
              "  <tbody>\n",
              "    <tr>\n",
              "      <th>0</th>\n",
              "      <td>5</td>\n",
              "      <td>5037</td>\n",
              "      <td>34</td>\n",
              "      <td>1.0</td>\n",
              "      <td>349.0</td>\n",
              "    </tr>\n",
              "    <tr>\n",
              "      <th>1</th>\n",
              "      <td>5</td>\n",
              "      <td>5320</td>\n",
              "      <td>34</td>\n",
              "      <td>1.0</td>\n",
              "      <td>1815.0</td>\n",
              "    </tr>\n",
              "    <tr>\n",
              "      <th>2</th>\n",
              "      <td>5</td>\n",
              "      <td>5233</td>\n",
              "      <td>34</td>\n",
              "      <td>1.0</td>\n",
              "      <td>299.0</td>\n",
              "    </tr>\n",
              "  </tbody>\n",
              "</table>\n",
              "</div>"
            ],
            "text/plain": [
              "   shop_id  item_id  month_id  item_cnt_month  item_price\n",
              "0        5     5037        34             1.0       349.0\n",
              "1        5     5320        34             1.0      1815.0\n",
              "2        5     5233        34             1.0       299.0"
            ]
          },
          "metadata": {
            "tags": []
          },
          "execution_count": 129
        }
      ]
    },
    {
      "cell_type": "code",
      "metadata": {
        "id": "QFzvIdZTZslT",
        "colab_type": "code",
        "outputId": "d16f7209-e3ae-4476-ff37-9991a051e4ef",
        "colab": {
          "base_uri": "https://localhost:8080/",
          "height": 138
        }
      },
      "source": [
        "df_shop = new_data \\\n",
        ".groupby(['shop_id'])['item_cnt_month'].sum() \\\n",
        ".reset_index()\n",
        "df_shop.head(3)"
      ],
      "execution_count": 0,
      "outputs": [
        {
          "output_type": "execute_result",
          "data": {
            "text/html": [
              "<div>\n",
              "<style scoped>\n",
              "    .dataframe tbody tr th:only-of-type {\n",
              "        vertical-align: middle;\n",
              "    }\n",
              "\n",
              "    .dataframe tbody tr th {\n",
              "        vertical-align: top;\n",
              "    }\n",
              "\n",
              "    .dataframe thead th {\n",
              "        text-align: right;\n",
              "    }\n",
              "</style>\n",
              "<table border=\"1\" class=\"dataframe\">\n",
              "  <thead>\n",
              "    <tr style=\"text-align: right;\">\n",
              "      <th></th>\n",
              "      <th>shop_id</th>\n",
              "      <th>item_cnt_month</th>\n",
              "    </tr>\n",
              "  </thead>\n",
              "  <tbody>\n",
              "    <tr>\n",
              "      <th>0</th>\n",
              "      <td>2</td>\n",
              "      <td>11857.0</td>\n",
              "    </tr>\n",
              "    <tr>\n",
              "      <th>1</th>\n",
              "      <td>3</td>\n",
              "      <td>11486.0</td>\n",
              "    </tr>\n",
              "    <tr>\n",
              "      <th>2</th>\n",
              "      <td>4</td>\n",
              "      <td>11799.0</td>\n",
              "    </tr>\n",
              "  </tbody>\n",
              "</table>\n",
              "</div>"
            ],
            "text/plain": [
              "   shop_id  item_cnt_month\n",
              "0        2         11857.0\n",
              "1        3         11486.0\n",
              "2        4         11799.0"
            ]
          },
          "metadata": {
            "tags": []
          },
          "execution_count": 140
        }
      ]
    },
    {
      "cell_type": "code",
      "metadata": {
        "id": "xVd71UUYdpz8",
        "colab_type": "code",
        "outputId": "f9ac4d43-842a-4dc9-97bf-b90710d6e5e8",
        "colab": {
          "base_uri": "https://localhost:8080/",
          "height": 356
        }
      },
      "source": [
        "sns.lineplot(x='shop_id', y='item_cnt_month', data=df_shop) \\\n",
        ".set(xlabel='shop id', ylabel='Nov sales', title='Total sales in Nov per shop')"
      ],
      "execution_count": 0,
      "outputs": [
        {
          "output_type": "execute_result",
          "data": {
            "text/plain": [
              "[Text(0, 0.5, 'Nov sales'),\n",
              " Text(0.5, 0, 'shop id'),\n",
              " Text(0.5, 1.0, 'Total sales in Nov per shop')]"
            ]
          },
          "metadata": {
            "tags": []
          },
          "execution_count": 142
        },
        {
          "output_type": "display_data",
          "data": {
            "image/png": "[encoded data removed]",
            "text/plain": [
              "<Figure size 432x288 with 1 Axes>"
            ]
          },
          "metadata": {
            "tags": []
          }
        }
      ]
    },
    {
      "cell_type": "code",
      "metadata": {
        "id": "SgU6p65DesYx",
        "colab_type": "code",
        "colab": {}
      },
      "source": [
        "top_shops_id = df_shop.sort_values(['item_cnt_month'], axis=0, ascending=False)['shop_id'].unique()[:10]"
      ],
      "execution_count": 0,
      "outputs": []
    },
    {
      "cell_type": "code",
      "metadata": {
        "id": "NYMs3RO-gINL",
        "colab_type": "code",
        "outputId": "47ebd7da-e5fc-479d-84f3-e5729ed9075f",
        "colab": {
          "base_uri": "https://localhost:8080/",
          "height": 34
        }
      },
      "source": [
        "# shops with highest sales (with ranking)\n",
        "top_shops_id"
      ],
      "execution_count": 0,
      "outputs": [
        {
          "output_type": "execute_result",
          "data": {
            "text/plain": [
              "array([55, 12, 31, 25, 22, 18, 24,  7, 42,  6])"
            ]
          },
          "metadata": {
            "tags": []
          },
          "execution_count": 154
        }
      ]
    },
    {
      "cell_type": "code",
      "metadata": {
        "id": "yEOhBSuQf0Dq",
        "colab_type": "code",
        "outputId": "a39996f7-eb79-4258-f78e-a7aa58c60a61",
        "colab": {
          "base_uri": "https://localhost:8080/",
          "height": 207
        }
      },
      "source": [
        "# top shop names (without ranking)\n",
        "shops_data[shops_data['shop_id'].isin(top_shops_id)].shop_name"
      ],
      "execution_count": 0,
      "outputs": [
        {
          "output_type": "execute_result",
          "data": {
            "text/plain": [
              "6           Воронеж (Плехановская, 13)\n",
              "7               Воронеж ТРЦ \"Максимир\"\n",
              "12                 Интернет-магазин ЧС\n",
              "18                Красноярск ТЦ \"Июнь\"\n",
              "22                  Москва Магазин С21\n",
              "24    Москва ТК \"Буденовский\" (пав.К7)\n",
              "25                 Москва ТРК \"Атриум\"\n",
              "31             Москва ТЦ \"Семеновский\"\n",
              "42              СПб ТК \"Невский Центр\"\n",
              "55            Цифровой склад 1С-Онлайн\n",
              "Name: shop_name, dtype: object"
            ]
          },
          "metadata": {
            "tags": []
          },
          "execution_count": 155
        }
      ]
    },
    {
      "cell_type": "markdown",
      "metadata": {
        "id": "TauLRnuAfr9V",
        "colab_type": "text"
      },
      "source": [
        "Those shops will sale very well in next month."
      ]
    },
    {
      "cell_type": "markdown",
      "metadata": {
        "id": "OOit-xIrgdEF",
        "colab_type": "text"
      },
      "source": [
        "### Top sale item name"
      ]
    },
    {
      "cell_type": "code",
      "metadata": {
        "id": "WYmqXRzggcjM",
        "colab_type": "code",
        "outputId": "b810aa0b-73dc-4038-d371-a01bfaed37fd",
        "colab": {
          "base_uri": "https://localhost:8080/",
          "height": 138
        }
      },
      "source": [
        "df_item = new_data \\\n",
        ".groupby(['item_id'])['item_cnt_month'].sum() \\\n",
        ".reset_index()\n",
        "df_item.head(3)"
      ],
      "execution_count": 0,
      "outputs": [
        {
          "output_type": "execute_result",
          "data": {
            "text/html": [
              "<div>\n",
              "<style scoped>\n",
              "    .dataframe tbody tr th:only-of-type {\n",
              "        vertical-align: middle;\n",
              "    }\n",
              "\n",
              "    .dataframe tbody tr th {\n",
              "        vertical-align: top;\n",
              "    }\n",
              "\n",
              "    .dataframe thead th {\n",
              "        text-align: right;\n",
              "    }\n",
              "</style>\n",
              "<table border=\"1\" class=\"dataframe\">\n",
              "  <thead>\n",
              "    <tr style=\"text-align: right;\">\n",
              "      <th></th>\n",
              "      <th>item_id</th>\n",
              "      <th>item_cnt_month</th>\n",
              "    </tr>\n",
              "  </thead>\n",
              "  <tbody>\n",
              "    <tr>\n",
              "      <th>0</th>\n",
              "      <td>30</td>\n",
              "      <td>74.0</td>\n",
              "    </tr>\n",
              "    <tr>\n",
              "      <th>1</th>\n",
              "      <td>31</td>\n",
              "      <td>178.0</td>\n",
              "    </tr>\n",
              "    <tr>\n",
              "      <th>2</th>\n",
              "      <td>32</td>\n",
              "      <td>75.0</td>\n",
              "    </tr>\n",
              "  </tbody>\n",
              "</table>\n",
              "</div>"
            ],
            "text/plain": [
              "   item_id  item_cnt_month\n",
              "0       30            74.0\n",
              "1       31           178.0\n",
              "2       32            75.0"
            ]
          },
          "metadata": {
            "tags": []
          },
          "execution_count": 147
        }
      ]
    },
    {
      "cell_type": "code",
      "metadata": {
        "id": "5od0p6ssgrhJ",
        "colab_type": "code",
        "outputId": "9d1ef45a-7f57-4efa-f9e1-f49b3167c6a6",
        "colab": {
          "base_uri": "https://localhost:8080/",
          "height": 356
        }
      },
      "source": [
        "sns.lineplot(x='item_id', y='item_cnt_month', data=df_item) \\\n",
        ".set(xlabel='item id', ylabel='Nov sales', title='Total sales in Nov per item')"
      ],
      "execution_count": 0,
      "outputs": [
        {
          "output_type": "execute_result",
          "data": {
            "text/plain": [
              "[Text(0, 0.5, 'Nov sales'),\n",
              " Text(0.5, 0, 'item id'),\n",
              " Text(0.5, 1.0, 'Total sales in Nov per item')]"
            ]
          },
          "metadata": {
            "tags": []
          },
          "execution_count": 150
        },
        {
          "output_type": "display_data",
          "data": {
            "image/png": "[encoded data removed]",
            "text/plain": [
              "<Figure size 432x288 with 1 Axes>"
            ]
          },
          "metadata": {
            "tags": []
          }
        }
      ]
    },
    {
      "cell_type": "code",
      "metadata": {
        "id": "M7jWNbBUhPX0",
        "colab_type": "code",
        "colab": {}
      },
      "source": [
        "top_items_id = df_item.sort_values(['item_cnt_month'], axis=0, ascending=False)['item_id'].unique()[:10]"
      ],
      "execution_count": 0,
      "outputs": []
    },
    {
      "cell_type": "code",
      "metadata": {
        "id": "qlx5fsGlhVD-",
        "colab_type": "code",
        "outputId": "c0d4378b-a41e-43e3-d36d-6db31efe3c7b",
        "colab": {
          "base_uri": "https://localhost:8080/",
          "height": 52
        }
      },
      "source": [
        "# items with highest sales (with ranking)\n",
        "top_items_id"
      ],
      "execution_count": 0,
      "outputs": [
        {
          "output_type": "execute_result",
          "data": {
            "text/plain": [
              "array([11170,  3156, 20602,  6073, 15635,  3651,  3652,  9066,  5827,\n",
              "        8656])"
            ]
          },
          "metadata": {
            "tags": []
          },
          "execution_count": 157
        }
      ]
    },
    {
      "cell_type": "code",
      "metadata": {
        "id": "J5_W0PR7hdwj",
        "colab_type": "code",
        "outputId": "73b17878-fde5-405e-df8a-8ffdbe15b9a6",
        "colab": {
          "base_uri": "https://localhost:8080/",
          "height": 207
        }
      },
      "source": [
        "# items with highest sales (without ranking)\n",
        "items[items['item_id'].isin(top_items_id)].item_name"
      ],
      "execution_count": 0,
      "outputs": [
        {
          "output_type": "execute_result",
          "data": {
            "text/plain": [
              "3156     ESET NOD32 Антивирус  продление лицензии  3 ПК...\n",
              "3651                                      GUF  Город дорог\n",
              "3652                                             GUF  Дома\n",
              "5827                            Pokemon XY Двойной блистер\n",
              "6073     Ratchet & Clank Trilogy [PS Vita, английская в...\n",
              "8656                  БАРБОСКИНЫ  ЛУЧШИЕ СЕРИИ  1 (регион)\n",
              "9066                      БУКАШКИ: БУКАШКИ КАРИБСКОГО МОРЯ\n",
              "11170                 ДОМ С ПАРАНОРМАЛЬНЫМИ ЯВЛЕНИЯМИ (BD)\n",
              "15635    НЕВЕРОЯТНЫЕ ПРИКЛЮЧЕНИЯ ИТАЛЬЯНЦЕВ В РОССИИ (р...\n",
              "20602           Фигурка Marvel Universe Deadpool POP 3,75\"\n",
              "Name: item_name, dtype: object"
            ]
          },
          "metadata": {
            "tags": []
          },
          "execution_count": 158
        }
      ]
    },
    {
      "cell_type": "markdown",
      "metadata": {
        "id": "dnNs5Wjmhxl5",
        "colab_type": "text"
      },
      "source": [
        "## Conclusion"
      ]
    },
    {
      "cell_type": "markdown",
      "metadata": {
        "id": "3CCetEAMh3wu",
        "colab_type": "text"
      },
      "source": [
        "- XGBT has the best performance with a r2 score of 0.62, which is higher than random forest and linear regression.\n",
        "\n",
        "- In the past two years, the total sales for all shops have decreased year by year, however, sales go to peak in winter, especially Nov and Dec. It means we should expand our quantity of production, but the reason for the total sale reduction should be further explored.\n",
        "\n",
        "- The most 10 popular items are electrical devices.\n",
        "\n",
        "- From feature imporce, we can see price and specific shop are biggest factors to drive customer buy items.\n",
        "\n",
        "- After prediction the sales for next month, the total sales are better than last two years. Top popular items are games, toys, etc."
      ]
    },
    {
      "cell_type": "markdown",
      "metadata": {
        "id": "0m-QbrSHkRMV",
        "colab_type": "text"
      },
      "source": [
        "## Future work"
      ]
    },
    {
      "cell_type": "markdown",
      "metadata": {
        "id": "tabjIBQlkWNY",
        "colab_type": "text"
      },
      "source": [
        "- Better tune hyperparameters in XGBT with cross-validation.\n",
        "\n",
        "- Feature engineering. Add some features about shop, time lag.\n",
        "\n",
        "- Try time-series model like ARIMA."
      ]
    }
  ]
}